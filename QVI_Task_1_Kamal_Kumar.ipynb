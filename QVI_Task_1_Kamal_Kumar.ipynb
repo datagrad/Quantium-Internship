{
  "nbformat": 4,
  "nbformat_minor": 0,
  "metadata": {
    "colab": {
      "name": "QVI_Task_1_Kamal_Kumar",
      "provenance": [],
      "collapsed_sections": [],
      "include_colab_link": true
    },
    "kernelspec": {
      "display_name": "Python 3",
      "language": "python",
      "name": "python3"
    },
    "language_info": {
      "codemirror_mode": {
        "name": "ipython",
        "version": 3
      },
      "file_extension": ".py",
      "mimetype": "text/x-python",
      "name": "python",
      "nbconvert_exporter": "python",
      "pygments_lexer": "ipython3",
      "version": "3.8.3"
    },
    "toc": {
      "base_numbering": 1,
      "nav_menu": {},
      "number_sections": true,
      "sideBar": true,
      "skip_h1_title": false,
      "title_cell": "Table of Contents",
      "title_sidebar": "Contents",
      "toc_cell": false,
      "toc_position": {},
      "toc_section_display": true,
      "toc_window_display": false
    }
  },
  "cells": [
    {
      "cell_type": "markdown",
      "metadata": {
        "id": "view-in-github",
        "colab_type": "text"
      },
      "source": [
        "<a href=\"https://colab.research.google.com/github/datagrad/Quantium-Internship/blob/main/QVI_Task_1_Kamal_Kumar.ipynb\" target=\"_parent\"><img src=\"https://colab.research.google.com/assets/colab-badge.svg\" alt=\"Open In Colab\"/></a>"
      ]
    },
    {
      "cell_type": "markdown",
      "metadata": {
        "id": "4m_oOykWJzyP"
      },
      "source": [
        "# <span style=\"color:darkred\"><u><center> **Quantium Retail Analysis**\n"
      ]
    },
    {
      "cell_type": "markdown",
      "metadata": {
        "id": "J5KNT_2yMq3n"
      },
      "source": [
        "# QVI_Task 1\n",
        "We need to present a strategic recommendation to Julia that is supported by data which she can then use for the upcoming category review however to do so we need to analyse the data to understand the current purchasing trends and behaviours. The client is particularly interested in customer segments and their chip purchasing behaviour. Consider what metrics would help describe the customers’ purchasing behaviour."
      ]
    },
    {
      "cell_type": "markdown",
      "metadata": {
        "id": "hdWrSX28Mq3o"
      },
      "source": [
        "# **Insights:**\n",
        "  - There are difference in segmentwise total sales and average sales.If we focus on segments which have high avg sales but comparatively less total sales then there are possibilities to increase profit.\n",
        "    - There are so many brands which have opportunity to increase sales. As per avg sale after kettle and doritos there are 6 brands from cheezles to cobs in avg sales graph need focus to increase sales.\n",
        "\n",
        "    - prod_qty 2 has highest total sales but 5 has higest avg sale. need to focus on total sale and avg sale simultaneoulsy. There are possiblities for category 4 to get high total sale as well as high avg sale. \n",
        "\n",
        "    - Midage singles/Couples and New families have high average sale after two high categories but don't have high total sales comapratively. So need to focus in these two groups to increase total sales also with avg sale.\n",
        "  - Top 3 total sales contributor segment are\n",
        "    - Older families (Budget) \\$156,864\n",
        "    - Young Singles/Couples (Mainstream) \\$147,582\n",
        "    - Retirees (Mainstream) \\$145,169\n",
        "  - Young Singles/Couples (Mainstream) has the highest population, followed by Retirees (Mainstream). Which explains their high total sales.\n",
        "\n",
        "  - Despite Older Families not having the highest population, they have the highest frequency of purchase, which contributes to their high total sales.\n",
        "  - Older Families followed by Young Families has the highest average quantity of chips bought per purchase.\n",
        "  - The Mainstream category of the \"Young and Midage Singles/Couples\" have the highest spending of chips per purchase. And the difference to the non-Mainstream \"Young and Midage Singles/Couples\" are statistically significant.\n",
        "  - Chips brand Kettle is dominating every segment as the most purchased brand.\n",
        "  - Observing the 2nd most purchased brand, \"Young and Midage Singles/Couples\" is the only segment with a different preference (Doritos) as compared to others' (Smiths).\n",
        "  - Most frequent chip size purchased is 175gr followed by the 150gr chip size for all segments."
      ]
    },
    {
      "cell_type": "markdown",
      "metadata": {
        "id": "T_MaVQZwMq3p"
      },
      "source": [
        "# **Reccomendations:**\n",
        "- Older Families:\n",
        "  - Focus on the Budget segment.\n",
        "  - Strength: Frequent purchase. We can give promotions that encourages more frequency of purchase.\n",
        "  - Strength: High quantity of chips purchased per visit. We can give promotions that encourage them to buy more quantity of chips per purchase.\n",
        "- Young Singles/Couples:\n",
        "  - Focus on the Mainstream segment.\n",
        "  - This segment is the only segment that had Doritos as their 2nd most purchased brand (after Kettle). To specifically target this segment it might be a good idea to collaborate with Doritos merchant to do some branding promotion catered to \"Young Singles/Couples - Mainstream\" segment.\n",
        "  - Strength: Population quantity. We can spend more effort on making sure our promotions reach them, and it reaches them frequently.\n",
        "- Retirees:\n",
        "  - Focus on the Mainstream segment.\n",
        "  - Strength: Population quantity. Again, since their population quantity is the contributor to the high total sales, we should spend more effort on making sure our promotions reaches as many of them as possible and frequent.\n",
        "- General:\n",
        "  - All segments has Kettle as the most frequently purchased brand, and 175gr (regardless of brand) followed by 150gr as the preferred chip size.\n",
        "  - When promoting chips in general to all segments it is good to take advantage of these two points."
      ]
    },
    {
      "cell_type": "code",
      "metadata": {
        "id": "EsTQArGnMq3q"
      },
      "source": [
        "import pandas as pd\n",
        "import numpy as np\n",
        "import matplotlib.pyplot as plt\n",
        "import matplotlib.ticker as mtick\n",
        "%matplotlib inline\n",
        "plt.rcParams['figure.figsize'] = (13.0, 6.0)\n",
        "from IPython.core.interactiveshell import InteractiveShell\n",
        "InteractiveShell.ast_node_interactivity=\"all\"\n",
        "pd.set_option('display.max_columns', None)  # or 1000\n",
        "pd.set_option('display.max_rows', None)  # or 1000\n",
        "pd.set_option('display.max_colwidth', None)  # or 199"
      ],
      "execution_count": 1,
      "outputs": []
    },
    {
      "cell_type": "code",
      "metadata": {
        "id": "RzURz7D4gvg2"
      },
      "source": [
        "df1 = pd.read_csv(\"https://raw.githubusercontent.com/datagrad/Quantium-Internship/main/QVI_purchase_behaviour.csv\")\n",
        "\n",
        "df2 = pd.read_excel(\"https://raw.githubusercontent.com/datagrad/Quantium-Internship/main/QVI_transaction_data.xlsx\")\n"
      ],
      "execution_count": 2,
      "outputs": []
    },
    {
      "cell_type": "code",
      "metadata": {
        "colab": {
          "base_uri": "https://localhost:8080/",
          "height": 203
        },
        "id": "ncTajOExg0Es",
        "outputId": "8a34b379-5c1a-4948-c4d0-a47ae22d9a15"
      },
      "source": [
        "df1.head()"
      ],
      "execution_count": 3,
      "outputs": [
        {
          "output_type": "execute_result",
          "data": {
            "text/html": [
              "<div>\n",
              "<style scoped>\n",
              "    .dataframe tbody tr th:only-of-type {\n",
              "        vertical-align: middle;\n",
              "    }\n",
              "\n",
              "    .dataframe tbody tr th {\n",
              "        vertical-align: top;\n",
              "    }\n",
              "\n",
              "    .dataframe thead th {\n",
              "        text-align: right;\n",
              "    }\n",
              "</style>\n",
              "<table border=\"1\" class=\"dataframe\">\n",
              "  <thead>\n",
              "    <tr style=\"text-align: right;\">\n",
              "      <th></th>\n",
              "      <th>LYLTY_CARD_NBR</th>\n",
              "      <th>LIFESTAGE</th>\n",
              "      <th>PREMIUM_CUSTOMER</th>\n",
              "    </tr>\n",
              "  </thead>\n",
              "  <tbody>\n",
              "    <tr>\n",
              "      <th>0</th>\n",
              "      <td>1000</td>\n",
              "      <td>YOUNG SINGLES/COUPLES</td>\n",
              "      <td>Premium</td>\n",
              "    </tr>\n",
              "    <tr>\n",
              "      <th>1</th>\n",
              "      <td>1002</td>\n",
              "      <td>YOUNG SINGLES/COUPLES</td>\n",
              "      <td>Mainstream</td>\n",
              "    </tr>\n",
              "    <tr>\n",
              "      <th>2</th>\n",
              "      <td>1003</td>\n",
              "      <td>YOUNG FAMILIES</td>\n",
              "      <td>Budget</td>\n",
              "    </tr>\n",
              "    <tr>\n",
              "      <th>3</th>\n",
              "      <td>1004</td>\n",
              "      <td>OLDER SINGLES/COUPLES</td>\n",
              "      <td>Mainstream</td>\n",
              "    </tr>\n",
              "    <tr>\n",
              "      <th>4</th>\n",
              "      <td>1005</td>\n",
              "      <td>MIDAGE SINGLES/COUPLES</td>\n",
              "      <td>Mainstream</td>\n",
              "    </tr>\n",
              "  </tbody>\n",
              "</table>\n",
              "</div>"
            ],
            "text/plain": [
              "   LYLTY_CARD_NBR               LIFESTAGE PREMIUM_CUSTOMER\n",
              "0            1000   YOUNG SINGLES/COUPLES          Premium\n",
              "1            1002   YOUNG SINGLES/COUPLES       Mainstream\n",
              "2            1003          YOUNG FAMILIES           Budget\n",
              "3            1004   OLDER SINGLES/COUPLES       Mainstream\n",
              "4            1005  MIDAGE SINGLES/COUPLES       Mainstream"
            ]
          },
          "metadata": {},
          "execution_count": 3
        }
      ]
    },
    {
      "cell_type": "code",
      "metadata": {
        "colab": {
          "base_uri": "https://localhost:8080/",
          "height": 203
        },
        "id": "GFQISzNbg6jV",
        "outputId": "b29aa809-69e3-45ac-cf23-7ed65b07a58b"
      },
      "source": [
        "df2.head()"
      ],
      "execution_count": 4,
      "outputs": [
        {
          "output_type": "execute_result",
          "data": {
            "text/html": [
              "<div>\n",
              "<style scoped>\n",
              "    .dataframe tbody tr th:only-of-type {\n",
              "        vertical-align: middle;\n",
              "    }\n",
              "\n",
              "    .dataframe tbody tr th {\n",
              "        vertical-align: top;\n",
              "    }\n",
              "\n",
              "    .dataframe thead th {\n",
              "        text-align: right;\n",
              "    }\n",
              "</style>\n",
              "<table border=\"1\" class=\"dataframe\">\n",
              "  <thead>\n",
              "    <tr style=\"text-align: right;\">\n",
              "      <th></th>\n",
              "      <th>DATE</th>\n",
              "      <th>STORE_NBR</th>\n",
              "      <th>LYLTY_CARD_NBR</th>\n",
              "      <th>TXN_ID</th>\n",
              "      <th>PROD_NBR</th>\n",
              "      <th>PROD_NAME</th>\n",
              "      <th>PROD_QTY</th>\n",
              "      <th>TOT_SALES</th>\n",
              "    </tr>\n",
              "  </thead>\n",
              "  <tbody>\n",
              "    <tr>\n",
              "      <th>0</th>\n",
              "      <td>43390</td>\n",
              "      <td>1</td>\n",
              "      <td>1000</td>\n",
              "      <td>1</td>\n",
              "      <td>5</td>\n",
              "      <td>Natural Chip        Compny SeaSalt175g</td>\n",
              "      <td>2</td>\n",
              "      <td>6.0</td>\n",
              "    </tr>\n",
              "    <tr>\n",
              "      <th>1</th>\n",
              "      <td>43599</td>\n",
              "      <td>1</td>\n",
              "      <td>1307</td>\n",
              "      <td>348</td>\n",
              "      <td>66</td>\n",
              "      <td>CCs Nacho Cheese    175g</td>\n",
              "      <td>3</td>\n",
              "      <td>6.3</td>\n",
              "    </tr>\n",
              "    <tr>\n",
              "      <th>2</th>\n",
              "      <td>43605</td>\n",
              "      <td>1</td>\n",
              "      <td>1343</td>\n",
              "      <td>383</td>\n",
              "      <td>61</td>\n",
              "      <td>Smiths Crinkle Cut  Chips Chicken 170g</td>\n",
              "      <td>2</td>\n",
              "      <td>2.9</td>\n",
              "    </tr>\n",
              "    <tr>\n",
              "      <th>3</th>\n",
              "      <td>43329</td>\n",
              "      <td>2</td>\n",
              "      <td>2373</td>\n",
              "      <td>974</td>\n",
              "      <td>69</td>\n",
              "      <td>Smiths Chip Thinly  S/Cream&amp;Onion 175g</td>\n",
              "      <td>5</td>\n",
              "      <td>15.0</td>\n",
              "    </tr>\n",
              "    <tr>\n",
              "      <th>4</th>\n",
              "      <td>43330</td>\n",
              "      <td>2</td>\n",
              "      <td>2426</td>\n",
              "      <td>1038</td>\n",
              "      <td>108</td>\n",
              "      <td>Kettle Tortilla ChpsHny&amp;Jlpno Chili 150g</td>\n",
              "      <td>3</td>\n",
              "      <td>13.8</td>\n",
              "    </tr>\n",
              "  </tbody>\n",
              "</table>\n",
              "</div>"
            ],
            "text/plain": [
              "    DATE  STORE_NBR  LYLTY_CARD_NBR  TXN_ID  PROD_NBR  \\\n",
              "0  43390          1            1000       1         5   \n",
              "1  43599          1            1307     348        66   \n",
              "2  43605          1            1343     383        61   \n",
              "3  43329          2            2373     974        69   \n",
              "4  43330          2            2426    1038       108   \n",
              "\n",
              "                                  PROD_NAME  PROD_QTY  TOT_SALES  \n",
              "0    Natural Chip        Compny SeaSalt175g         2        6.0  \n",
              "1                  CCs Nacho Cheese    175g         3        6.3  \n",
              "2    Smiths Crinkle Cut  Chips Chicken 170g         2        2.9  \n",
              "3    Smiths Chip Thinly  S/Cream&Onion 175g         5       15.0  \n",
              "4  Kettle Tortilla ChpsHny&Jlpno Chili 150g         3       13.8  "
            ]
          },
          "metadata": {},
          "execution_count": 4
        }
      ]
    },
    {
      "cell_type": "code",
      "metadata": {
        "colab": {
          "base_uri": "https://localhost:8080/",
          "height": 0
        },
        "id": "IWprD5L-g7zN",
        "outputId": "ff8a2c0d-6197-467c-a959-9e4b70c99e6a"
      },
      "source": [
        "df1.shape\n",
        "df2.shape"
      ],
      "execution_count": 5,
      "outputs": [
        {
          "output_type": "execute_result",
          "data": {
            "text/plain": [
              "(72637, 3)"
            ]
          },
          "metadata": {},
          "execution_count": 5
        },
        {
          "output_type": "execute_result",
          "data": {
            "text/plain": [
              "(264836, 8)"
            ]
          },
          "metadata": {},
          "execution_count": 5
        }
      ]
    },
    {
      "cell_type": "code",
      "metadata": {
        "colab": {
          "base_uri": "https://localhost:8080/",
          "height": 0
        },
        "id": "09vvpWaCg_xM",
        "outputId": "c5c6714d-33ac-4231-b25c-6b92d83b1e81"
      },
      "source": [
        "df1.isnull().sum()"
      ],
      "execution_count": 6,
      "outputs": [
        {
          "output_type": "execute_result",
          "data": {
            "text/plain": [
              "LYLTY_CARD_NBR      0\n",
              "LIFESTAGE           0\n",
              "PREMIUM_CUSTOMER    0\n",
              "dtype: int64"
            ]
          },
          "metadata": {},
          "execution_count": 6
        }
      ]
    },
    {
      "cell_type": "code",
      "metadata": {
        "colab": {
          "base_uri": "https://localhost:8080/",
          "height": 0
        },
        "id": "7WZm2CvdhC4t",
        "outputId": "1aec40b2-8305-406f-acb0-b43b5bfd9fc7"
      },
      "source": [
        "df2.isnull().sum()"
      ],
      "execution_count": 7,
      "outputs": [
        {
          "output_type": "execute_result",
          "data": {
            "text/plain": [
              "DATE              0\n",
              "STORE_NBR         0\n",
              "LYLTY_CARD_NBR    0\n",
              "TXN_ID            0\n",
              "PROD_NBR          0\n",
              "PROD_NAME         0\n",
              "PROD_QTY          0\n",
              "TOT_SALES         0\n",
              "dtype: int64"
            ]
          },
          "metadata": {},
          "execution_count": 7
        }
      ]
    },
    {
      "cell_type": "code",
      "metadata": {
        "colab": {
          "base_uri": "https://localhost:8080/",
          "height": 0
        },
        "id": "0UNbTDV9hE5U",
        "outputId": "f5b356e7-9da9-4f1b-a208-061198ae091d"
      },
      "source": [
        "df1.nunique()"
      ],
      "execution_count": 8,
      "outputs": [
        {
          "output_type": "execute_result",
          "data": {
            "text/plain": [
              "LYLTY_CARD_NBR      72637\n",
              "LIFESTAGE               7\n",
              "PREMIUM_CUSTOMER        3\n",
              "dtype: int64"
            ]
          },
          "metadata": {},
          "execution_count": 8
        }
      ]
    },
    {
      "cell_type": "code",
      "metadata": {
        "colab": {
          "base_uri": "https://localhost:8080/",
          "height": 0
        },
        "id": "hZqrj04qhIFF",
        "outputId": "e4089475-ec01-4dff-a8cc-2951adf5ef5c"
      },
      "source": [
        "df2.nunique()"
      ],
      "execution_count": 9,
      "outputs": [
        {
          "output_type": "execute_result",
          "data": {
            "text/plain": [
              "DATE                 364\n",
              "STORE_NBR            272\n",
              "LYLTY_CARD_NBR     72637\n",
              "TXN_ID            263127\n",
              "PROD_NBR             114\n",
              "PROD_NAME            114\n",
              "PROD_QTY               6\n",
              "TOT_SALES            112\n",
              "dtype: int64"
            ]
          },
          "metadata": {},
          "execution_count": 9
        }
      ]
    },
    {
      "cell_type": "code",
      "metadata": {
        "colab": {
          "base_uri": "https://localhost:8080/",
          "height": 0
        },
        "id": "n1_JdCHihJpt",
        "outputId": "eab9baec-3e3f-4ea2-ceed-9e82d3fd3e56"
      },
      "source": [
        "df1.duplicated().sum()"
      ],
      "execution_count": 10,
      "outputs": [
        {
          "output_type": "execute_result",
          "data": {
            "text/plain": [
              "0"
            ]
          },
          "metadata": {},
          "execution_count": 10
        }
      ]
    },
    {
      "cell_type": "code",
      "metadata": {
        "colab": {
          "base_uri": "https://localhost:8080/",
          "height": 0
        },
        "id": "a3XcYBDphNUU",
        "outputId": "900a0080-6936-4452-a015-d74fdb132107"
      },
      "source": [
        "df2.duplicated().sum()"
      ],
      "execution_count": 11,
      "outputs": [
        {
          "output_type": "execute_result",
          "data": {
            "text/plain": [
              "1"
            ]
          },
          "metadata": {},
          "execution_count": 11
        }
      ]
    },
    {
      "cell_type": "code",
      "metadata": {
        "id": "ZZoUUYLqhPVM"
      },
      "source": [
        "df2.drop_duplicates(inplace=True, ignore_index=True) #deleting single duplicate value"
      ],
      "execution_count": 12,
      "outputs": []
    },
    {
      "cell_type": "code",
      "metadata": {
        "colab": {
          "base_uri": "https://localhost:8080/",
          "height": 0
        },
        "id": "4d89KdIghSQ9",
        "outputId": "396c61e6-ea1d-4073-db12-1e8806f9ac23"
      },
      "source": [
        "df2.shape"
      ],
      "execution_count": 13,
      "outputs": [
        {
          "output_type": "execute_result",
          "data": {
            "text/plain": [
              "(264835, 8)"
            ]
          },
          "metadata": {},
          "execution_count": 13
        }
      ]
    },
    {
      "cell_type": "code",
      "metadata": {
        "id": "1A0YHQDmhUPO"
      },
      "source": [
        "mdf = pd.merge(df1, df2, on=\"LYLTY_CARD_NBR\", how=\"right\")"
      ],
      "execution_count": 14,
      "outputs": []
    },
    {
      "cell_type": "code",
      "metadata": {
        "colab": {
          "base_uri": "https://localhost:8080/",
          "height": 203
        },
        "id": "850fpgsthp67",
        "outputId": "5008cccd-23f1-4f56-8e1b-595cc90f3fd2"
      },
      "source": [
        "mdf.head()"
      ],
      "execution_count": 15,
      "outputs": [
        {
          "output_type": "execute_result",
          "data": {
            "text/html": [
              "<div>\n",
              "<style scoped>\n",
              "    .dataframe tbody tr th:only-of-type {\n",
              "        vertical-align: middle;\n",
              "    }\n",
              "\n",
              "    .dataframe tbody tr th {\n",
              "        vertical-align: top;\n",
              "    }\n",
              "\n",
              "    .dataframe thead th {\n",
              "        text-align: right;\n",
              "    }\n",
              "</style>\n",
              "<table border=\"1\" class=\"dataframe\">\n",
              "  <thead>\n",
              "    <tr style=\"text-align: right;\">\n",
              "      <th></th>\n",
              "      <th>LYLTY_CARD_NBR</th>\n",
              "      <th>LIFESTAGE</th>\n",
              "      <th>PREMIUM_CUSTOMER</th>\n",
              "      <th>DATE</th>\n",
              "      <th>STORE_NBR</th>\n",
              "      <th>TXN_ID</th>\n",
              "      <th>PROD_NBR</th>\n",
              "      <th>PROD_NAME</th>\n",
              "      <th>PROD_QTY</th>\n",
              "      <th>TOT_SALES</th>\n",
              "    </tr>\n",
              "  </thead>\n",
              "  <tbody>\n",
              "    <tr>\n",
              "      <th>0</th>\n",
              "      <td>1000</td>\n",
              "      <td>YOUNG SINGLES/COUPLES</td>\n",
              "      <td>Premium</td>\n",
              "      <td>43390</td>\n",
              "      <td>1</td>\n",
              "      <td>1</td>\n",
              "      <td>5</td>\n",
              "      <td>Natural Chip        Compny SeaSalt175g</td>\n",
              "      <td>2</td>\n",
              "      <td>6.0</td>\n",
              "    </tr>\n",
              "    <tr>\n",
              "      <th>1</th>\n",
              "      <td>1307</td>\n",
              "      <td>MIDAGE SINGLES/COUPLES</td>\n",
              "      <td>Budget</td>\n",
              "      <td>43599</td>\n",
              "      <td>1</td>\n",
              "      <td>348</td>\n",
              "      <td>66</td>\n",
              "      <td>CCs Nacho Cheese    175g</td>\n",
              "      <td>3</td>\n",
              "      <td>6.3</td>\n",
              "    </tr>\n",
              "    <tr>\n",
              "      <th>2</th>\n",
              "      <td>1307</td>\n",
              "      <td>MIDAGE SINGLES/COUPLES</td>\n",
              "      <td>Budget</td>\n",
              "      <td>43414</td>\n",
              "      <td>1</td>\n",
              "      <td>346</td>\n",
              "      <td>96</td>\n",
              "      <td>WW Original Stacked Chips 160g</td>\n",
              "      <td>2</td>\n",
              "      <td>3.8</td>\n",
              "    </tr>\n",
              "    <tr>\n",
              "      <th>3</th>\n",
              "      <td>1307</td>\n",
              "      <td>MIDAGE SINGLES/COUPLES</td>\n",
              "      <td>Budget</td>\n",
              "      <td>43533</td>\n",
              "      <td>1</td>\n",
              "      <td>347</td>\n",
              "      <td>54</td>\n",
              "      <td>CCs Original 175g</td>\n",
              "      <td>1</td>\n",
              "      <td>2.1</td>\n",
              "    </tr>\n",
              "    <tr>\n",
              "      <th>4</th>\n",
              "      <td>1343</td>\n",
              "      <td>MIDAGE SINGLES/COUPLES</td>\n",
              "      <td>Budget</td>\n",
              "      <td>43605</td>\n",
              "      <td>1</td>\n",
              "      <td>383</td>\n",
              "      <td>61</td>\n",
              "      <td>Smiths Crinkle Cut  Chips Chicken 170g</td>\n",
              "      <td>2</td>\n",
              "      <td>2.9</td>\n",
              "    </tr>\n",
              "  </tbody>\n",
              "</table>\n",
              "</div>"
            ],
            "text/plain": [
              "   LYLTY_CARD_NBR               LIFESTAGE PREMIUM_CUSTOMER   DATE  STORE_NBR  \\\n",
              "0            1000   YOUNG SINGLES/COUPLES          Premium  43390          1   \n",
              "1            1307  MIDAGE SINGLES/COUPLES           Budget  43599          1   \n",
              "2            1307  MIDAGE SINGLES/COUPLES           Budget  43414          1   \n",
              "3            1307  MIDAGE SINGLES/COUPLES           Budget  43533          1   \n",
              "4            1343  MIDAGE SINGLES/COUPLES           Budget  43605          1   \n",
              "\n",
              "   TXN_ID  PROD_NBR                               PROD_NAME  PROD_QTY  \\\n",
              "0       1         5  Natural Chip        Compny SeaSalt175g         2   \n",
              "1     348        66                CCs Nacho Cheese    175g         3   \n",
              "2     346        96          WW Original Stacked Chips 160g         2   \n",
              "3     347        54                       CCs Original 175g         1   \n",
              "4     383        61  Smiths Crinkle Cut  Chips Chicken 170g         2   \n",
              "\n",
              "   TOT_SALES  \n",
              "0        6.0  \n",
              "1        6.3  \n",
              "2        3.8  \n",
              "3        2.1  \n",
              "4        2.9  "
            ]
          },
          "metadata": {},
          "execution_count": 15
        }
      ]
    },
    {
      "cell_type": "code",
      "metadata": {
        "colab": {
          "base_uri": "https://localhost:8080/",
          "height": 0
        },
        "id": "F3T-PNGKhrkr",
        "outputId": "73c6527b-d993-443f-b888-5a1bc9b9932d"
      },
      "source": [
        "mdf.shape"
      ],
      "execution_count": 16,
      "outputs": [
        {
          "output_type": "execute_result",
          "data": {
            "text/plain": [
              "(264835, 10)"
            ]
          },
          "metadata": {},
          "execution_count": 16
        }
      ]
    },
    {
      "cell_type": "code",
      "metadata": {
        "colab": {
          "base_uri": "https://localhost:8080/",
          "height": 0
        },
        "id": "g8tPfzFKiC5V",
        "outputId": "407edb52-9620-4b4f-99e8-ad6e3dc1e9d0"
      },
      "source": [
        "mdf.info()"
      ],
      "execution_count": 17,
      "outputs": [
        {
          "output_type": "stream",
          "text": [
            "<class 'pandas.core.frame.DataFrame'>\n",
            "Int64Index: 264835 entries, 0 to 264834\n",
            "Data columns (total 10 columns):\n",
            " #   Column            Non-Null Count   Dtype  \n",
            "---  ------            --------------   -----  \n",
            " 0   LYLTY_CARD_NBR    264835 non-null  int64  \n",
            " 1   LIFESTAGE         264835 non-null  object \n",
            " 2   PREMIUM_CUSTOMER  264835 non-null  object \n",
            " 3   DATE              264835 non-null  int64  \n",
            " 4   STORE_NBR         264835 non-null  int64  \n",
            " 5   TXN_ID            264835 non-null  int64  \n",
            " 6   PROD_NBR          264835 non-null  int64  \n",
            " 7   PROD_NAME         264835 non-null  object \n",
            " 8   PROD_QTY          264835 non-null  int64  \n",
            " 9   TOT_SALES         264835 non-null  float64\n",
            "dtypes: float64(1), int64(6), object(3)\n",
            "memory usage: 22.2+ MB\n"
          ],
          "name": "stdout"
        }
      ]
    },
    {
      "cell_type": "markdown",
      "metadata": {
        "id": "hCkqJRPij4tC"
      },
      "source": [
        "# **Convert DATE column to a date format**"
      ]
    },
    {
      "cell_type": "code",
      "metadata": {
        "id": "qqzNwlZSiLbc"
      },
      "source": [
        "from datetime import date, timedelta\n",
        "start = date(1899,12,30) #A quick search online tells us that CSV and Excel integer dates begin on 30 Dec 1899\n",
        "\n",
        "new_date_format = []\n",
        "\n",
        "for date in mdf[\"DATE\"]:\n",
        "    delta = timedelta(date)\n",
        "    new_date_format.append(start + delta)"
      ],
      "execution_count": 18,
      "outputs": []
    },
    {
      "cell_type": "code",
      "metadata": {
        "id": "GLb_CjykjOPk"
      },
      "source": [
        "mdf[\"DATE\"] = pd.to_datetime(pd.Series(new_date_format))"
      ],
      "execution_count": 19,
      "outputs": []
    },
    {
      "cell_type": "code",
      "metadata": {
        "colab": {
          "base_uri": "https://localhost:8080/",
          "height": 203
        },
        "id": "8q2bT3SbjqYE",
        "outputId": "c219244d-4105-4a71-bcc0-c5df99f460e6"
      },
      "source": [
        "mdf.head()"
      ],
      "execution_count": 20,
      "outputs": [
        {
          "output_type": "execute_result",
          "data": {
            "text/html": [
              "<div>\n",
              "<style scoped>\n",
              "    .dataframe tbody tr th:only-of-type {\n",
              "        vertical-align: middle;\n",
              "    }\n",
              "\n",
              "    .dataframe tbody tr th {\n",
              "        vertical-align: top;\n",
              "    }\n",
              "\n",
              "    .dataframe thead th {\n",
              "        text-align: right;\n",
              "    }\n",
              "</style>\n",
              "<table border=\"1\" class=\"dataframe\">\n",
              "  <thead>\n",
              "    <tr style=\"text-align: right;\">\n",
              "      <th></th>\n",
              "      <th>LYLTY_CARD_NBR</th>\n",
              "      <th>LIFESTAGE</th>\n",
              "      <th>PREMIUM_CUSTOMER</th>\n",
              "      <th>DATE</th>\n",
              "      <th>STORE_NBR</th>\n",
              "      <th>TXN_ID</th>\n",
              "      <th>PROD_NBR</th>\n",
              "      <th>PROD_NAME</th>\n",
              "      <th>PROD_QTY</th>\n",
              "      <th>TOT_SALES</th>\n",
              "    </tr>\n",
              "  </thead>\n",
              "  <tbody>\n",
              "    <tr>\n",
              "      <th>0</th>\n",
              "      <td>1000</td>\n",
              "      <td>YOUNG SINGLES/COUPLES</td>\n",
              "      <td>Premium</td>\n",
              "      <td>2018-10-17</td>\n",
              "      <td>1</td>\n",
              "      <td>1</td>\n",
              "      <td>5</td>\n",
              "      <td>Natural Chip        Compny SeaSalt175g</td>\n",
              "      <td>2</td>\n",
              "      <td>6.0</td>\n",
              "    </tr>\n",
              "    <tr>\n",
              "      <th>1</th>\n",
              "      <td>1307</td>\n",
              "      <td>MIDAGE SINGLES/COUPLES</td>\n",
              "      <td>Budget</td>\n",
              "      <td>2019-05-14</td>\n",
              "      <td>1</td>\n",
              "      <td>348</td>\n",
              "      <td>66</td>\n",
              "      <td>CCs Nacho Cheese    175g</td>\n",
              "      <td>3</td>\n",
              "      <td>6.3</td>\n",
              "    </tr>\n",
              "    <tr>\n",
              "      <th>2</th>\n",
              "      <td>1307</td>\n",
              "      <td>MIDAGE SINGLES/COUPLES</td>\n",
              "      <td>Budget</td>\n",
              "      <td>2018-11-10</td>\n",
              "      <td>1</td>\n",
              "      <td>346</td>\n",
              "      <td>96</td>\n",
              "      <td>WW Original Stacked Chips 160g</td>\n",
              "      <td>2</td>\n",
              "      <td>3.8</td>\n",
              "    </tr>\n",
              "    <tr>\n",
              "      <th>3</th>\n",
              "      <td>1307</td>\n",
              "      <td>MIDAGE SINGLES/COUPLES</td>\n",
              "      <td>Budget</td>\n",
              "      <td>2019-03-09</td>\n",
              "      <td>1</td>\n",
              "      <td>347</td>\n",
              "      <td>54</td>\n",
              "      <td>CCs Original 175g</td>\n",
              "      <td>1</td>\n",
              "      <td>2.1</td>\n",
              "    </tr>\n",
              "    <tr>\n",
              "      <th>4</th>\n",
              "      <td>1343</td>\n",
              "      <td>MIDAGE SINGLES/COUPLES</td>\n",
              "      <td>Budget</td>\n",
              "      <td>2019-05-20</td>\n",
              "      <td>1</td>\n",
              "      <td>383</td>\n",
              "      <td>61</td>\n",
              "      <td>Smiths Crinkle Cut  Chips Chicken 170g</td>\n",
              "      <td>2</td>\n",
              "      <td>2.9</td>\n",
              "    </tr>\n",
              "  </tbody>\n",
              "</table>\n",
              "</div>"
            ],
            "text/plain": [
              "   LYLTY_CARD_NBR               LIFESTAGE PREMIUM_CUSTOMER       DATE  \\\n",
              "0            1000   YOUNG SINGLES/COUPLES          Premium 2018-10-17   \n",
              "1            1307  MIDAGE SINGLES/COUPLES           Budget 2019-05-14   \n",
              "2            1307  MIDAGE SINGLES/COUPLES           Budget 2018-11-10   \n",
              "3            1307  MIDAGE SINGLES/COUPLES           Budget 2019-03-09   \n",
              "4            1343  MIDAGE SINGLES/COUPLES           Budget 2019-05-20   \n",
              "\n",
              "   STORE_NBR  TXN_ID  PROD_NBR                               PROD_NAME  \\\n",
              "0          1       1         5  Natural Chip        Compny SeaSalt175g   \n",
              "1          1     348        66                CCs Nacho Cheese    175g   \n",
              "2          1     346        96          WW Original Stacked Chips 160g   \n",
              "3          1     347        54                       CCs Original 175g   \n",
              "4          1     383        61  Smiths Crinkle Cut  Chips Chicken 170g   \n",
              "\n",
              "   PROD_QTY  TOT_SALES  \n",
              "0         2        6.0  \n",
              "1         3        6.3  \n",
              "2         2        3.8  \n",
              "3         1        2.1  \n",
              "4         2        2.9  "
            ]
          },
          "metadata": {},
          "execution_count": 20
        }
      ]
    },
    {
      "cell_type": "code",
      "metadata": {
        "colab": {
          "base_uri": "https://localhost:8080/",
          "height": 0
        },
        "id": "SoooXeF1jr3c",
        "outputId": "46efb7fc-e572-4642-ec85-12ead20683ec"
      },
      "source": [
        "mdf[\"DATE\"].dtype"
      ],
      "execution_count": 21,
      "outputs": [
        {
          "output_type": "execute_result",
          "data": {
            "text/plain": [
              "dtype('<M8[ns]')"
            ]
          },
          "metadata": {},
          "execution_count": 21
        }
      ]
    },
    {
      "cell_type": "markdown",
      "metadata": {
        "id": "dXrltDffkEaT"
      },
      "source": [
        "# **looking at the right products by examining PROD_NAME**"
      ]
    },
    {
      "cell_type": "code",
      "metadata": {
        "colab": {
          "base_uri": "https://localhost:8080/",
          "height": 0
        },
        "id": "w_Y0Fnr-jyZ7",
        "outputId": "39261397-b829-4200-ec3f-bd49198db5ca"
      },
      "source": [
        "mdf[\"PROD_NAME\"].unique()"
      ],
      "execution_count": 22,
      "outputs": [
        {
          "output_type": "execute_result",
          "data": {
            "text/plain": [
              "array(['Natural Chip        Compny SeaSalt175g',\n",
              "       'CCs Nacho Cheese    175g', 'WW Original Stacked Chips 160g',\n",
              "       'CCs Original 175g', 'Smiths Crinkle Cut  Chips Chicken 170g',\n",
              "       'Smiths Chip Thinly  S/Cream&Onion 175g',\n",
              "       'Kettle Tortilla ChpsHny&Jlpno Chili 150g',\n",
              "       'Old El Paso Salsa   Dip Tomato Mild 300g',\n",
              "       'Tyrrells Crisps     Lightly Salted 165g',\n",
              "       'Kettle Tortilla ChpsFeta&Garlic 150g',\n",
              "       'Dorito Corn Chp     Supreme 380g', 'Doritos Mexicana    170g',\n",
              "       'Smiths Crinkle Chips Salt & Vinegar 330g', 'Kettle Original 175g',\n",
              "       'Tyrrells Crisps     Ched & Chives 165g',\n",
              "       'Infuzions BBQ Rib   Prawn Crackers 110g',\n",
              "       'Grain Waves         Sweet Chilli 210g',\n",
              "       'Old El Paso Salsa   Dip Tomato Med 300g',\n",
              "       'Doritos Corn Chip Southern Chicken 150g',\n",
              "       'Thins Potato Chips  Hot & Spicy 175g',\n",
              "       'Doritos Corn Chip Mexican Jalapeno 150g',\n",
              "       'Red Rock Deli Thai  Chilli&Lime 150g',\n",
              "       'GrnWves Plus Btroot & Chilli Jam 180g',\n",
              "       'WW D/Style Chip     Sea Salt 200g',\n",
              "       'Thins Chips Light&  Tangy 175g',\n",
              "       'Grain Waves Sour    Cream&Chives 210G',\n",
              "       'Tostitos Smoked     Chipotle 175g',\n",
              "       'Infuzions Thai SweetChili PotatoMix 110g',\n",
              "       'Kettle Sensations   Siracha Lime 150g',\n",
              "       'Pringles Chicken    Salt Crips 134g',\n",
              "       'Thins Chips Salt &  Vinegar 175g',\n",
              "       'Cobs Popd Swt/Chlli &Sr/Cream Chips 110g',\n",
              "       'Twisties Cheese     270g', 'WW Crinkle Cut      Chicken 175g',\n",
              "       'RRD Sweet Chilli &  Sour Cream 165g',\n",
              "       'Doritos Corn Chips  Cheese Supreme 170g',\n",
              "       'RRD Salt & Vinegar  165g', 'Doritos Corn Chips  Original 170g',\n",
              "       'Smiths Crinkle      Original 330g',\n",
              "       'Infzns Crn Crnchers Tangy Gcamole 110g',\n",
              "       'Kettle Sea Salt     And Vinegar 175g',\n",
              "       'Red Rock Deli Chikn&Garlic Aioli 150g',\n",
              "       'RRD SR Slow Rst     Pork Belly 150g', 'Burger Rings 220g',\n",
              "       'NCC Sour Cream &    Garden Chives 175g',\n",
              "       'Smiths Crinkle Cut  French OnionDip 150g',\n",
              "       'Natural ChipCo Sea  Salt & Vinegr 175g',\n",
              "       'Cheezels Cheese Box 125g', 'CCs Tasty Cheese    175g',\n",
              "       'Smith Crinkle Cut   Bolognese 150g', 'Pringles Slt Vingar 134g',\n",
              "       'WW Sour Cream &OnionStacked Chips 160g',\n",
              "       'Doritos Salsa Mild  300g', 'Pringles Original   Crisps 134g',\n",
              "       'Pringles Sthrn FriedChicken 134g',\n",
              "       'Pringles SourCream  Onion 134g',\n",
              "       'Smiths Crinkle Cut  Chips Barbecue 170g',\n",
              "       'Infuzions Mango     Chutny Papadums 70g',\n",
              "       'RRD Pc Sea Salt     165g', 'Doritos Salsa       Medium 300g',\n",
              "       'Old El Paso Salsa   Dip Chnky Tom Ht300g',\n",
              "       'Smiths Chip Thinly  Cut Original 175g', 'Twisties Chicken270g',\n",
              "       'Smiths Crinkle Cut  Tomato Salsa 150g',\n",
              "       'Kettle 135g Swt Pot Sea Salt',\n",
              "       'Natural ChipCo      Hony Soy Chckn175g',\n",
              "       'Kettle Sweet Chilli And Sour Cream 175g',\n",
              "       'WW Supreme Cheese   Corn Chips 200g',\n",
              "       'WW Original Corn    Chips 200g',\n",
              "       'Cobs Popd Sour Crm  &Chives Chips 110g',\n",
              "       'Pringles Sweet&Spcy BBQ 134g', 'Doritos Cheese      Supreme 330g',\n",
              "       'Red Rock Deli SR    Salsa & Mzzrlla 150g',\n",
              "       'Pringles Mystery    Flavour 134g',\n",
              "       'Thins Chips         Originl saltd 175g',\n",
              "       'Smiths Thinly Cut   Roast Chicken 175g',\n",
              "       'Kettle Mozzarella   Basil & Pesto 175g',\n",
              "       'Smiths Crinkle Cut  Salt & Vinegar 170g',\n",
              "       'Red Rock Deli Sp    Salt & Truffle 150G',\n",
              "       'Smiths Thinly       Swt Chli&S/Cream175G', 'Kettle Chilli 175g',\n",
              "       'Kettle Honey Soy    Chicken 175g', 'Pringles Barbeque   134g',\n",
              "       'Kettle Sensations   BBQ&Maple 150g',\n",
              "       'RRD Steak &         Chimuchurri 150g',\n",
              "       'Doritos Corn Chips  Nacho Cheese 170g',\n",
              "       'Tostitos Splash Of  Lime 175g',\n",
              "       'Kettle Sensations   Camembert & Fig 150g',\n",
              "       'Cobs Popd Sea Salt  Chips 110g',\n",
              "       'Smith Crinkle Cut   Mac N Cheese 150g',\n",
              "       'Woolworths Mild     Salsa 300g',\n",
              "       'Smiths Crinkle Cut  Snag&Sauce 150g',\n",
              "       'Thins Chips Seasonedchicken 175g',\n",
              "       'Woolworths Medium   Salsa 300g',\n",
              "       'Kettle Tortilla ChpsBtroot&Ricotta 150g',\n",
              "       'Infuzions SourCream&Herbs Veg Strws 110g', 'Cheezels Cheese 330g',\n",
              "       'RRD Chilli&         Coconut 150g',\n",
              "       'Smiths Crinkle Cut  Chips Chs&Onion170g',\n",
              "       'Smiths Chip Thinly  CutSalt/Vinegr175g',\n",
              "       'Twisties Cheese     Burger 250g', 'RRD Lime & Pepper   165g',\n",
              "       'RRD Honey Soy       Chicken 165g',\n",
              "       'French Fries Potato Chips 175g',\n",
              "       'Natural Chip Co     Tmato Hrb&Spce 175g',\n",
              "       'Sunbites Whlegrn    Crisps Frch/Onin 90g', 'Cheetos Puffs 165g',\n",
              "       'Smiths Crinkle Cut  Chips Original 170g',\n",
              "       'Tostitos Lightly    Salted 175g',\n",
              "       'Woolworths Cheese   Rings 190g',\n",
              "       'Smiths Crnkle Chip  Orgnl Big Bag 380g',\n",
              "       'Snbts Whlgrn Crisps Cheddr&Mstrd 90g',\n",
              "       'WW Crinkle Cut      Original 175g',\n",
              "       'Cheetos Chs & Bacon Balls 190g'], dtype=object)"
            ]
          },
          "metadata": {},
          "execution_count": 22
        }
      ]
    },
    {
      "cell_type": "code",
      "metadata": {
        "id": "vqTZq9GZkL7r"
      },
      "source": [
        "split_prods = mdf[\"PROD_NAME\"].str.replace(r'([0-9]+[gG])','').str.replace(r'[^\\w]', ' ').str.split()"
      ],
      "execution_count": 23,
      "outputs": []
    },
    {
      "cell_type": "code",
      "metadata": {
        "id": "yNO1uLgAkidT"
      },
      "source": [
        "word_counts = {}\n",
        "\n",
        "def count_words(line):\n",
        "    for word in line:\n",
        "        if word not in word_counts:\n",
        "            word_counts[word] = 1\n",
        "        else:\n",
        "            word_counts[word] += 1\n",
        "            \n",
        "#split_prods.apply(lambda line: count_words(line))\n"
      ],
      "execution_count": 24,
      "outputs": []
    },
    {
      "cell_type": "code",
      "metadata": {
        "id": "hQQWgpSA2CSl"
      },
      "source": [
        "mdf1 = mdf[~mdf[\"PROD_NAME\"].str.contains(r\"[Ss]alsa\")]"
      ],
      "execution_count": 25,
      "outputs": []
    },
    {
      "cell_type": "code",
      "metadata": {
        "colab": {
          "base_uri": "https://localhost:8080/",
          "height": 0
        },
        "id": "ydwJGUQx2jLl",
        "outputId": "674b85ad-ce56-4ffe-82f9-7ac8954757a6"
      },
      "source": [
        "mdf1.shape"
      ],
      "execution_count": 26,
      "outputs": [
        {
          "output_type": "execute_result",
          "data": {
            "text/plain": [
              "(246741, 10)"
            ]
          },
          "metadata": {},
          "execution_count": 26
        }
      ]
    },
    {
      "cell_type": "code",
      "metadata": {
        "colab": {
          "base_uri": "https://localhost:8080/",
          "height": 0
        },
        "id": "YYc6SeP52rPW",
        "outputId": "f14048b5-df72-41f6-a29c-8e0739ff4a20"
      },
      "source": [
        "mdf.shape"
      ],
      "execution_count": 27,
      "outputs": [
        {
          "output_type": "execute_result",
          "data": {
            "text/plain": [
              "(264835, 10)"
            ]
          },
          "metadata": {},
          "execution_count": 27
        }
      ]
    },
    {
      "cell_type": "code",
      "metadata": {
        "colab": {
          "base_uri": "https://localhost:8080/",
          "height": 203
        },
        "id": "OMvPue6m2vss",
        "outputId": "32ee78c5-7fd1-4026-c8e3-715b4b0aa5e3"
      },
      "source": [
        "mdf1.head()"
      ],
      "execution_count": 28,
      "outputs": [
        {
          "output_type": "execute_result",
          "data": {
            "text/html": [
              "<div>\n",
              "<style scoped>\n",
              "    .dataframe tbody tr th:only-of-type {\n",
              "        vertical-align: middle;\n",
              "    }\n",
              "\n",
              "    .dataframe tbody tr th {\n",
              "        vertical-align: top;\n",
              "    }\n",
              "\n",
              "    .dataframe thead th {\n",
              "        text-align: right;\n",
              "    }\n",
              "</style>\n",
              "<table border=\"1\" class=\"dataframe\">\n",
              "  <thead>\n",
              "    <tr style=\"text-align: right;\">\n",
              "      <th></th>\n",
              "      <th>LYLTY_CARD_NBR</th>\n",
              "      <th>LIFESTAGE</th>\n",
              "      <th>PREMIUM_CUSTOMER</th>\n",
              "      <th>DATE</th>\n",
              "      <th>STORE_NBR</th>\n",
              "      <th>TXN_ID</th>\n",
              "      <th>PROD_NBR</th>\n",
              "      <th>PROD_NAME</th>\n",
              "      <th>PROD_QTY</th>\n",
              "      <th>TOT_SALES</th>\n",
              "    </tr>\n",
              "  </thead>\n",
              "  <tbody>\n",
              "    <tr>\n",
              "      <th>0</th>\n",
              "      <td>1000</td>\n",
              "      <td>YOUNG SINGLES/COUPLES</td>\n",
              "      <td>Premium</td>\n",
              "      <td>2018-10-17</td>\n",
              "      <td>1</td>\n",
              "      <td>1</td>\n",
              "      <td>5</td>\n",
              "      <td>Natural Chip        Compny SeaSalt175g</td>\n",
              "      <td>2</td>\n",
              "      <td>6.0</td>\n",
              "    </tr>\n",
              "    <tr>\n",
              "      <th>1</th>\n",
              "      <td>1307</td>\n",
              "      <td>MIDAGE SINGLES/COUPLES</td>\n",
              "      <td>Budget</td>\n",
              "      <td>2019-05-14</td>\n",
              "      <td>1</td>\n",
              "      <td>348</td>\n",
              "      <td>66</td>\n",
              "      <td>CCs Nacho Cheese    175g</td>\n",
              "      <td>3</td>\n",
              "      <td>6.3</td>\n",
              "    </tr>\n",
              "    <tr>\n",
              "      <th>2</th>\n",
              "      <td>1307</td>\n",
              "      <td>MIDAGE SINGLES/COUPLES</td>\n",
              "      <td>Budget</td>\n",
              "      <td>2018-11-10</td>\n",
              "      <td>1</td>\n",
              "      <td>346</td>\n",
              "      <td>96</td>\n",
              "      <td>WW Original Stacked Chips 160g</td>\n",
              "      <td>2</td>\n",
              "      <td>3.8</td>\n",
              "    </tr>\n",
              "    <tr>\n",
              "      <th>3</th>\n",
              "      <td>1307</td>\n",
              "      <td>MIDAGE SINGLES/COUPLES</td>\n",
              "      <td>Budget</td>\n",
              "      <td>2019-03-09</td>\n",
              "      <td>1</td>\n",
              "      <td>347</td>\n",
              "      <td>54</td>\n",
              "      <td>CCs Original 175g</td>\n",
              "      <td>1</td>\n",
              "      <td>2.1</td>\n",
              "    </tr>\n",
              "    <tr>\n",
              "      <th>4</th>\n",
              "      <td>1343</td>\n",
              "      <td>MIDAGE SINGLES/COUPLES</td>\n",
              "      <td>Budget</td>\n",
              "      <td>2019-05-20</td>\n",
              "      <td>1</td>\n",
              "      <td>383</td>\n",
              "      <td>61</td>\n",
              "      <td>Smiths Crinkle Cut  Chips Chicken 170g</td>\n",
              "      <td>2</td>\n",
              "      <td>2.9</td>\n",
              "    </tr>\n",
              "  </tbody>\n",
              "</table>\n",
              "</div>"
            ],
            "text/plain": [
              "   LYLTY_CARD_NBR               LIFESTAGE PREMIUM_CUSTOMER       DATE  \\\n",
              "0            1000   YOUNG SINGLES/COUPLES          Premium 2018-10-17   \n",
              "1            1307  MIDAGE SINGLES/COUPLES           Budget 2019-05-14   \n",
              "2            1307  MIDAGE SINGLES/COUPLES           Budget 2018-11-10   \n",
              "3            1307  MIDAGE SINGLES/COUPLES           Budget 2019-03-09   \n",
              "4            1343  MIDAGE SINGLES/COUPLES           Budget 2019-05-20   \n",
              "\n",
              "   STORE_NBR  TXN_ID  PROD_NBR                               PROD_NAME  \\\n",
              "0          1       1         5  Natural Chip        Compny SeaSalt175g   \n",
              "1          1     348        66                CCs Nacho Cheese    175g   \n",
              "2          1     346        96          WW Original Stacked Chips 160g   \n",
              "3          1     347        54                       CCs Original 175g   \n",
              "4          1     383        61  Smiths Crinkle Cut  Chips Chicken 170g   \n",
              "\n",
              "   PROD_QTY  TOT_SALES  \n",
              "0         2        6.0  \n",
              "1         3        6.3  \n",
              "2         2        3.8  \n",
              "3         1        2.1  \n",
              "4         2        2.9  "
            ]
          },
          "metadata": {},
          "execution_count": 28
        }
      ]
    },
    {
      "cell_type": "code",
      "metadata": {
        "colab": {
          "base_uri": "https://localhost:8080/",
          "height": 0
        },
        "id": "gG3X9pov3DdC",
        "outputId": "9e45e6e4-b482-4dea-95d8-918ecb2943be"
      },
      "source": [
        "mdf1[\"PROD_QTY\"].value_counts(bins=4).sort_index()"
      ],
      "execution_count": 29,
      "outputs": [
        {
          "output_type": "execute_result",
          "data": {
            "text/plain": [
              "(0.8, 50.75]       246739\n",
              "(50.75, 100.5]          0\n",
              "(100.5, 150.25]         0\n",
              "(150.25, 200.0]         2\n",
              "Name: PROD_QTY, dtype: int64"
            ]
          },
          "metadata": {},
          "execution_count": 29
        }
      ]
    },
    {
      "cell_type": "markdown",
      "metadata": {
        "id": "mfglqpoRru-d"
      },
      "source": [
        "**2 outliers (value = 200) in PROD_QTY will be removed. Both entries are by the same customer, we will examine this customer's other transactions.**"
      ]
    },
    {
      "cell_type": "code",
      "metadata": {
        "colab": {
          "base_uri": "https://localhost:8080/",
          "height": 203
        },
        "id": "AwjBVWfv3flE",
        "outputId": "129acc9a-0ae6-4f40-9823-c4c39bace530"
      },
      "source": [
        "mdf1.sort_values(by=\"PROD_QTY\", ascending=False).head()"
      ],
      "execution_count": 30,
      "outputs": [
        {
          "output_type": "execute_result",
          "data": {
            "text/html": [
              "<div>\n",
              "<style scoped>\n",
              "    .dataframe tbody tr th:only-of-type {\n",
              "        vertical-align: middle;\n",
              "    }\n",
              "\n",
              "    .dataframe tbody tr th {\n",
              "        vertical-align: top;\n",
              "    }\n",
              "\n",
              "    .dataframe thead th {\n",
              "        text-align: right;\n",
              "    }\n",
              "</style>\n",
              "<table border=\"1\" class=\"dataframe\">\n",
              "  <thead>\n",
              "    <tr style=\"text-align: right;\">\n",
              "      <th></th>\n",
              "      <th>LYLTY_CARD_NBR</th>\n",
              "      <th>LIFESTAGE</th>\n",
              "      <th>PREMIUM_CUSTOMER</th>\n",
              "      <th>DATE</th>\n",
              "      <th>STORE_NBR</th>\n",
              "      <th>TXN_ID</th>\n",
              "      <th>PROD_NBR</th>\n",
              "      <th>PROD_NAME</th>\n",
              "      <th>PROD_QTY</th>\n",
              "      <th>TOT_SALES</th>\n",
              "    </tr>\n",
              "  </thead>\n",
              "  <tbody>\n",
              "    <tr>\n",
              "      <th>71457</th>\n",
              "      <td>226000</td>\n",
              "      <td>OLDER FAMILIES</td>\n",
              "      <td>Premium</td>\n",
              "      <td>2019-05-20</td>\n",
              "      <td>226</td>\n",
              "      <td>226210</td>\n",
              "      <td>4</td>\n",
              "      <td>Dorito Corn Chp     Supreme 380g</td>\n",
              "      <td>200</td>\n",
              "      <td>650.0</td>\n",
              "    </tr>\n",
              "    <tr>\n",
              "      <th>71456</th>\n",
              "      <td>226000</td>\n",
              "      <td>OLDER FAMILIES</td>\n",
              "      <td>Premium</td>\n",
              "      <td>2018-08-19</td>\n",
              "      <td>226</td>\n",
              "      <td>226201</td>\n",
              "      <td>4</td>\n",
              "      <td>Dorito Corn Chp     Supreme 380g</td>\n",
              "      <td>200</td>\n",
              "      <td>650.0</td>\n",
              "    </tr>\n",
              "    <tr>\n",
              "      <th>171901</th>\n",
              "      <td>23102</td>\n",
              "      <td>RETIREES</td>\n",
              "      <td>Premium</td>\n",
              "      <td>2018-08-19</td>\n",
              "      <td>23</td>\n",
              "      <td>19371</td>\n",
              "      <td>26</td>\n",
              "      <td>Pringles Sweet&amp;Spcy BBQ 134g</td>\n",
              "      <td>5</td>\n",
              "      <td>18.5</td>\n",
              "    </tr>\n",
              "    <tr>\n",
              "      <th>151906</th>\n",
              "      <td>118021</td>\n",
              "      <td>RETIREES</td>\n",
              "      <td>Mainstream</td>\n",
              "      <td>2019-05-20</td>\n",
              "      <td>118</td>\n",
              "      <td>120799</td>\n",
              "      <td>14</td>\n",
              "      <td>Smiths Crnkle Chip  Orgnl Big Bag 380g</td>\n",
              "      <td>5</td>\n",
              "      <td>29.5</td>\n",
              "    </tr>\n",
              "    <tr>\n",
              "      <th>17163</th>\n",
              "      <td>57237</td>\n",
              "      <td>MIDAGE SINGLES/COUPLES</td>\n",
              "      <td>Premium</td>\n",
              "      <td>2019-05-16</td>\n",
              "      <td>57</td>\n",
              "      <td>52658</td>\n",
              "      <td>82</td>\n",
              "      <td>Smith Crinkle Cut   Mac N Cheese 150g</td>\n",
              "      <td>5</td>\n",
              "      <td>13.0</td>\n",
              "    </tr>\n",
              "  </tbody>\n",
              "</table>\n",
              "</div>"
            ],
            "text/plain": [
              "        LYLTY_CARD_NBR               LIFESTAGE PREMIUM_CUSTOMER       DATE  \\\n",
              "71457           226000          OLDER FAMILIES          Premium 2019-05-20   \n",
              "71456           226000          OLDER FAMILIES          Premium 2018-08-19   \n",
              "171901           23102                RETIREES          Premium 2018-08-19   \n",
              "151906          118021                RETIREES       Mainstream 2019-05-20   \n",
              "17163            57237  MIDAGE SINGLES/COUPLES          Premium 2019-05-16   \n",
              "\n",
              "        STORE_NBR  TXN_ID  PROD_NBR                               PROD_NAME  \\\n",
              "71457         226  226210         4        Dorito Corn Chp     Supreme 380g   \n",
              "71456         226  226201         4        Dorito Corn Chp     Supreme 380g   \n",
              "171901         23   19371        26            Pringles Sweet&Spcy BBQ 134g   \n",
              "151906        118  120799        14  Smiths Crnkle Chip  Orgnl Big Bag 380g   \n",
              "17163          57   52658        82   Smith Crinkle Cut   Mac N Cheese 150g   \n",
              "\n",
              "        PROD_QTY  TOT_SALES  \n",
              "71457        200      650.0  \n",
              "71456        200      650.0  \n",
              "171901         5       18.5  \n",
              "151906         5       29.5  \n",
              "17163          5       13.0  "
            ]
          },
          "metadata": {},
          "execution_count": 30
        }
      ]
    },
    {
      "cell_type": "code",
      "metadata": {
        "colab": {
          "base_uri": "https://localhost:8080/",
          "height": 0
        },
        "id": "ETlQl5cl5gY1",
        "outputId": "451f6e69-9163-4fc9-be29-3c7c3bb57f61"
      },
      "source": [
        "mdf1.info()"
      ],
      "execution_count": 31,
      "outputs": [
        {
          "output_type": "stream",
          "text": [
            "<class 'pandas.core.frame.DataFrame'>\n",
            "Int64Index: 246741 entries, 0 to 264834\n",
            "Data columns (total 10 columns):\n",
            " #   Column            Non-Null Count   Dtype         \n",
            "---  ------            --------------   -----         \n",
            " 0   LYLTY_CARD_NBR    246741 non-null  int64         \n",
            " 1   LIFESTAGE         246741 non-null  object        \n",
            " 2   PREMIUM_CUSTOMER  246741 non-null  object        \n",
            " 3   DATE              246741 non-null  datetime64[ns]\n",
            " 4   STORE_NBR         246741 non-null  int64         \n",
            " 5   TXN_ID            246741 non-null  int64         \n",
            " 6   PROD_NBR          246741 non-null  int64         \n",
            " 7   PROD_NAME         246741 non-null  object        \n",
            " 8   PROD_QTY          246741 non-null  int64         \n",
            " 9   TOT_SALES         246741 non-null  float64       \n",
            "dtypes: datetime64[ns](1), float64(1), int64(5), object(3)\n",
            "memory usage: 20.7+ MB\n"
          ],
          "name": "stdout"
        }
      ]
    },
    {
      "cell_type": "code",
      "metadata": {
        "colab": {
          "base_uri": "https://localhost:8080/",
          "height": 284
        },
        "id": "ik6vL1IV3o8D",
        "outputId": "ffcbd2dd-d483-4904-90f1-88681455c647"
      },
      "source": [
        "mdf1.boxplot(column =['PROD_QTY'], grid = False)\n",
        "plt.show()"
      ],
      "execution_count": 32,
      "outputs": [
        {
          "output_type": "execute_result",
          "data": {
            "text/plain": [
              "<matplotlib.axes._subplots.AxesSubplot at 0x7f4fe85aa5d0>"
            ]
          },
          "metadata": {},
          "execution_count": 32
        },
        {
          "output_type": "display_data",
          "data": {
            "image/png": "[encoded data removed]",
            "text/plain": [
              "<Figure size 432x288 with 1 Axes>"
            ]
          },
          "metadata": {
            "needs_background": "light"
          }
        }
      ]
    },
    {
      "cell_type": "code",
      "metadata": {
        "colab": {
          "base_uri": "https://localhost:8080/",
          "height": 284
        },
        "id": "8X4Yqpc75060",
        "outputId": "f2a3dbbd-b87a-4b47-adb0-f156b6604931"
      },
      "source": [
        "mdf1.boxplot(column =['TOT_SALES'], grid = False)\n",
        "plt.show()"
      ],
      "execution_count": 33,
      "outputs": [
        {
          "output_type": "execute_result",
          "data": {
            "text/plain": [
              "<matplotlib.axes._subplots.AxesSubplot at 0x7f4fddc7a510>"
            ]
          },
          "metadata": {},
          "execution_count": 33
        },
        {
          "output_type": "display_data",
          "data": {
            "image/png": "[encoded data removed]",
            "text/plain": [
              "<Figure size 432x288 with 1 Axes>"
            ]
          },
          "metadata": {
            "needs_background": "light"
          }
        }
      ]
    },
    {
      "cell_type": "code",
      "metadata": {
        "colab": {
          "base_uri": "https://localhost:8080/",
          "height": 203
        },
        "id": "KXmNINqv6U8z",
        "outputId": "a9c4a048-9866-47d0-a3a9-0f5fcd5a731f"
      },
      "source": [
        "mdf1.sort_values(by=\"PROD_QTY\", ascending=False).head()"
      ],
      "execution_count": 34,
      "outputs": [
        {
          "output_type": "execute_result",
          "data": {
            "text/html": [
              "<div>\n",
              "<style scoped>\n",
              "    .dataframe tbody tr th:only-of-type {\n",
              "        vertical-align: middle;\n",
              "    }\n",
              "\n",
              "    .dataframe tbody tr th {\n",
              "        vertical-align: top;\n",
              "    }\n",
              "\n",
              "    .dataframe thead th {\n",
              "        text-align: right;\n",
              "    }\n",
              "</style>\n",
              "<table border=\"1\" class=\"dataframe\">\n",
              "  <thead>\n",
              "    <tr style=\"text-align: right;\">\n",
              "      <th></th>\n",
              "      <th>LYLTY_CARD_NBR</th>\n",
              "      <th>LIFESTAGE</th>\n",
              "      <th>PREMIUM_CUSTOMER</th>\n",
              "      <th>DATE</th>\n",
              "      <th>STORE_NBR</th>\n",
              "      <th>TXN_ID</th>\n",
              "      <th>PROD_NBR</th>\n",
              "      <th>PROD_NAME</th>\n",
              "      <th>PROD_QTY</th>\n",
              "      <th>TOT_SALES</th>\n",
              "    </tr>\n",
              "  </thead>\n",
              "  <tbody>\n",
              "    <tr>\n",
              "      <th>71457</th>\n",
              "      <td>226000</td>\n",
              "      <td>OLDER FAMILIES</td>\n",
              "      <td>Premium</td>\n",
              "      <td>2019-05-20</td>\n",
              "      <td>226</td>\n",
              "      <td>226210</td>\n",
              "      <td>4</td>\n",
              "      <td>Dorito Corn Chp     Supreme 380g</td>\n",
              "      <td>200</td>\n",
              "      <td>650.0</td>\n",
              "    </tr>\n",
              "    <tr>\n",
              "      <th>71456</th>\n",
              "      <td>226000</td>\n",
              "      <td>OLDER FAMILIES</td>\n",
              "      <td>Premium</td>\n",
              "      <td>2018-08-19</td>\n",
              "      <td>226</td>\n",
              "      <td>226201</td>\n",
              "      <td>4</td>\n",
              "      <td>Dorito Corn Chp     Supreme 380g</td>\n",
              "      <td>200</td>\n",
              "      <td>650.0</td>\n",
              "    </tr>\n",
              "    <tr>\n",
              "      <th>171901</th>\n",
              "      <td>23102</td>\n",
              "      <td>RETIREES</td>\n",
              "      <td>Premium</td>\n",
              "      <td>2018-08-19</td>\n",
              "      <td>23</td>\n",
              "      <td>19371</td>\n",
              "      <td>26</td>\n",
              "      <td>Pringles Sweet&amp;Spcy BBQ 134g</td>\n",
              "      <td>5</td>\n",
              "      <td>18.5</td>\n",
              "    </tr>\n",
              "    <tr>\n",
              "      <th>151906</th>\n",
              "      <td>118021</td>\n",
              "      <td>RETIREES</td>\n",
              "      <td>Mainstream</td>\n",
              "      <td>2019-05-20</td>\n",
              "      <td>118</td>\n",
              "      <td>120799</td>\n",
              "      <td>14</td>\n",
              "      <td>Smiths Crnkle Chip  Orgnl Big Bag 380g</td>\n",
              "      <td>5</td>\n",
              "      <td>29.5</td>\n",
              "    </tr>\n",
              "    <tr>\n",
              "      <th>17163</th>\n",
              "      <td>57237</td>\n",
              "      <td>MIDAGE SINGLES/COUPLES</td>\n",
              "      <td>Premium</td>\n",
              "      <td>2019-05-16</td>\n",
              "      <td>57</td>\n",
              "      <td>52658</td>\n",
              "      <td>82</td>\n",
              "      <td>Smith Crinkle Cut   Mac N Cheese 150g</td>\n",
              "      <td>5</td>\n",
              "      <td>13.0</td>\n",
              "    </tr>\n",
              "  </tbody>\n",
              "</table>\n",
              "</div>"
            ],
            "text/plain": [
              "        LYLTY_CARD_NBR               LIFESTAGE PREMIUM_CUSTOMER       DATE  \\\n",
              "71457           226000          OLDER FAMILIES          Premium 2019-05-20   \n",
              "71456           226000          OLDER FAMILIES          Premium 2018-08-19   \n",
              "171901           23102                RETIREES          Premium 2018-08-19   \n",
              "151906          118021                RETIREES       Mainstream 2019-05-20   \n",
              "17163            57237  MIDAGE SINGLES/COUPLES          Premium 2019-05-16   \n",
              "\n",
              "        STORE_NBR  TXN_ID  PROD_NBR                               PROD_NAME  \\\n",
              "71457         226  226210         4        Dorito Corn Chp     Supreme 380g   \n",
              "71456         226  226201         4        Dorito Corn Chp     Supreme 380g   \n",
              "171901         23   19371        26            Pringles Sweet&Spcy BBQ 134g   \n",
              "151906        118  120799        14  Smiths Crnkle Chip  Orgnl Big Bag 380g   \n",
              "17163          57   52658        82   Smith Crinkle Cut   Mac N Cheese 150g   \n",
              "\n",
              "        PROD_QTY  TOT_SALES  \n",
              "71457        200      650.0  \n",
              "71456        200      650.0  \n",
              "171901         5       18.5  \n",
              "151906         5       29.5  \n",
              "17163          5       13.0  "
            ]
          },
          "metadata": {},
          "execution_count": 34
        }
      ]
    },
    {
      "cell_type": "code",
      "metadata": {
        "id": "eWEaXB077Fe8"
      },
      "source": [
        "mdf2 = mdf1[mdf1[\"PROD_QTY\"] < 6]"
      ],
      "execution_count": 35,
      "outputs": []
    },
    {
      "cell_type": "code",
      "metadata": {
        "colab": {
          "base_uri": "https://localhost:8080/",
          "height": 0
        },
        "id": "tyC4hCY77fSd",
        "outputId": "af2f8d13-fc5a-479b-c78e-f9952b6afb1c"
      },
      "source": [
        "mdf2[\"DATE\"].describe()"
      ],
      "execution_count": 36,
      "outputs": [
        {
          "output_type": "stream",
          "text": [
            "/usr/local/lib/python3.7/dist-packages/ipykernel_launcher.py:1: FutureWarning: Treating datetime data as categorical rather than numeric in `.describe` is deprecated and will be removed in a future version of pandas. Specify `datetime_is_numeric=True` to silence this warning and adopt the future behavior now.\n",
            "  \"\"\"Entry point for launching an IPython kernel.\n"
          ],
          "name": "stderr"
        },
        {
          "output_type": "execute_result",
          "data": {
            "text/plain": [
              "count                  246739\n",
              "unique                    364\n",
              "top       2018-12-24 00:00:00\n",
              "freq                      865\n",
              "first     2018-07-01 00:00:00\n",
              "last      2019-06-30 00:00:00\n",
              "Name: DATE, dtype: object"
            ]
          },
          "metadata": {},
          "execution_count": 36
        }
      ]
    },
    {
      "cell_type": "markdown",
      "metadata": {
        "id": "_NErfClz2tu4"
      },
      "source": [
        "Instead of 365, the DATE column only has 364 unique values. 1 is missing."
      ]
    },
    {
      "cell_type": "code",
      "metadata": {
        "colab": {
          "base_uri": "https://localhost:8080/",
          "height": 0
        },
        "id": "hSib-rbY8J20",
        "outputId": "9f9cc2fe-007b-4de5-f88b-433fddc83b2f"
      },
      "source": [
        "pd.date_range(start=mdf2[\"DATE\"].min(), end=mdf2[\"DATE\"].max()).difference(mdf2[\"DATE\"])"
      ],
      "execution_count": 37,
      "outputs": [
        {
          "output_type": "execute_result",
          "data": {
            "text/plain": [
              "DatetimeIndex(['2018-12-25'], dtype='datetime64[ns]', freq=None)"
            ]
          },
          "metadata": {},
          "execution_count": 37
        }
      ]
    },
    {
      "cell_type": "markdown",
      "metadata": {
        "id": "z0ggsaz34g9h"
      },
      "source": [
        "\n",
        "Using the difference method we see that 2018-12-25 was the missing date."
      ]
    },
    {
      "cell_type": "code",
      "metadata": {
        "id": "llNm46-Y4ZMS"
      },
      "source": [
        "check_null_date = pd.merge(pd.Series(pd.date_range(start=mdf2[\"DATE\"].min(), end=mdf2[\"DATE\"].max()), name=\"DATE\"), mdf2, on=\"DATE\", how=\"left\")"
      ],
      "execution_count": 38,
      "outputs": []
    },
    {
      "cell_type": "code",
      "metadata": {
        "colab": {
          "base_uri": "https://localhost:8080/",
          "height": 203
        },
        "id": "Ep1QYZIV5mog",
        "outputId": "b6676bb0-736f-4098-f359-0fb3f2f3fe87"
      },
      "source": [
        "check_null_date.head()"
      ],
      "execution_count": 39,
      "outputs": [
        {
          "output_type": "execute_result",
          "data": {
            "text/html": [
              "<div>\n",
              "<style scoped>\n",
              "    .dataframe tbody tr th:only-of-type {\n",
              "        vertical-align: middle;\n",
              "    }\n",
              "\n",
              "    .dataframe tbody tr th {\n",
              "        vertical-align: top;\n",
              "    }\n",
              "\n",
              "    .dataframe thead th {\n",
              "        text-align: right;\n",
              "    }\n",
              "</style>\n",
              "<table border=\"1\" class=\"dataframe\">\n",
              "  <thead>\n",
              "    <tr style=\"text-align: right;\">\n",
              "      <th></th>\n",
              "      <th>DATE</th>\n",
              "      <th>LYLTY_CARD_NBR</th>\n",
              "      <th>LIFESTAGE</th>\n",
              "      <th>PREMIUM_CUSTOMER</th>\n",
              "      <th>STORE_NBR</th>\n",
              "      <th>TXN_ID</th>\n",
              "      <th>PROD_NBR</th>\n",
              "      <th>PROD_NAME</th>\n",
              "      <th>PROD_QTY</th>\n",
              "      <th>TOT_SALES</th>\n",
              "    </tr>\n",
              "  </thead>\n",
              "  <tbody>\n",
              "    <tr>\n",
              "      <th>0</th>\n",
              "      <td>2018-07-01</td>\n",
              "      <td>55073.0</td>\n",
              "      <td>MIDAGE SINGLES/COUPLES</td>\n",
              "      <td>Budget</td>\n",
              "      <td>55.0</td>\n",
              "      <td>48884.0</td>\n",
              "      <td>99.0</td>\n",
              "      <td>Pringles Sthrn FriedChicken 134g</td>\n",
              "      <td>2.0</td>\n",
              "      <td>7.4</td>\n",
              "    </tr>\n",
              "    <tr>\n",
              "      <th>1</th>\n",
              "      <td>2018-07-01</td>\n",
              "      <td>55073.0</td>\n",
              "      <td>MIDAGE SINGLES/COUPLES</td>\n",
              "      <td>Budget</td>\n",
              "      <td>55.0</td>\n",
              "      <td>48884.0</td>\n",
              "      <td>91.0</td>\n",
              "      <td>CCs Tasty Cheese    175g</td>\n",
              "      <td>2.0</td>\n",
              "      <td>4.2</td>\n",
              "    </tr>\n",
              "    <tr>\n",
              "      <th>2</th>\n",
              "      <td>2018-07-01</td>\n",
              "      <td>119051.0</td>\n",
              "      <td>MIDAGE SINGLES/COUPLES</td>\n",
              "      <td>Budget</td>\n",
              "      <td>119.0</td>\n",
              "      <td>122360.0</td>\n",
              "      <td>113.0</td>\n",
              "      <td>Twisties Chicken270g</td>\n",
              "      <td>2.0</td>\n",
              "      <td>9.2</td>\n",
              "    </tr>\n",
              "    <tr>\n",
              "      <th>3</th>\n",
              "      <td>2018-07-01</td>\n",
              "      <td>269175.0</td>\n",
              "      <td>MIDAGE SINGLES/COUPLES</td>\n",
              "      <td>Budget</td>\n",
              "      <td>269.0</td>\n",
              "      <td>266094.0</td>\n",
              "      <td>28.0</td>\n",
              "      <td>Thins Potato Chips  Hot &amp; Spicy 175g</td>\n",
              "      <td>2.0</td>\n",
              "      <td>6.6</td>\n",
              "    </tr>\n",
              "    <tr>\n",
              "      <th>4</th>\n",
              "      <td>2018-07-01</td>\n",
              "      <td>47142.0</td>\n",
              "      <td>MIDAGE SINGLES/COUPLES</td>\n",
              "      <td>Budget</td>\n",
              "      <td>47.0</td>\n",
              "      <td>42540.0</td>\n",
              "      <td>14.0</td>\n",
              "      <td>Smiths Crnkle Chip  Orgnl Big Bag 380g</td>\n",
              "      <td>2.0</td>\n",
              "      <td>11.8</td>\n",
              "    </tr>\n",
              "  </tbody>\n",
              "</table>\n",
              "</div>"
            ],
            "text/plain": [
              "        DATE  LYLTY_CARD_NBR               LIFESTAGE PREMIUM_CUSTOMER  \\\n",
              "0 2018-07-01         55073.0  MIDAGE SINGLES/COUPLES           Budget   \n",
              "1 2018-07-01         55073.0  MIDAGE SINGLES/COUPLES           Budget   \n",
              "2 2018-07-01        119051.0  MIDAGE SINGLES/COUPLES           Budget   \n",
              "3 2018-07-01        269175.0  MIDAGE SINGLES/COUPLES           Budget   \n",
              "4 2018-07-01         47142.0  MIDAGE SINGLES/COUPLES           Budget   \n",
              "\n",
              "   STORE_NBR    TXN_ID  PROD_NBR                               PROD_NAME  \\\n",
              "0       55.0   48884.0      99.0        Pringles Sthrn FriedChicken 134g   \n",
              "1       55.0   48884.0      91.0                CCs Tasty Cheese    175g   \n",
              "2      119.0  122360.0     113.0                    Twisties Chicken270g   \n",
              "3      269.0  266094.0      28.0    Thins Potato Chips  Hot & Spicy 175g   \n",
              "4       47.0   42540.0      14.0  Smiths Crnkle Chip  Orgnl Big Bag 380g   \n",
              "\n",
              "   PROD_QTY  TOT_SALES  \n",
              "0       2.0        7.4  \n",
              "1       2.0        4.2  \n",
              "2       2.0        9.2  \n",
              "3       2.0        6.6  \n",
              "4       2.0       11.8  "
            ]
          },
          "metadata": {},
          "execution_count": 39
        }
      ]
    },
    {
      "cell_type": "code",
      "metadata": {
        "colab": {
          "base_uri": "https://localhost:8080/",
          "height": 80
        },
        "id": "QEH5tRBE8xcE",
        "outputId": "56cd9d15-bb3e-487d-f40f-4e108e774198"
      },
      "source": [
        "check_null_date[check_null_date['DATE']=='2018-12-25']"
      ],
      "execution_count": 40,
      "outputs": [
        {
          "output_type": "execute_result",
          "data": {
            "text/html": [
              "<div>\n",
              "<style scoped>\n",
              "    .dataframe tbody tr th:only-of-type {\n",
              "        vertical-align: middle;\n",
              "    }\n",
              "\n",
              "    .dataframe tbody tr th {\n",
              "        vertical-align: top;\n",
              "    }\n",
              "\n",
              "    .dataframe thead th {\n",
              "        text-align: right;\n",
              "    }\n",
              "</style>\n",
              "<table border=\"1\" class=\"dataframe\">\n",
              "  <thead>\n",
              "    <tr style=\"text-align: right;\">\n",
              "      <th></th>\n",
              "      <th>DATE</th>\n",
              "      <th>LYLTY_CARD_NBR</th>\n",
              "      <th>LIFESTAGE</th>\n",
              "      <th>PREMIUM_CUSTOMER</th>\n",
              "      <th>STORE_NBR</th>\n",
              "      <th>TXN_ID</th>\n",
              "      <th>PROD_NBR</th>\n",
              "      <th>PROD_NAME</th>\n",
              "      <th>PROD_QTY</th>\n",
              "      <th>TOT_SALES</th>\n",
              "    </tr>\n",
              "  </thead>\n",
              "  <tbody>\n",
              "    <tr>\n",
              "      <th>120464</th>\n",
              "      <td>2018-12-25</td>\n",
              "      <td>NaN</td>\n",
              "      <td>NaN</td>\n",
              "      <td>NaN</td>\n",
              "      <td>NaN</td>\n",
              "      <td>NaN</td>\n",
              "      <td>NaN</td>\n",
              "      <td>NaN</td>\n",
              "      <td>NaN</td>\n",
              "      <td>NaN</td>\n",
              "    </tr>\n",
              "  </tbody>\n",
              "</table>\n",
              "</div>"
            ],
            "text/plain": [
              "             DATE  LYLTY_CARD_NBR LIFESTAGE PREMIUM_CUSTOMER  STORE_NBR  \\\n",
              "120464 2018-12-25             NaN       NaN              NaN        NaN   \n",
              "\n",
              "        TXN_ID  PROD_NBR PROD_NAME  PROD_QTY  TOT_SALES  \n",
              "120464     NaN       NaN       NaN       NaN        NaN  "
            ]
          },
          "metadata": {},
          "execution_count": 40
        }
      ]
    },
    {
      "cell_type": "code",
      "metadata": {
        "colab": {
          "base_uri": "https://localhost:8080/",
          "height": 0
        },
        "id": "CPFD9d6a5oeR",
        "outputId": "56e50cf6-ba11-4b2b-93af-bc079a8e9eec"
      },
      "source": [
        "check_null_date.shape"
      ],
      "execution_count": 41,
      "outputs": [
        {
          "output_type": "execute_result",
          "data": {
            "text/plain": [
              "(246740, 10)"
            ]
          },
          "metadata": {},
          "execution_count": 41
        }
      ]
    },
    {
      "cell_type": "code",
      "metadata": {
        "id": "ESbiPqkk8Xko"
      },
      "source": [
        "#check_null_date[\"DATE\"].value_counts()"
      ],
      "execution_count": 42,
      "outputs": []
    },
    {
      "cell_type": "code",
      "metadata": {
        "colab": {
          "base_uri": "https://localhost:8080/",
          "height": 1356
        },
        "id": "8jGnXonb7Vro",
        "outputId": "5b296b97-8603-479a-fa67-d1b0895abca4"
      },
      "source": [
        "trans_by_date = check_null_date[\"DATE\"].value_counts()\n",
        "dec = trans_by_date[(trans_by_date.index >= pd.datetime(2018,12,1)) & (trans_by_date.index < pd.datetime(2019,1,1))].sort_index()\n",
        "dec.index = dec.index.strftime('%d')\n",
        "ax = dec.plot(figsize=(15,3))\n",
        "ax.set_xticks(np.arange(len(dec)))\n",
        "ax.set_xticklabels(dec.index)\n",
        "plt.title(\"2018 December Sales\")\n",
        "plt.savefig(\"2018 December Sales.png\", bbox_inches=\"tight\")\n",
        "plt.show()"
      ],
      "execution_count": 43,
      "outputs": [
        {
          "output_type": "stream",
          "text": [
            "/usr/local/lib/python3.7/dist-packages/ipykernel_launcher.py:2: FutureWarning: The pandas.datetime class is deprecated and will be removed from pandas in a future version. Import from datetime module instead.\n",
            "  \n"
          ],
          "name": "stderr"
        },
        {
          "output_type": "execute_result",
          "data": {
            "text/plain": [
              "[<matplotlib.axis.XTick at 0x7f4fdda68950>,\n",
              " <matplotlib.axis.XTick at 0x7f4fdda68910>,\n",
              " <matplotlib.axis.XTick at 0x7f4fddb5ea50>,\n",
              " <matplotlib.axis.XTick at 0x7f4fdda04ed0>,\n",
              " <matplotlib.axis.XTick at 0x7f4fdda27290>,\n",
              " <matplotlib.axis.XTick at 0x7f4fdda27790>,\n",
              " <matplotlib.axis.XTick at 0x7f4fdda27ed0>,\n",
              " <matplotlib.axis.XTick at 0x7f4fdda27610>,\n",
              " <matplotlib.axis.XTick at 0x7f4fdda04610>,\n",
              " <matplotlib.axis.XTick at 0x7f4fdda27450>,\n",
              " <matplotlib.axis.XTick at 0x7f4fdd9ef290>,\n",
              " <matplotlib.axis.XTick at 0x7f4fdd9fb090>,\n",
              " <matplotlib.axis.XTick at 0x7f4fdd9fb6d0>,\n",
              " <matplotlib.axis.XTick at 0x7f4fdd9fbc10>,\n",
              " <matplotlib.axis.XTick at 0x7f4fdda0b090>,\n",
              " <matplotlib.axis.XTick at 0x7f4fdda0b6d0>,\n",
              " <matplotlib.axis.XTick at 0x7f4fdda0bc10>,\n",
              " <matplotlib.axis.XTick at 0x7f4fdda0b850>,\n",
              " <matplotlib.axis.XTick at 0x7f4fdd9fb650>,\n",
              " <matplotlib.axis.XTick at 0x7f4fdd9efc90>,\n",
              " <matplotlib.axis.XTick at 0x7f4fdd9efa50>,\n",
              " <matplotlib.axis.XTick at 0x7f4fdda20610>,\n",
              " <matplotlib.axis.XTick at 0x7f4fdda20b50>,\n",
              " <matplotlib.axis.XTick at 0x7f4fdda20d90>,\n",
              " <matplotlib.axis.XTick at 0x7f4fdd9b4850>,\n",
              " <matplotlib.axis.XTick at 0x7f4fdd9b4450>,\n",
              " <matplotlib.axis.XTick at 0x7f4fdd9b46d0>,\n",
              " <matplotlib.axis.XTick at 0x7f4fdd9b4350>,\n",
              " <matplotlib.axis.XTick at 0x7f4fdda20590>,\n",
              " <matplotlib.axis.XTick at 0x7f4fdd9b45d0>,\n",
              " <matplotlib.axis.XTick at 0x7f4fdd9d7f90>]"
            ]
          },
          "metadata": {},
          "execution_count": 43
        },
        {
          "output_type": "execute_result",
          "data": {
            "text/plain": [
              "[Text(0, 0, '01'),\n",
              " Text(0, 0, '02'),\n",
              " Text(0, 0, '03'),\n",
              " Text(0, 0, '04'),\n",
              " Text(0, 0, '05'),\n",
              " Text(0, 0, '06'),\n",
              " Text(0, 0, '07'),\n",
              " Text(0, 0, '08'),\n",
              " Text(0, 0, '09'),\n",
              " Text(0, 0, '10'),\n",
              " Text(0, 0, '11'),\n",
              " Text(0, 0, '12'),\n",
              " Text(0, 0, '13'),\n",
              " Text(0, 0, '14'),\n",
              " Text(0, 0, '15'),\n",
              " Text(0, 0, '16'),\n",
              " Text(0, 0, '17'),\n",
              " Text(0, 0, '18'),\n",
              " Text(0, 0, '19'),\n",
              " Text(0, 0, '20'),\n",
              " Text(0, 0, '21'),\n",
              " Text(0, 0, '22'),\n",
              " Text(0, 0, '23'),\n",
              " Text(0, 0, '24'),\n",
              " Text(0, 0, '25'),\n",
              " Text(0, 0, '26'),\n",
              " Text(0, 0, '27'),\n",
              " Text(0, 0, '28'),\n",
              " Text(0, 0, '29'),\n",
              " Text(0, 0, '30'),\n",
              " Text(0, 0, '31')]"
            ]
          },
          "metadata": {},
          "execution_count": 43
        },
        {
          "output_type": "execute_result",
          "data": {
            "text/plain": [
              "Text(0.5, 1.0, '2018 December Sales')"
            ]
          },
          "metadata": {},
          "execution_count": 43
        },
        {
          "output_type": "display_data",
          "data": {
            "image/png": "[encoded data removed]",
            "text/plain": [
              "<Figure size 1080x216 with 1 Axes>"
            ]
          },
          "metadata": {
            "needs_background": "light"
          }
        }
      ]
    },
    {
      "cell_type": "code",
      "metadata": {
        "colab": {
          "base_uri": "https://localhost:8080/",
          "height": 0
        },
        "id": "BtkTEs2g9aPI",
        "outputId": "4bd8dea5-0cdf-4cda-c8f8-490d0158b666"
      },
      "source": [
        "check_null_date[\"DATE\"].value_counts().sort_values().head()"
      ],
      "execution_count": 44,
      "outputs": [
        {
          "output_type": "execute_result",
          "data": {
            "text/plain": [
              "2018-12-25      1\n",
              "2019-06-13    607\n",
              "2018-09-22    609\n",
              "2018-11-25    610\n",
              "2018-10-18    611\n",
              "Name: DATE, dtype: int64"
            ]
          },
          "metadata": {},
          "execution_count": 44
        }
      ]
    },
    {
      "cell_type": "markdown",
      "metadata": {
        "id": "YyuTq_qfNBtN"
      },
      "source": [
        "The date with the no transaction falls on Christmas day, the day when the store is closed. Knowing there's no anomaly in this, we leave it be.\n",
        "\n",
        "Next, we'll explore product pack sizes"
      ]
    },
    {
      "cell_type": "code",
      "metadata": {
        "colab": {
          "base_uri": "https://localhost:8080/",
          "height": 546
        },
        "id": "UKbID1-kM6-5",
        "outputId": "dbc99ee4-4ff6-438a-c726-d5bd330cb6e1"
      },
      "source": [
        "mdf2[\"PROD_NAME\"] = mdf2[\"PROD_NAME\"].str.replace(r'[0-9]+(G)','g')\n",
        "pack_sizes = mdf2[\"PROD_NAME\"].str.extract(r'([0-9]+[gG])')[0].str.replace(\"g\",\"\").astype(\"float\")\n",
        "print(pack_sizes.describe())\n",
        "pack_sizes.plot.hist()\n"
      ],
      "execution_count": 45,
      "outputs": [
        {
          "output_type": "stream",
          "text": [
            "/usr/local/lib/python3.7/dist-packages/ipykernel_launcher.py:1: SettingWithCopyWarning: \n",
            "A value is trying to be set on a copy of a slice from a DataFrame.\n",
            "Try using .loc[row_indexer,col_indexer] = value instead\n",
            "\n",
            "See the caveats in the documentation: https://pandas.pydata.org/pandas-docs/stable/user_guide/indexing.html#returning-a-view-versus-a-copy\n",
            "  \"\"\"Entry point for launching an IPython kernel.\n"
          ],
          "name": "stderr"
        },
        {
          "output_type": "stream",
          "text": [
            "count    240675.000000\n",
            "mean        175.302287\n",
            "std          60.014592\n",
            "min          70.000000\n",
            "25%         150.000000\n",
            "50%         170.000000\n",
            "75%         175.000000\n",
            "max         380.000000\n",
            "Name: 0, dtype: float64\n"
          ],
          "name": "stdout"
        },
        {
          "output_type": "execute_result",
          "data": {
            "text/plain": [
              "<matplotlib.axes._subplots.AxesSubplot at 0x7f4fda6f9890>"
            ]
          },
          "metadata": {},
          "execution_count": 45
        },
        {
          "output_type": "display_data",
          "data": {
            "image/png": "[encoded data removed]",
            "text/plain": [
              "<Figure size 432x288 with 1 Axes>"
            ]
          },
          "metadata": {
            "needs_background": "light"
          }
        }
      ]
    },
    {
      "cell_type": "code",
      "metadata": {
        "colab": {
          "base_uri": "https://localhost:8080/",
          "height": 0
        },
        "id": "9w82XZLKOLLJ",
        "scrolled": true,
        "outputId": "8fb9b935-c0e5-44b4-dc13-5d5b57555de9"
      },
      "source": [
        "pack_sizes.value_counts()"
      ],
      "execution_count": 46,
      "outputs": [
        {
          "output_type": "execute_result",
          "data": {
            "text/plain": [
              "175.0    64928\n",
              "150.0    38705\n",
              "134.0    25102\n",
              "110.0    22387\n",
              "170.0    19983\n",
              "165.0    15297\n",
              "330.0    12540\n",
              "380.0     6416\n",
              "270.0     6285\n",
              "200.0     4473\n",
              "135.0     3257\n",
              "250.0     3169\n",
              "210.0     3167\n",
              "90.0      3008\n",
              "190.0     2995\n",
              "160.0     2970\n",
              "220.0     1564\n",
              "70.0      1507\n",
              "180.0     1468\n",
              "125.0     1454\n",
              "Name: 0, dtype: int64"
            ]
          },
          "metadata": {},
          "execution_count": 46
        }
      ]
    },
    {
      "cell_type": "markdown",
      "metadata": {
        "id": "_gAtpb_lO8gW"
      },
      "source": [
        "Product pack size looks reasonable with highest transaction frequency in mid-sized pack. Smallest size is 70g, and biggest size is 380g."
      ]
    },
    {
      "cell_type": "markdown",
      "metadata": {
        "id": "k82pMzS_R-Qc"
      },
      "source": [
        "Next, we will explore the product brand names"
      ]
    },
    {
      "cell_type": "code",
      "metadata": {
        "colab": {
          "base_uri": "https://localhost:8080/",
          "height": 0
        },
        "id": "5sSldW5lRYXZ",
        "outputId": "d5a307ba-0cb8-442d-cb53-49794d46fd11"
      },
      "source": [
        "mdf2[\"PROD_NAME\"].str.split().str[0].value_counts().sort_index()"
      ],
      "execution_count": 47,
      "outputs": [
        {
          "output_type": "execute_result",
          "data": {
            "text/plain": [
              "Burger         1564\n",
              "CCs            4551\n",
              "Cheetos        2927\n",
              "Cheezels       4603\n",
              "Cobs           9693\n",
              "Dorito         3183\n",
              "Doritos       22041\n",
              "French         1418\n",
              "Grain          6272\n",
              "GrnWves        1468\n",
              "Infuzions     11057\n",
              "Infzns         3144\n",
              "Kettle        41288\n",
              "NCC            1419\n",
              "Natural        6050\n",
              "Pringles      25102\n",
              "RRD           11894\n",
              "Red            4427\n",
              "Smith          2963\n",
              "Smiths        27389\n",
              "Snbts          1576\n",
              "Sunbites       1432\n",
              "Thins         14075\n",
              "Tostitos       9471\n",
              "Twisties       9454\n",
              "Tyrrells       6442\n",
              "WW            10320\n",
              "Woolworths     1516\n",
              "Name: PROD_NAME, dtype: int64"
            ]
          },
          "metadata": {},
          "execution_count": 47
        }
      ]
    },
    {
      "cell_type": "markdown",
      "metadata": {
        "id": "DZ8UZv1ySgeZ"
      },
      "source": [
        "\n",
        "As we look further than the first word in product name, we can see that some product brands are written in more than 1 way. Dorito and Doritos. Grain and GrnWves. Infuzions and Infzns. Natural and NCC. Red and RRD. Smith and Smiths. Snbts and Sunbites. WW and Woolworths."
      ]
    },
    {
      "cell_type": "code",
      "metadata": {
        "id": "IlQgE-tYZqY3"
      },
      "source": [
        "k = mdf2[\"PROD_NAME\"].str.split()[mdf2[\"PROD_NAME\"].str.split().str[0] == \"Grain\"]"
      ],
      "execution_count": 48,
      "outputs": []
    },
    {
      "cell_type": "code",
      "metadata": {
        "colab": {
          "base_uri": "https://localhost:8080/",
          "height": 0
        },
        "id": "NWOxMHJUdBmv",
        "outputId": "43634a53-3008-4934-ac76-9fb8a685e5ee"
      },
      "source": [
        "type(k)"
      ],
      "execution_count": 49,
      "outputs": [
        {
          "output_type": "execute_result",
          "data": {
            "text/plain": [
              "pandas.core.series.Series"
            ]
          },
          "metadata": {},
          "execution_count": 49
        }
      ]
    },
    {
      "cell_type": "code",
      "metadata": {
        "colab": {
          "base_uri": "https://localhost:8080/",
          "height": 0
        },
        "id": "A6Dac9OFdkW_",
        "outputId": "8c7e2567-1f78-4a9e-a1f8-f61fdb63ded1"
      },
      "source": [
        "k.head()"
      ],
      "execution_count": 50,
      "outputs": [
        {
          "output_type": "execute_result",
          "data": {
            "text/plain": [
              "16       [Grain, Waves, Sweet, Chilli, 210g]\n",
              "26     [Grain, Waves, Sour, Cream&Chives, g]\n",
              "41       [Grain, Waves, Sweet, Chilli, 210g]\n",
              "228      [Grain, Waves, Sweet, Chilli, 210g]\n",
              "322      [Grain, Waves, Sweet, Chilli, 210g]\n",
              "Name: PROD_NAME, dtype: object"
            ]
          },
          "metadata": {},
          "execution_count": 50
        }
      ]
    },
    {
      "cell_type": "code",
      "metadata": {
        "colab": {
          "base_uri": "https://localhost:8080/",
          "height": 0
        },
        "id": "u9mlkMyte0rl",
        "outputId": "0d08a94c-0ea7-43b6-ffbb-da61a2251395"
      },
      "source": [
        "mdf2[\"Cleaned_Brand_Names\"] = mdf2[\"PROD_NAME\"].str.split().str[0]"
      ],
      "execution_count": 51,
      "outputs": [
        {
          "output_type": "stream",
          "text": [
            "/usr/local/lib/python3.7/dist-packages/ipykernel_launcher.py:1: SettingWithCopyWarning: \n",
            "A value is trying to be set on a copy of a slice from a DataFrame.\n",
            "Try using .loc[row_indexer,col_indexer] = value instead\n",
            "\n",
            "See the caveats in the documentation: https://pandas.pydata.org/pandas-docs/stable/user_guide/indexing.html#returning-a-view-versus-a-copy\n",
            "  \"\"\"Entry point for launching an IPython kernel.\n"
          ],
          "name": "stderr"
        }
      ]
    },
    {
      "cell_type": "code",
      "metadata": {
        "colab": {
          "base_uri": "https://localhost:8080/",
          "height": 203
        },
        "id": "YwWx5CMlu6-D",
        "outputId": "b77fd9fe-cade-4a30-9edd-de61e3d4803d"
      },
      "source": [
        "mdf2.head()"
      ],
      "execution_count": 52,
      "outputs": [
        {
          "output_type": "execute_result",
          "data": {
            "text/html": [
              "<div>\n",
              "<style scoped>\n",
              "    .dataframe tbody tr th:only-of-type {\n",
              "        vertical-align: middle;\n",
              "    }\n",
              "\n",
              "    .dataframe tbody tr th {\n",
              "        vertical-align: top;\n",
              "    }\n",
              "\n",
              "    .dataframe thead th {\n",
              "        text-align: right;\n",
              "    }\n",
              "</style>\n",
              "<table border=\"1\" class=\"dataframe\">\n",
              "  <thead>\n",
              "    <tr style=\"text-align: right;\">\n",
              "      <th></th>\n",
              "      <th>LYLTY_CARD_NBR</th>\n",
              "      <th>LIFESTAGE</th>\n",
              "      <th>PREMIUM_CUSTOMER</th>\n",
              "      <th>DATE</th>\n",
              "      <th>STORE_NBR</th>\n",
              "      <th>TXN_ID</th>\n",
              "      <th>PROD_NBR</th>\n",
              "      <th>PROD_NAME</th>\n",
              "      <th>PROD_QTY</th>\n",
              "      <th>TOT_SALES</th>\n",
              "      <th>Cleaned_Brand_Names</th>\n",
              "    </tr>\n",
              "  </thead>\n",
              "  <tbody>\n",
              "    <tr>\n",
              "      <th>0</th>\n",
              "      <td>1000</td>\n",
              "      <td>YOUNG SINGLES/COUPLES</td>\n",
              "      <td>Premium</td>\n",
              "      <td>2018-10-17</td>\n",
              "      <td>1</td>\n",
              "      <td>1</td>\n",
              "      <td>5</td>\n",
              "      <td>Natural Chip        Compny SeaSalt175g</td>\n",
              "      <td>2</td>\n",
              "      <td>6.0</td>\n",
              "      <td>Natural</td>\n",
              "    </tr>\n",
              "    <tr>\n",
              "      <th>1</th>\n",
              "      <td>1307</td>\n",
              "      <td>MIDAGE SINGLES/COUPLES</td>\n",
              "      <td>Budget</td>\n",
              "      <td>2019-05-14</td>\n",
              "      <td>1</td>\n",
              "      <td>348</td>\n",
              "      <td>66</td>\n",
              "      <td>CCs Nacho Cheese    175g</td>\n",
              "      <td>3</td>\n",
              "      <td>6.3</td>\n",
              "      <td>CCs</td>\n",
              "    </tr>\n",
              "    <tr>\n",
              "      <th>2</th>\n",
              "      <td>1307</td>\n",
              "      <td>MIDAGE SINGLES/COUPLES</td>\n",
              "      <td>Budget</td>\n",
              "      <td>2018-11-10</td>\n",
              "      <td>1</td>\n",
              "      <td>346</td>\n",
              "      <td>96</td>\n",
              "      <td>WW Original Stacked Chips 160g</td>\n",
              "      <td>2</td>\n",
              "      <td>3.8</td>\n",
              "      <td>WW</td>\n",
              "    </tr>\n",
              "    <tr>\n",
              "      <th>3</th>\n",
              "      <td>1307</td>\n",
              "      <td>MIDAGE SINGLES/COUPLES</td>\n",
              "      <td>Budget</td>\n",
              "      <td>2019-03-09</td>\n",
              "      <td>1</td>\n",
              "      <td>347</td>\n",
              "      <td>54</td>\n",
              "      <td>CCs Original 175g</td>\n",
              "      <td>1</td>\n",
              "      <td>2.1</td>\n",
              "      <td>CCs</td>\n",
              "    </tr>\n",
              "    <tr>\n",
              "      <th>4</th>\n",
              "      <td>1343</td>\n",
              "      <td>MIDAGE SINGLES/COUPLES</td>\n",
              "      <td>Budget</td>\n",
              "      <td>2019-05-20</td>\n",
              "      <td>1</td>\n",
              "      <td>383</td>\n",
              "      <td>61</td>\n",
              "      <td>Smiths Crinkle Cut  Chips Chicken 170g</td>\n",
              "      <td>2</td>\n",
              "      <td>2.9</td>\n",
              "      <td>Smiths</td>\n",
              "    </tr>\n",
              "  </tbody>\n",
              "</table>\n",
              "</div>"
            ],
            "text/plain": [
              "   LYLTY_CARD_NBR               LIFESTAGE PREMIUM_CUSTOMER       DATE  \\\n",
              "0            1000   YOUNG SINGLES/COUPLES          Premium 2018-10-17   \n",
              "1            1307  MIDAGE SINGLES/COUPLES           Budget 2019-05-14   \n",
              "2            1307  MIDAGE SINGLES/COUPLES           Budget 2018-11-10   \n",
              "3            1307  MIDAGE SINGLES/COUPLES           Budget 2019-03-09   \n",
              "4            1343  MIDAGE SINGLES/COUPLES           Budget 2019-05-20   \n",
              "\n",
              "   STORE_NBR  TXN_ID  PROD_NBR                               PROD_NAME  \\\n",
              "0          1       1         5  Natural Chip        Compny SeaSalt175g   \n",
              "1          1     348        66                CCs Nacho Cheese    175g   \n",
              "2          1     346        96          WW Original Stacked Chips 160g   \n",
              "3          1     347        54                       CCs Original 175g   \n",
              "4          1     383        61  Smiths Crinkle Cut  Chips Chicken 170g   \n",
              "\n",
              "   PROD_QTY  TOT_SALES Cleaned_Brand_Names  \n",
              "0         2        6.0             Natural  \n",
              "1         3        6.3                 CCs  \n",
              "2         2        3.8                  WW  \n",
              "3         1        2.1                 CCs  \n",
              "4         2        2.9              Smiths  "
            ]
          },
          "metadata": {},
          "execution_count": 52
        }
      ]
    },
    {
      "cell_type": "code",
      "metadata": {
        "colab": {
          "base_uri": "https://localhost:8080/",
          "height": 0
        },
        "id": "0PNhZvzku-TD",
        "outputId": "f53f78b9-9e83-44f2-c1c1-20b9fcd52ca0"
      },
      "source": [
        "mdf2[\"Cleaned_Brand_Names\"].value_counts()"
      ],
      "execution_count": 53,
      "outputs": [
        {
          "output_type": "execute_result",
          "data": {
            "text/plain": [
              "Kettle        41288\n",
              "Smiths        27389\n",
              "Pringles      25102\n",
              "Doritos       22041\n",
              "Thins         14075\n",
              "RRD           11894\n",
              "Infuzions     11057\n",
              "WW            10320\n",
              "Cobs           9693\n",
              "Tostitos       9471\n",
              "Twisties       9454\n",
              "Tyrrells       6442\n",
              "Grain          6272\n",
              "Natural        6050\n",
              "Cheezels       4603\n",
              "CCs            4551\n",
              "Red            4427\n",
              "Dorito         3183\n",
              "Infzns         3144\n",
              "Smith          2963\n",
              "Cheetos        2927\n",
              "Snbts          1576\n",
              "Burger         1564\n",
              "Woolworths     1516\n",
              "GrnWves        1468\n",
              "Sunbites       1432\n",
              "NCC            1419\n",
              "French         1418\n",
              "Name: Cleaned_Brand_Names, dtype: int64"
            ]
          },
          "metadata": {},
          "execution_count": 53
        }
      ]
    },
    {
      "cell_type": "code",
      "metadata": {
        "id": "gP4wzK9vyBkU"
      },
      "source": [
        "replace_dict ={\"Dorito\":\"Doritos\",\"GrnWves\":\"Grain Waves\",\"Grain\":\"Grain Waves\",\"Infzns\":\"Infuzions\",\"Natural\":\"Natural Chip Co\",\"NCC\":\"Natural Chip Co\",\n",
        "               \"Red\":\"RRD\",\"Smith\":\"Smiths\",\"Snbts\":\"Sunbites\",\"WW\":\"Woolworths\"}"
      ],
      "execution_count": 54,
      "outputs": []
    },
    {
      "cell_type": "code",
      "metadata": {
        "colab": {
          "base_uri": "https://localhost:8080/",
          "height": 0
        },
        "id": "d91SGGrYxYNL",
        "outputId": "d7a52b36-d17d-4252-9cd8-2cf8589141fb"
      },
      "source": [
        "mdf2['Cleaned_Brand_Names']=mdf2['Cleaned_Brand_Names'].replace(replace_dict)"
      ],
      "execution_count": 55,
      "outputs": [
        {
          "output_type": "stream",
          "text": [
            "/usr/local/lib/python3.7/dist-packages/ipykernel_launcher.py:1: SettingWithCopyWarning: \n",
            "A value is trying to be set on a copy of a slice from a DataFrame.\n",
            "Try using .loc[row_indexer,col_indexer] = value instead\n",
            "\n",
            "See the caveats in the documentation: https://pandas.pydata.org/pandas-docs/stable/user_guide/indexing.html#returning-a-view-versus-a-copy\n",
            "  \"\"\"Entry point for launching an IPython kernel.\n"
          ],
          "name": "stderr"
        }
      ]
    },
    {
      "cell_type": "code",
      "metadata": {
        "colab": {
          "base_uri": "https://localhost:8080/",
          "height": 0
        },
        "id": "OXZw9VazzQaC",
        "outputId": "76a9c5e2-a012-48be-b4bc-63005ebba7c4"
      },
      "source": [
        "mdf2[\"Cleaned_Brand_Names\"].value_counts()"
      ],
      "execution_count": 56,
      "outputs": [
        {
          "output_type": "execute_result",
          "data": {
            "text/plain": [
              "Kettle             41288\n",
              "Smiths             30352\n",
              "Doritos            25224\n",
              "Pringles           25102\n",
              "RRD                16321\n",
              "Infuzions          14201\n",
              "Thins              14075\n",
              "Woolworths         11836\n",
              "Cobs                9693\n",
              "Tostitos            9471\n",
              "Twisties            9454\n",
              "Grain Waves         7740\n",
              "Natural Chip Co     7469\n",
              "Tyrrells            6442\n",
              "Cheezels            4603\n",
              "CCs                 4551\n",
              "Sunbites            3008\n",
              "Cheetos             2927\n",
              "Burger              1564\n",
              "French              1418\n",
              "Name: Cleaned_Brand_Names, dtype: int64"
            ]
          },
          "metadata": {},
          "execution_count": 56
        }
      ]
    },
    {
      "cell_type": "code",
      "metadata": {
        "colab": {
          "base_uri": "https://localhost:8080/",
          "height": 338
        },
        "id": "1wIyWml2zgvS",
        "outputId": "df4c5134-adcd-4ab7-fb0d-43b8c7b2b264"
      },
      "source": [
        "mdf2[\"Cleaned_Brand_Names\"].value_counts(ascending=True).plot.barh(figsize=(10,5))"
      ],
      "execution_count": 57,
      "outputs": [
        {
          "output_type": "execute_result",
          "data": {
            "text/plain": [
              "<matplotlib.axes._subplots.AxesSubplot at 0x7f4fd28c9110>"
            ]
          },
          "metadata": {},
          "execution_count": 57
        },
        {
          "output_type": "display_data",
          "data": {
            "image/png": "[encoded data removed]",
            "text/plain": [
              "<Figure size 720x360 with 1 Axes>"
            ]
          },
          "metadata": {
            "needs_background": "light"
          }
        }
      ]
    },
    {
      "cell_type": "markdown",
      "metadata": {
        "id": "zMRtGTzeaHLL"
      },
      "source": [
        "\n",
        "\n",
        "*   Who spends the most on chips (total sales), describing customers by \n",
        "lifestage and how premium their general purchasing behaviour is\n",
        "*   How many customers are in each segment\n",
        "\n",
        "\n",
        "*   How many chips are bought per customer by segment\n",
        "\n",
        "\n",
        "\n",
        "*   What's the average chip price by customer segment\n",
        "\n",
        "\n",
        "\n",
        "\n",
        "\n",
        "\n",
        "\n",
        "\n",
        "\n",
        "\n"
      ]
    },
    {
      "cell_type": "code",
      "metadata": {
        "colab": {
          "base_uri": "https://localhost:8080/",
          "height": 0
        },
        "id": "0hhT5BgQlPCj",
        "outputId": "2033f245-2a1b-4451-e0ea-c8d763806572"
      },
      "source": [
        "mdf2['pack_sizes'] = pack_sizes"
      ],
      "execution_count": 58,
      "outputs": [
        {
          "output_type": "stream",
          "text": [
            "/usr/local/lib/python3.7/dist-packages/ipykernel_launcher.py:1: SettingWithCopyWarning: \n",
            "A value is trying to be set on a copy of a slice from a DataFrame.\n",
            "Try using .loc[row_indexer,col_indexer] = value instead\n",
            "\n",
            "See the caveats in the documentation: https://pandas.pydata.org/pandas-docs/stable/user_guide/indexing.html#returning-a-view-versus-a-copy\n",
            "  \"\"\"Entry point for launching an IPython kernel.\n"
          ],
          "name": "stderr"
        }
      ]
    },
    {
      "cell_type": "code",
      "metadata": {
        "colab": {
          "base_uri": "https://localhost:8080/",
          "height": 287
        },
        "id": "HhJTSsdxlWVD",
        "outputId": "8f439e00-3d15-414d-aa27-5f9a38c34926"
      },
      "source": [
        "mdf2.head()"
      ],
      "execution_count": 59,
      "outputs": [
        {
          "output_type": "execute_result",
          "data": {
            "text/html": [
              "<div>\n",
              "<style scoped>\n",
              "    .dataframe tbody tr th:only-of-type {\n",
              "        vertical-align: middle;\n",
              "    }\n",
              "\n",
              "    .dataframe tbody tr th {\n",
              "        vertical-align: top;\n",
              "    }\n",
              "\n",
              "    .dataframe thead th {\n",
              "        text-align: right;\n",
              "    }\n",
              "</style>\n",
              "<table border=\"1\" class=\"dataframe\">\n",
              "  <thead>\n",
              "    <tr style=\"text-align: right;\">\n",
              "      <th></th>\n",
              "      <th>LYLTY_CARD_NBR</th>\n",
              "      <th>LIFESTAGE</th>\n",
              "      <th>PREMIUM_CUSTOMER</th>\n",
              "      <th>DATE</th>\n",
              "      <th>STORE_NBR</th>\n",
              "      <th>TXN_ID</th>\n",
              "      <th>PROD_NBR</th>\n",
              "      <th>PROD_NAME</th>\n",
              "      <th>PROD_QTY</th>\n",
              "      <th>TOT_SALES</th>\n",
              "      <th>Cleaned_Brand_Names</th>\n",
              "      <th>pack_sizes</th>\n",
              "    </tr>\n",
              "  </thead>\n",
              "  <tbody>\n",
              "    <tr>\n",
              "      <th>0</th>\n",
              "      <td>1000</td>\n",
              "      <td>YOUNG SINGLES/COUPLES</td>\n",
              "      <td>Premium</td>\n",
              "      <td>2018-10-17</td>\n",
              "      <td>1</td>\n",
              "      <td>1</td>\n",
              "      <td>5</td>\n",
              "      <td>Natural Chip        Compny SeaSalt175g</td>\n",
              "      <td>2</td>\n",
              "      <td>6.0</td>\n",
              "      <td>Natural Chip Co</td>\n",
              "      <td>175.0</td>\n",
              "    </tr>\n",
              "    <tr>\n",
              "      <th>1</th>\n",
              "      <td>1307</td>\n",
              "      <td>MIDAGE SINGLES/COUPLES</td>\n",
              "      <td>Budget</td>\n",
              "      <td>2019-05-14</td>\n",
              "      <td>1</td>\n",
              "      <td>348</td>\n",
              "      <td>66</td>\n",
              "      <td>CCs Nacho Cheese    175g</td>\n",
              "      <td>3</td>\n",
              "      <td>6.3</td>\n",
              "      <td>CCs</td>\n",
              "      <td>175.0</td>\n",
              "    </tr>\n",
              "    <tr>\n",
              "      <th>2</th>\n",
              "      <td>1307</td>\n",
              "      <td>MIDAGE SINGLES/COUPLES</td>\n",
              "      <td>Budget</td>\n",
              "      <td>2018-11-10</td>\n",
              "      <td>1</td>\n",
              "      <td>346</td>\n",
              "      <td>96</td>\n",
              "      <td>WW Original Stacked Chips 160g</td>\n",
              "      <td>2</td>\n",
              "      <td>3.8</td>\n",
              "      <td>Woolworths</td>\n",
              "      <td>160.0</td>\n",
              "    </tr>\n",
              "    <tr>\n",
              "      <th>3</th>\n",
              "      <td>1307</td>\n",
              "      <td>MIDAGE SINGLES/COUPLES</td>\n",
              "      <td>Budget</td>\n",
              "      <td>2019-03-09</td>\n",
              "      <td>1</td>\n",
              "      <td>347</td>\n",
              "      <td>54</td>\n",
              "      <td>CCs Original 175g</td>\n",
              "      <td>1</td>\n",
              "      <td>2.1</td>\n",
              "      <td>CCs</td>\n",
              "      <td>175.0</td>\n",
              "    </tr>\n",
              "    <tr>\n",
              "      <th>4</th>\n",
              "      <td>1343</td>\n",
              "      <td>MIDAGE SINGLES/COUPLES</td>\n",
              "      <td>Budget</td>\n",
              "      <td>2019-05-20</td>\n",
              "      <td>1</td>\n",
              "      <td>383</td>\n",
              "      <td>61</td>\n",
              "      <td>Smiths Crinkle Cut  Chips Chicken 170g</td>\n",
              "      <td>2</td>\n",
              "      <td>2.9</td>\n",
              "      <td>Smiths</td>\n",
              "      <td>170.0</td>\n",
              "    </tr>\n",
              "  </tbody>\n",
              "</table>\n",
              "</div>"
            ],
            "text/plain": [
              "   LYLTY_CARD_NBR               LIFESTAGE PREMIUM_CUSTOMER       DATE  \\\n",
              "0            1000   YOUNG SINGLES/COUPLES          Premium 2018-10-17   \n",
              "1            1307  MIDAGE SINGLES/COUPLES           Budget 2019-05-14   \n",
              "2            1307  MIDAGE SINGLES/COUPLES           Budget 2018-11-10   \n",
              "3            1307  MIDAGE SINGLES/COUPLES           Budget 2019-03-09   \n",
              "4            1343  MIDAGE SINGLES/COUPLES           Budget 2019-05-20   \n",
              "\n",
              "   STORE_NBR  TXN_ID  PROD_NBR                               PROD_NAME  \\\n",
              "0          1       1         5  Natural Chip        Compny SeaSalt175g   \n",
              "1          1     348        66                CCs Nacho Cheese    175g   \n",
              "2          1     346        96          WW Original Stacked Chips 160g   \n",
              "3          1     347        54                       CCs Original 175g   \n",
              "4          1     383        61  Smiths Crinkle Cut  Chips Chicken 170g   \n",
              "\n",
              "   PROD_QTY  TOT_SALES Cleaned_Brand_Names  pack_sizes  \n",
              "0         2        6.0     Natural Chip Co       175.0  \n",
              "1         3        6.3                 CCs       175.0  \n",
              "2         2        3.8          Woolworths       160.0  \n",
              "3         1        2.1                 CCs       175.0  \n",
              "4         2        2.9              Smiths       170.0  "
            ]
          },
          "metadata": {},
          "execution_count": 59
        }
      ]
    },
    {
      "cell_type": "code",
      "metadata": {
        "id": "1wJBn8BmldoK"
      },
      "source": [
        "mdf3 = mdf2.loc[:,('LYLTY_CARD_NBR','TXN_ID','LIFESTAGE','PREMIUM_CUSTOMER','DATE','STORE_NBR','PROD_NBR','PROD_QTY',\n",
        "                   'Cleaned_Brand_Names','pack_sizes','TOT_SALES')]"
      ],
      "execution_count": 60,
      "outputs": []
    },
    {
      "cell_type": "code",
      "metadata": {
        "colab": {
          "base_uri": "https://localhost:8080/",
          "height": 203
        },
        "id": "fn_S2bMnmbLq",
        "outputId": "94188e08-d1c0-450c-8f2a-a4cf85d1fb17"
      },
      "source": [
        "mdf3.head()"
      ],
      "execution_count": 61,
      "outputs": [
        {
          "output_type": "execute_result",
          "data": {
            "text/html": [
              "<div>\n",
              "<style scoped>\n",
              "    .dataframe tbody tr th:only-of-type {\n",
              "        vertical-align: middle;\n",
              "    }\n",
              "\n",
              "    .dataframe tbody tr th {\n",
              "        vertical-align: top;\n",
              "    }\n",
              "\n",
              "    .dataframe thead th {\n",
              "        text-align: right;\n",
              "    }\n",
              "</style>\n",
              "<table border=\"1\" class=\"dataframe\">\n",
              "  <thead>\n",
              "    <tr style=\"text-align: right;\">\n",
              "      <th></th>\n",
              "      <th>LYLTY_CARD_NBR</th>\n",
              "      <th>TXN_ID</th>\n",
              "      <th>LIFESTAGE</th>\n",
              "      <th>PREMIUM_CUSTOMER</th>\n",
              "      <th>DATE</th>\n",
              "      <th>STORE_NBR</th>\n",
              "      <th>PROD_NBR</th>\n",
              "      <th>PROD_QTY</th>\n",
              "      <th>Cleaned_Brand_Names</th>\n",
              "      <th>pack_sizes</th>\n",
              "      <th>TOT_SALES</th>\n",
              "    </tr>\n",
              "  </thead>\n",
              "  <tbody>\n",
              "    <tr>\n",
              "      <th>0</th>\n",
              "      <td>1000</td>\n",
              "      <td>1</td>\n",
              "      <td>YOUNG SINGLES/COUPLES</td>\n",
              "      <td>Premium</td>\n",
              "      <td>2018-10-17</td>\n",
              "      <td>1</td>\n",
              "      <td>5</td>\n",
              "      <td>2</td>\n",
              "      <td>Natural Chip Co</td>\n",
              "      <td>175.0</td>\n",
              "      <td>6.0</td>\n",
              "    </tr>\n",
              "    <tr>\n",
              "      <th>1</th>\n",
              "      <td>1307</td>\n",
              "      <td>348</td>\n",
              "      <td>MIDAGE SINGLES/COUPLES</td>\n",
              "      <td>Budget</td>\n",
              "      <td>2019-05-14</td>\n",
              "      <td>1</td>\n",
              "      <td>66</td>\n",
              "      <td>3</td>\n",
              "      <td>CCs</td>\n",
              "      <td>175.0</td>\n",
              "      <td>6.3</td>\n",
              "    </tr>\n",
              "    <tr>\n",
              "      <th>2</th>\n",
              "      <td>1307</td>\n",
              "      <td>346</td>\n",
              "      <td>MIDAGE SINGLES/COUPLES</td>\n",
              "      <td>Budget</td>\n",
              "      <td>2018-11-10</td>\n",
              "      <td>1</td>\n",
              "      <td>96</td>\n",
              "      <td>2</td>\n",
              "      <td>Woolworths</td>\n",
              "      <td>160.0</td>\n",
              "      <td>3.8</td>\n",
              "    </tr>\n",
              "    <tr>\n",
              "      <th>3</th>\n",
              "      <td>1307</td>\n",
              "      <td>347</td>\n",
              "      <td>MIDAGE SINGLES/COUPLES</td>\n",
              "      <td>Budget</td>\n",
              "      <td>2019-03-09</td>\n",
              "      <td>1</td>\n",
              "      <td>54</td>\n",
              "      <td>1</td>\n",
              "      <td>CCs</td>\n",
              "      <td>175.0</td>\n",
              "      <td>2.1</td>\n",
              "    </tr>\n",
              "    <tr>\n",
              "      <th>4</th>\n",
              "      <td>1343</td>\n",
              "      <td>383</td>\n",
              "      <td>MIDAGE SINGLES/COUPLES</td>\n",
              "      <td>Budget</td>\n",
              "      <td>2019-05-20</td>\n",
              "      <td>1</td>\n",
              "      <td>61</td>\n",
              "      <td>2</td>\n",
              "      <td>Smiths</td>\n",
              "      <td>170.0</td>\n",
              "      <td>2.9</td>\n",
              "    </tr>\n",
              "  </tbody>\n",
              "</table>\n",
              "</div>"
            ],
            "text/plain": [
              "   LYLTY_CARD_NBR  TXN_ID               LIFESTAGE PREMIUM_CUSTOMER       DATE  \\\n",
              "0            1000       1   YOUNG SINGLES/COUPLES          Premium 2018-10-17   \n",
              "1            1307     348  MIDAGE SINGLES/COUPLES           Budget 2019-05-14   \n",
              "2            1307     346  MIDAGE SINGLES/COUPLES           Budget 2018-11-10   \n",
              "3            1307     347  MIDAGE SINGLES/COUPLES           Budget 2019-03-09   \n",
              "4            1343     383  MIDAGE SINGLES/COUPLES           Budget 2019-05-20   \n",
              "\n",
              "   STORE_NBR  PROD_NBR  PROD_QTY Cleaned_Brand_Names  pack_sizes  TOT_SALES  \n",
              "0          1         5         2     Natural Chip Co       175.0        6.0  \n",
              "1          1        66         3                 CCs       175.0        6.3  \n",
              "2          1        96         2          Woolworths       160.0        3.8  \n",
              "3          1        54         1                 CCs       175.0        2.1  \n",
              "4          1        61         2              Smiths       170.0        2.9  "
            ]
          },
          "metadata": {},
          "execution_count": 61
        }
      ]
    },
    {
      "cell_type": "code",
      "metadata": {
        "colab": {
          "base_uri": "https://localhost:8080/",
          "height": 0
        },
        "id": "feDkNseBnKDS",
        "outputId": "8d57eb05-c4a9-4f34-ccf0-8138217bfbf6"
      },
      "source": [
        "mdf3.shape"
      ],
      "execution_count": 62,
      "outputs": [
        {
          "output_type": "execute_result",
          "data": {
            "text/plain": [
              "(246739, 11)"
            ]
          },
          "metadata": {},
          "execution_count": 62
        }
      ]
    },
    {
      "cell_type": "code",
      "metadata": {
        "colab": {
          "base_uri": "https://localhost:8080/",
          "height": 0
        },
        "id": "ijF0rQYYnkwZ",
        "outputId": "b4c17c43-43b1-43c1-d14e-ad1886350329"
      },
      "source": [
        "mdf3.nunique()"
      ],
      "execution_count": 63,
      "outputs": [
        {
          "output_type": "execute_result",
          "data": {
            "text/plain": [
              "LYLTY_CARD_NBR          71287\n",
              "TXN_ID                 245255\n",
              "LIFESTAGE                   7\n",
              "PREMIUM_CUSTOMER            3\n",
              "DATE                      364\n",
              "STORE_NBR                 271\n",
              "PROD_NBR                  105\n",
              "PROD_QTY                    5\n",
              "Cleaned_Brand_Names        20\n",
              "pack_sizes                 20\n",
              "TOT_SALES                 104\n",
              "dtype: int64"
            ]
          },
          "metadata": {},
          "execution_count": 63
        }
      ]
    },
    {
      "cell_type": "markdown",
      "metadata": {
        "id": "nxfzJZVfnu00"
      },
      "source": [
        "# **Univariate Analysis**"
      ]
    },
    {
      "cell_type": "code",
      "metadata": {
        "id": "dpKmZLSX1FU7"
      },
      "source": [
        "mdf4 = mdf2.loc[:,('LIFESTAGE','PREMIUM_CUSTOMER','DATE','STORE_NBR','PROD_NBR','PROD_QTY',\n",
        "                   'Cleaned_Brand_Names','pack_sizes','TOT_SALES')]"
      ],
      "execution_count": 64,
      "outputs": []
    },
    {
      "cell_type": "code",
      "metadata": {
        "colab": {
          "base_uri": "https://localhost:8080/",
          "height": 282
        },
        "id": "rAPo1S7NjXGp",
        "outputId": "dbfff3fc-d7f5-45a2-a84d-ed651b117e43"
      },
      "source": [
        "mdf4['TOT_SALES'].hist()"
      ],
      "execution_count": 65,
      "outputs": [
        {
          "output_type": "execute_result",
          "data": {
            "text/plain": [
              "<matplotlib.axes._subplots.AxesSubplot at 0x7f4fd28bc4d0>"
            ]
          },
          "metadata": {},
          "execution_count": 65
        },
        {
          "output_type": "display_data",
          "data": {
            "image/png": "[encoded data removed]",
            "text/plain": [
              "<Figure size 432x288 with 1 Axes>"
            ]
          },
          "metadata": {
            "needs_background": "light"
          }
        }
      ]
    },
    {
      "cell_type": "code",
      "metadata": {
        "colab": {
          "base_uri": "https://localhost:8080/",
          "height": 282
        },
        "id": "hUGjQuGijcOf",
        "outputId": "904a7414-f9ef-4680-bd2c-d96b5e5122e1"
      },
      "source": [
        "mdf4['pack_sizes'].hist()"
      ],
      "execution_count": 66,
      "outputs": [
        {
          "output_type": "execute_result",
          "data": {
            "text/plain": [
              "<matplotlib.axes._subplots.AxesSubplot at 0x7f4fd28f7b50>"
            ]
          },
          "metadata": {},
          "execution_count": 66
        },
        {
          "output_type": "display_data",
          "data": {
            "image/png": "[encoded data removed]",
            "text/plain": [
              "<Figure size 432x288 with 1 Axes>"
            ]
          },
          "metadata": {
            "needs_background": "light"
          }
        }
      ]
    },
    {
      "cell_type": "code",
      "metadata": {
        "colab": {
          "base_uri": "https://localhost:8080/",
          "height": 282
        },
        "id": "Obavg0bCjiDV",
        "outputId": "455470f7-7106-4645-d684-0eea8492ce1f"
      },
      "source": [
        "mdf4['STORE_NBR'].hist()"
      ],
      "execution_count": 67,
      "outputs": [
        {
          "output_type": "execute_result",
          "data": {
            "text/plain": [
              "<matplotlib.axes._subplots.AxesSubplot at 0x7f4fd29496d0>"
            ]
          },
          "metadata": {},
          "execution_count": 67
        },
        {
          "output_type": "display_data",
          "data": {
            "image/png": "[encoded data removed]",
            "text/plain": [
              "<Figure size 432x288 with 1 Axes>"
            ]
          },
          "metadata": {
            "needs_background": "light"
          }
        }
      ]
    },
    {
      "cell_type": "code",
      "metadata": {
        "colab": {
          "base_uri": "https://localhost:8080/",
          "height": 282
        },
        "id": "jhbxffe0jm08",
        "outputId": "e68bf0c1-a151-48a7-cc1b-630d9c0b16c2"
      },
      "source": [
        "mdf4['PROD_NBR'].hist()"
      ],
      "execution_count": 68,
      "outputs": [
        {
          "output_type": "execute_result",
          "data": {
            "text/plain": [
              "<matplotlib.axes._subplots.AxesSubplot at 0x7f4fd28f1c10>"
            ]
          },
          "metadata": {},
          "execution_count": 68
        },
        {
          "output_type": "display_data",
          "data": {
            "image/png": "[encoded data removed]",
            "text/plain": [
              "<Figure size 432x288 with 1 Axes>"
            ]
          },
          "metadata": {
            "needs_background": "light"
          }
        }
      ]
    },
    {
      "cell_type": "code",
      "metadata": {
        "id": "fJMJp5iV0_kF"
      },
      "source": [
        "#for x in mdf4:\n",
        "    #print('\\033[1m' + \"\\nPercentage of frequency count of {}\".format(x) + '\\033[0m')\n",
        "    #print((mdf4[x].value_counts()/len(mdf4))*100)"
      ],
      "execution_count": 69,
      "outputs": []
    },
    {
      "cell_type": "code",
      "metadata": {
        "id": "0nhFIDUz2BGf"
      },
      "source": [
        "#for x in mdf4:\n",
        "    #print('\\033[1m' + \"\\nValue count of {}\".format(x) + '\\033[0m')\n",
        "    #print((mdf4[x].value_counts()))"
      ],
      "execution_count": 70,
      "outputs": []
    },
    {
      "cell_type": "code",
      "metadata": {
        "id": "cfqW66nKnuPZ"
      },
      "source": [
        "#mdf3['LYLTY_CARD_NBR'].value_counts().sort_values()"
      ],
      "execution_count": 71,
      "outputs": []
    },
    {
      "cell_type": "code",
      "metadata": {
        "colab": {
          "base_uri": "https://localhost:8080/",
          "height": 0
        },
        "id": "prFodC-A3ErD",
        "outputId": "61be5ce5-4596-4f65-a048-22195cc5dc12"
      },
      "source": [
        "mdf3[mdf3['STORE_NBR'].isin([193,11,85,206,252,31,76,92])].shape #stores have less than < 3 value count (outliers)"
      ],
      "execution_count": 72,
      "outputs": [
        {
          "output_type": "execute_result",
          "data": {
            "text/plain": [
              "(15, 11)"
            ]
          },
          "metadata": {},
          "execution_count": 72
        }
      ]
    },
    {
      "cell_type": "code",
      "metadata": {
        "colab": {
          "base_uri": "https://localhost:8080/",
          "height": 0
        },
        "id": "KOa2_N8hIykL",
        "outputId": "29dec2f9-bebf-4bb3-d723-c7bb2d7165f9"
      },
      "source": [
        "mdf3[mdf3['LYLTY_CARD_NBR'].isin(mdf3[mdf3['STORE_NBR'].isin([193,11,85,206,252,31,76,92]) ][\"LYLTY_CARD_NBR\"])].shape #unique card number"
      ],
      "execution_count": 73,
      "outputs": [
        {
          "output_type": "execute_result",
          "data": {
            "text/plain": [
              "(15, 11)"
            ]
          },
          "metadata": {},
          "execution_count": 73
        }
      ]
    },
    {
      "cell_type": "code",
      "metadata": {
        "id": "qoTRpWisI1Xp"
      },
      "source": [
        "mdf5 = mdf3[~mdf3['STORE_NBR'].isin([193,11,85,206,252,31,76,92])]"
      ],
      "execution_count": 74,
      "outputs": []
    },
    {
      "cell_type": "code",
      "metadata": {
        "colab": {
          "base_uri": "https://localhost:8080/",
          "height": 0
        },
        "id": "HfV-bmfzR17H",
        "outputId": "2221ba7b-c33d-4dc0-cf96-e020673ebc85"
      },
      "source": [
        "mdf4.shape\n",
        "mdf5.shape"
      ],
      "execution_count": 75,
      "outputs": [
        {
          "output_type": "execute_result",
          "data": {
            "text/plain": [
              "(246739, 9)"
            ]
          },
          "metadata": {},
          "execution_count": 75
        },
        {
          "output_type": "execute_result",
          "data": {
            "text/plain": [
              "(246724, 11)"
            ]
          },
          "metadata": {},
          "execution_count": 75
        }
      ]
    },
    {
      "cell_type": "code",
      "metadata": {
        "colab": {
          "base_uri": "https://localhost:8080/",
          "height": 203
        },
        "id": "GDLEfvrUR7Xo",
        "outputId": "8e4e6464-232d-4999-ee87-a6d45a82037e"
      },
      "source": [
        "mdf5.head()"
      ],
      "execution_count": 76,
      "outputs": [
        {
          "output_type": "execute_result",
          "data": {
            "text/html": [
              "<div>\n",
              "<style scoped>\n",
              "    .dataframe tbody tr th:only-of-type {\n",
              "        vertical-align: middle;\n",
              "    }\n",
              "\n",
              "    .dataframe tbody tr th {\n",
              "        vertical-align: top;\n",
              "    }\n",
              "\n",
              "    .dataframe thead th {\n",
              "        text-align: right;\n",
              "    }\n",
              "</style>\n",
              "<table border=\"1\" class=\"dataframe\">\n",
              "  <thead>\n",
              "    <tr style=\"text-align: right;\">\n",
              "      <th></th>\n",
              "      <th>LYLTY_CARD_NBR</th>\n",
              "      <th>TXN_ID</th>\n",
              "      <th>LIFESTAGE</th>\n",
              "      <th>PREMIUM_CUSTOMER</th>\n",
              "      <th>DATE</th>\n",
              "      <th>STORE_NBR</th>\n",
              "      <th>PROD_NBR</th>\n",
              "      <th>PROD_QTY</th>\n",
              "      <th>Cleaned_Brand_Names</th>\n",
              "      <th>pack_sizes</th>\n",
              "      <th>TOT_SALES</th>\n",
              "    </tr>\n",
              "  </thead>\n",
              "  <tbody>\n",
              "    <tr>\n",
              "      <th>0</th>\n",
              "      <td>1000</td>\n",
              "      <td>1</td>\n",
              "      <td>YOUNG SINGLES/COUPLES</td>\n",
              "      <td>Premium</td>\n",
              "      <td>2018-10-17</td>\n",
              "      <td>1</td>\n",
              "      <td>5</td>\n",
              "      <td>2</td>\n",
              "      <td>Natural Chip Co</td>\n",
              "      <td>175.0</td>\n",
              "      <td>6.0</td>\n",
              "    </tr>\n",
              "    <tr>\n",
              "      <th>1</th>\n",
              "      <td>1307</td>\n",
              "      <td>348</td>\n",
              "      <td>MIDAGE SINGLES/COUPLES</td>\n",
              "      <td>Budget</td>\n",
              "      <td>2019-05-14</td>\n",
              "      <td>1</td>\n",
              "      <td>66</td>\n",
              "      <td>3</td>\n",
              "      <td>CCs</td>\n",
              "      <td>175.0</td>\n",
              "      <td>6.3</td>\n",
              "    </tr>\n",
              "    <tr>\n",
              "      <th>2</th>\n",
              "      <td>1307</td>\n",
              "      <td>346</td>\n",
              "      <td>MIDAGE SINGLES/COUPLES</td>\n",
              "      <td>Budget</td>\n",
              "      <td>2018-11-10</td>\n",
              "      <td>1</td>\n",
              "      <td>96</td>\n",
              "      <td>2</td>\n",
              "      <td>Woolworths</td>\n",
              "      <td>160.0</td>\n",
              "      <td>3.8</td>\n",
              "    </tr>\n",
              "    <tr>\n",
              "      <th>3</th>\n",
              "      <td>1307</td>\n",
              "      <td>347</td>\n",
              "      <td>MIDAGE SINGLES/COUPLES</td>\n",
              "      <td>Budget</td>\n",
              "      <td>2019-03-09</td>\n",
              "      <td>1</td>\n",
              "      <td>54</td>\n",
              "      <td>1</td>\n",
              "      <td>CCs</td>\n",
              "      <td>175.0</td>\n",
              "      <td>2.1</td>\n",
              "    </tr>\n",
              "    <tr>\n",
              "      <th>4</th>\n",
              "      <td>1343</td>\n",
              "      <td>383</td>\n",
              "      <td>MIDAGE SINGLES/COUPLES</td>\n",
              "      <td>Budget</td>\n",
              "      <td>2019-05-20</td>\n",
              "      <td>1</td>\n",
              "      <td>61</td>\n",
              "      <td>2</td>\n",
              "      <td>Smiths</td>\n",
              "      <td>170.0</td>\n",
              "      <td>2.9</td>\n",
              "    </tr>\n",
              "  </tbody>\n",
              "</table>\n",
              "</div>"
            ],
            "text/plain": [
              "   LYLTY_CARD_NBR  TXN_ID               LIFESTAGE PREMIUM_CUSTOMER       DATE  \\\n",
              "0            1000       1   YOUNG SINGLES/COUPLES          Premium 2018-10-17   \n",
              "1            1307     348  MIDAGE SINGLES/COUPLES           Budget 2019-05-14   \n",
              "2            1307     346  MIDAGE SINGLES/COUPLES           Budget 2018-11-10   \n",
              "3            1307     347  MIDAGE SINGLES/COUPLES           Budget 2019-03-09   \n",
              "4            1343     383  MIDAGE SINGLES/COUPLES           Budget 2019-05-20   \n",
              "\n",
              "   STORE_NBR  PROD_NBR  PROD_QTY Cleaned_Brand_Names  pack_sizes  TOT_SALES  \n",
              "0          1         5         2     Natural Chip Co       175.0        6.0  \n",
              "1          1        66         3                 CCs       175.0        6.3  \n",
              "2          1        96         2          Woolworths       160.0        3.8  \n",
              "3          1        54         1                 CCs       175.0        2.1  \n",
              "4          1        61         2              Smiths       170.0        2.9  "
            ]
          },
          "metadata": {},
          "execution_count": 76
        }
      ]
    },
    {
      "cell_type": "markdown",
      "metadata": {
        "id": "X1zh_cvSTFg_"
      },
      "source": [
        "# **Bi-variate Analysis**"
      ]
    },
    {
      "cell_type": "code",
      "metadata": {
        "colab": {
          "base_uri": "https://localhost:8080/",
          "height": 759
        },
        "id": "8cg4ng21u-zI",
        "outputId": "60041fbc-deb4-4839-a3d4-92d293ff4993"
      },
      "source": [
        "print('\\033[1m' + \"\\nbar chart between LIFESTAGE and total sales\" + '\\033[0m')\n",
        "df_grp = pd.DataFrame(mdf5.groupby([\"LIFESTAGE\"])[\"TOT_SALES\"].agg([\"sum\", \"mean\"]))\n",
        "df_grp.sort_values(ascending=False, by=\"sum\")\n",
        "df_grp[\"sum\"].sort_values().plot.barh(figsize=(12,7))"
      ],
      "execution_count": 77,
      "outputs": [
        {
          "output_type": "stream",
          "text": [
            "\u001b[1m\n",
            "bar chart between LIFESTAGE and total sales\u001b[0m\n"
          ],
          "name": "stdout"
        },
        {
          "output_type": "execute_result",
          "data": {
            "text/html": [
              "<div>\n",
              "<style scoped>\n",
              "    .dataframe tbody tr th:only-of-type {\n",
              "        vertical-align: middle;\n",
              "    }\n",
              "\n",
              "    .dataframe tbody tr th {\n",
              "        vertical-align: top;\n",
              "    }\n",
              "\n",
              "    .dataframe thead th {\n",
              "        text-align: right;\n",
              "    }\n",
              "</style>\n",
              "<table border=\"1\" class=\"dataframe\">\n",
              "  <thead>\n",
              "    <tr style=\"text-align: right;\">\n",
              "      <th></th>\n",
              "      <th>sum</th>\n",
              "      <th>mean</th>\n",
              "    </tr>\n",
              "    <tr>\n",
              "      <th>LIFESTAGE</th>\n",
              "      <th></th>\n",
              "      <th></th>\n",
              "    </tr>\n",
              "  </thead>\n",
              "  <tbody>\n",
              "    <tr>\n",
              "      <th>OLDER SINGLES/COUPLES</th>\n",
              "      <td>375992.05</td>\n",
              "      <td>7.403313</td>\n",
              "    </tr>\n",
              "    <tr>\n",
              "      <th>RETIREES</th>\n",
              "      <td>342369.40</td>\n",
              "      <td>7.374042</td>\n",
              "    </tr>\n",
              "    <tr>\n",
              "      <th>OLDER FAMILIES</th>\n",
              "      <td>328511.10</td>\n",
              "      <td>7.274865</td>\n",
              "    </tr>\n",
              "    <tr>\n",
              "      <th>YOUNG FAMILIES</th>\n",
              "      <td>294617.30</td>\n",
              "      <td>7.275938</td>\n",
              "    </tr>\n",
              "    <tr>\n",
              "      <th>YOUNG SINGLES/COUPLES</th>\n",
              "      <td>243743.60</td>\n",
              "      <td>7.176317</td>\n",
              "    </tr>\n",
              "    <tr>\n",
              "      <th>MIDAGE SINGLES/COUPLES</th>\n",
              "      <td>172514.60</td>\n",
              "      <td>7.373364</td>\n",
              "    </tr>\n",
              "    <tr>\n",
              "      <th>NEW FAMILIES</th>\n",
              "      <td>47347.95</td>\n",
              "      <td>7.287664</td>\n",
              "    </tr>\n",
              "  </tbody>\n",
              "</table>\n",
              "</div>"
            ],
            "text/plain": [
              "                              sum      mean\n",
              "LIFESTAGE                                  \n",
              "OLDER SINGLES/COUPLES   375992.05  7.403313\n",
              "RETIREES                342369.40  7.374042\n",
              "OLDER FAMILIES          328511.10  7.274865\n",
              "YOUNG FAMILIES          294617.30  7.275938\n",
              "YOUNG SINGLES/COUPLES   243743.60  7.176317\n",
              "MIDAGE SINGLES/COUPLES  172514.60  7.373364\n",
              "NEW FAMILIES             47347.95  7.287664"
            ]
          },
          "metadata": {},
          "execution_count": 77
        },
        {
          "output_type": "execute_result",
          "data": {
            "text/plain": [
              "<matplotlib.axes._subplots.AxesSubplot at 0x7f4fd2982390>"
            ]
          },
          "metadata": {},
          "execution_count": 77
        },
        {
          "output_type": "display_data",
          "data": {
            "image/png": "[encoded data removed]",
            "text/plain": [
              "<Figure size 864x504 with 1 Axes>"
            ]
          },
          "metadata": {
            "needs_background": "light"
          }
        }
      ]
    },
    {
      "cell_type": "code",
      "metadata": {
        "colab": {
          "base_uri": "https://localhost:8080/",
          "height": 492
        },
        "id": "tHZNVuFiTLZO",
        "outputId": "3e3ea8d3-32b3-4d7f-da9e-b1e93d1bc6f1"
      },
      "source": [
        "print('\\033[1m' + \"\\nbar chart between Lifestage and total sales\" + '\\033[0m')\n",
        "df_grp = mdf5.groupby([\"LIFESTAGE\"])[\"TOT_SALES\"]\n",
        "xx = pd.concat(\n",
        "    [df_grp.mean().rename('average'), df_grp.min().rename('min'), \n",
        "      df_grp.max().rename('max')],\n",
        "    axis=1)\n",
        "print(xx)\n",
        "xx.sort_values(by='average').plot.barh().set_title('xx')"
      ],
      "execution_count": 78,
      "outputs": [
        {
          "output_type": "stream",
          "text": [
            "\u001b[1m\n",
            "bar chart between Lifestage and total sales\u001b[0m\n",
            "                         average  min   max\n",
            "LIFESTAGE                                  \n",
            "MIDAGE SINGLES/COUPLES  7.373364  1.7  29.5\n",
            "NEW FAMILIES            7.287664  1.7  27.0\n",
            "OLDER FAMILIES          7.274865  1.7  29.5\n",
            "OLDER SINGLES/COUPLES   7.403313  1.7  29.5\n",
            "RETIREES                7.374042  1.7  29.5\n",
            "YOUNG FAMILIES          7.275938  1.7  29.5\n",
            "YOUNG SINGLES/COUPLES   7.176317  1.7  27.0\n"
          ],
          "name": "stdout"
        },
        {
          "output_type": "execute_result",
          "data": {
            "text/plain": [
              "Text(0.5, 1.0, 'xx')"
            ]
          },
          "metadata": {},
          "execution_count": 78
        },
        {
          "output_type": "display_data",
          "data": {
            "image/png": "[encoded data removed]",
            "text/plain": [
              "<Figure size 432x288 with 1 Axes>"
            ]
          },
          "metadata": {
            "needs_background": "light"
          }
        }
      ]
    },
    {
      "cell_type": "markdown",
      "metadata": {
        "id": "dwakSeuWvBS7"
      },
      "source": [
        "**Insights**:\n",
        "Midage singles/Couples and New families have high average sale after two high categories but don't have high total sales comapratively. So need to focus in these two groups to increase total sales also with avg sale.\n"
      ]
    },
    {
      "cell_type": "code",
      "metadata": {
        "colab": {
          "base_uri": "https://localhost:8080/",
          "height": 636
        },
        "id": "jKDPB_NtuarY",
        "outputId": "0ea5b7d1-f55c-4773-c5cd-60056856190d"
      },
      "source": [
        "print('\\033[1m' + \"\\nbar chart between PREMIUM_CUSTOMER and total sales\" + '\\033[0m')\n",
        "df_grp = pd.DataFrame(mdf5.groupby([\"PREMIUM_CUSTOMER\"])[\"TOT_SALES\"].agg([\"sum\", \"mean\"]))\n",
        "df_grp.sort_values(ascending=False, by=\"sum\")\n",
        "df_grp[\"sum\"].sort_values().plot.barh(figsize=(12,7))"
      ],
      "execution_count": 79,
      "outputs": [
        {
          "output_type": "stream",
          "text": [
            "\u001b[1m\n",
            "bar chart between PREMIUM_CUSTOMER and total sales\u001b[0m\n"
          ],
          "name": "stdout"
        },
        {
          "output_type": "execute_result",
          "data": {
            "text/html": [
              "<div>\n",
              "<style scoped>\n",
              "    .dataframe tbody tr th:only-of-type {\n",
              "        vertical-align: middle;\n",
              "    }\n",
              "\n",
              "    .dataframe tbody tr th {\n",
              "        vertical-align: top;\n",
              "    }\n",
              "\n",
              "    .dataframe thead th {\n",
              "        text-align: right;\n",
              "    }\n",
              "</style>\n",
              "<table border=\"1\" class=\"dataframe\">\n",
              "  <thead>\n",
              "    <tr style=\"text-align: right;\">\n",
              "      <th></th>\n",
              "      <th>sum</th>\n",
              "      <th>mean</th>\n",
              "    </tr>\n",
              "    <tr>\n",
              "      <th>PREMIUM_CUSTOMER</th>\n",
              "      <th></th>\n",
              "      <th></th>\n",
              "    </tr>\n",
              "  </thead>\n",
              "  <tbody>\n",
              "    <tr>\n",
              "      <th>Mainstream</th>\n",
              "      <td>700832.90</td>\n",
              "      <td>7.374316</td>\n",
              "    </tr>\n",
              "    <tr>\n",
              "      <th>Budget</th>\n",
              "      <td>631376.95</td>\n",
              "      <td>7.277533</td>\n",
              "    </tr>\n",
              "    <tr>\n",
              "      <th>Premium</th>\n",
              "      <td>472886.15</td>\n",
              "      <td>7.283015</td>\n",
              "    </tr>\n",
              "  </tbody>\n",
              "</table>\n",
              "</div>"
            ],
            "text/plain": [
              "                        sum      mean\n",
              "PREMIUM_CUSTOMER                     \n",
              "Mainstream        700832.90  7.374316\n",
              "Budget            631376.95  7.277533\n",
              "Premium           472886.15  7.283015"
            ]
          },
          "metadata": {},
          "execution_count": 79
        },
        {
          "output_type": "execute_result",
          "data": {
            "text/plain": [
              "<matplotlib.axes._subplots.AxesSubplot at 0x7f4fd29c7c50>"
            ]
          },
          "metadata": {},
          "execution_count": 79
        },
        {
          "output_type": "display_data",
          "data": {
            "image/png": "[encoded data removed]",
            "text/plain": [
              "<Figure size 864x504 with 1 Axes>"
            ]
          },
          "metadata": {
            "needs_background": "light"
          }
        }
      ]
    },
    {
      "cell_type": "code",
      "metadata": {
        "colab": {
          "base_uri": "https://localhost:8080/",
          "height": 422
        },
        "id": "TcoLUozJjAbx",
        "outputId": "903d3c29-f72b-456a-d227-d59e044055c5"
      },
      "source": [
        "print('\\033[1m' + \"\\nbar chart between Premium customers and total sales\" + '\\033[0m')\n",
        "df_grp = mdf5.groupby([\"PREMIUM_CUSTOMER\"])[\"TOT_SALES\"]\n",
        "xx = pd.concat(\n",
        "    [df_grp.mean().rename('average'), df_grp.min().rename('min'), \n",
        "      df_grp.max().rename('max')],\n",
        "    axis=1)\n",
        "print(xx)\n",
        "xx.plot.barh().set_title('xx')"
      ],
      "execution_count": 80,
      "outputs": [
        {
          "output_type": "stream",
          "text": [
            "\u001b[1m\n",
            "bar chart between Premium customers and total sales\u001b[0m\n",
            "                   average  min   max\n",
            "PREMIUM_CUSTOMER                     \n",
            "Budget            7.277533  1.7  29.5\n",
            "Mainstream        7.374316  1.7  29.5\n",
            "Premium           7.283015  1.7  29.5\n"
          ],
          "name": "stdout"
        },
        {
          "output_type": "execute_result",
          "data": {
            "text/plain": [
              "Text(0.5, 1.0, 'xx')"
            ]
          },
          "metadata": {},
          "execution_count": 80
        },
        {
          "output_type": "display_data",
          "data": {
            "image/png": "[encoded data removed]",
            "text/plain": [
              "<Figure size 432x288 with 1 Axes>"
            ]
          },
          "metadata": {
            "needs_background": "light"
          }
        }
      ]
    },
    {
      "cell_type": "code",
      "metadata": {
        "colab": {
          "base_uri": "https://localhost:8080/",
          "height": 710
        },
        "id": "59Rg2gxNnzGC",
        "outputId": "5960d2f0-29ad-4bc9-96df-fac1a193d215"
      },
      "source": [
        "print('\\033[1m' + \"\\nbar chart between PROD_QTY and total sales\" + '\\033[0m')\n",
        "df_grp = pd.DataFrame(mdf5.groupby([\"PROD_QTY\"])[\"TOT_SALES\"].agg([\"sum\", \"mean\"]))\n",
        "df_grp.sort_values(ascending=False, by=\"sum\")\n",
        "df_grp[\"sum\"].sort_values().plot.barh(figsize=(12,7))"
      ],
      "execution_count": 81,
      "outputs": [
        {
          "output_type": "stream",
          "text": [
            "\u001b[1m\n",
            "bar chart between PROD_QTY and total sales\u001b[0m\n"
          ],
          "name": "stdout"
        },
        {
          "output_type": "execute_result",
          "data": {
            "text/html": [
              "<div>\n",
              "<style scoped>\n",
              "    .dataframe tbody tr th:only-of-type {\n",
              "        vertical-align: middle;\n",
              "    }\n",
              "\n",
              "    .dataframe tbody tr th {\n",
              "        vertical-align: top;\n",
              "    }\n",
              "\n",
              "    .dataframe thead th {\n",
              "        text-align: right;\n",
              "    }\n",
              "</style>\n",
              "<table border=\"1\" class=\"dataframe\">\n",
              "  <thead>\n",
              "    <tr style=\"text-align: right;\">\n",
              "      <th></th>\n",
              "      <th>sum</th>\n",
              "      <th>mean</th>\n",
              "    </tr>\n",
              "    <tr>\n",
              "      <th>PROD_QTY</th>\n",
              "      <th></th>\n",
              "      <th></th>\n",
              "    </tr>\n",
              "  </thead>\n",
              "  <tbody>\n",
              "    <tr>\n",
              "      <th>2</th>\n",
              "      <td>1692272.70</td>\n",
              "      <td>7.689947</td>\n",
              "    </tr>\n",
              "    <tr>\n",
              "      <th>1</th>\n",
              "      <td>94933.50</td>\n",
              "      <td>3.727706</td>\n",
              "    </tr>\n",
              "    <tr>\n",
              "      <th>5</th>\n",
              "      <td>7603.95</td>\n",
              "      <td>18.322771</td>\n",
              "    </tr>\n",
              "    <tr>\n",
              "      <th>4</th>\n",
              "      <td>5574.20</td>\n",
              "      <td>15.024798</td>\n",
              "    </tr>\n",
              "    <tr>\n",
              "      <th>3</th>\n",
              "      <td>4711.65</td>\n",
              "      <td>11.548162</td>\n",
              "    </tr>\n",
              "  </tbody>\n",
              "</table>\n",
              "</div>"
            ],
            "text/plain": [
              "                 sum       mean\n",
              "PROD_QTY                       \n",
              "2         1692272.70   7.689947\n",
              "1           94933.50   3.727706\n",
              "5            7603.95  18.322771\n",
              "4            5574.20  15.024798\n",
              "3            4711.65  11.548162"
            ]
          },
          "metadata": {},
          "execution_count": 81
        },
        {
          "output_type": "execute_result",
          "data": {
            "text/plain": [
              "<matplotlib.axes._subplots.AxesSubplot at 0x7f4fd2a05610>"
            ]
          },
          "metadata": {},
          "execution_count": 81
        },
        {
          "output_type": "display_data",
          "data": {
            "image/png": "[encoded data removed]",
            "text/plain": [
              "<Figure size 864x504 with 1 Axes>"
            ]
          },
          "metadata": {
            "needs_background": "light"
          }
        }
      ]
    },
    {
      "cell_type": "code",
      "metadata": {
        "colab": {
          "base_uri": "https://localhost:8080/",
          "height": 457
        },
        "id": "oYXcB3-_jo6j",
        "outputId": "84fc9cb2-3084-4c2c-dc2d-4d7010a96018"
      },
      "source": [
        "print('\\033[1m' + \"\\nbar chart between PROD_QTY and total sales\" + '\\033[0m')\n",
        "df_grp = mdf5.groupby([\"PROD_QTY\"])[\"TOT_SALES\"]\n",
        "xx = pd.concat(\n",
        "    [df_grp.mean().rename('average'), df_grp.min().rename('min'), \n",
        "      df_grp.max().rename('max')],\n",
        "    axis=1)\n",
        "print(xx)\n",
        "xx.plot.barh().set_title('xx')"
      ],
      "execution_count": 82,
      "outputs": [
        {
          "output_type": "stream",
          "text": [
            "\u001b[1m\n",
            "bar chart between PROD_QTY and total sales\u001b[0m\n",
            "            average  min   max\n",
            "PROD_QTY                      \n",
            "1          3.727706  1.7   6.5\n",
            "2          7.689947  2.7  13.0\n",
            "3         11.548162  5.1  19.5\n",
            "4         15.024798  6.8  23.6\n",
            "5         18.322771  6.6  29.5\n"
          ],
          "name": "stdout"
        },
        {
          "output_type": "execute_result",
          "data": {
            "text/plain": [
              "Text(0.5, 1.0, 'xx')"
            ]
          },
          "metadata": {},
          "execution_count": 82
        },
        {
          "output_type": "display_data",
          "data": {
            "image/png": "[encoded data removed]",
            "text/plain": [
              "<Figure size 432x288 with 1 Axes>"
            ]
          },
          "metadata": {
            "needs_background": "light"
          }
        }
      ]
    },
    {
      "cell_type": "markdown",
      "metadata": {
        "id": "InXxjMFtwBqm"
      },
      "source": [
        "**Insights:**\n",
        "prod_qty 2 has highest total sales but 5 has higest avg sale. need to focus on total sale and avg sale simultaneoulsy. There are possiblities for category 4 to get high total sale as well as high avg sale. \n"
      ]
    },
    {
      "cell_type": "code",
      "metadata": {
        "colab": {
          "base_uri": "https://localhost:8080/",
          "height": 1159
        },
        "id": "GVfT4gh6j44Z",
        "outputId": "e39e4439-b7fe-4599-b6f3-d5abe2320901"
      },
      "source": [
        "print('\\033[1m' + \"\\nbar chart between Cleaned_Brand_Names and total sales\" + '\\033[0m')\n",
        "df_grp = pd.DataFrame(mdf5.groupby([\"Cleaned_Brand_Names\"])[\"TOT_SALES\"].agg([\"sum\", \"mean\"]))\n",
        "df_grp.sort_values(ascending=False, by=\"sum\")\n",
        "df_grp[\"sum\"].sort_values().plot.barh(figsize=(12,7))\n"
      ],
      "execution_count": 83,
      "outputs": [
        {
          "output_type": "stream",
          "text": [
            "\u001b[1m\n",
            "bar chart between Cleaned_Brand_Names and total sales\u001b[0m\n"
          ],
          "name": "stdout"
        },
        {
          "output_type": "execute_result",
          "data": {
            "text/html": [
              "<div>\n",
              "<style scoped>\n",
              "    .dataframe tbody tr th:only-of-type {\n",
              "        vertical-align: middle;\n",
              "    }\n",
              "\n",
              "    .dataframe tbody tr th {\n",
              "        vertical-align: top;\n",
              "    }\n",
              "\n",
              "    .dataframe thead th {\n",
              "        text-align: right;\n",
              "    }\n",
              "</style>\n",
              "<table border=\"1\" class=\"dataframe\">\n",
              "  <thead>\n",
              "    <tr style=\"text-align: right;\">\n",
              "      <th></th>\n",
              "      <th>sum</th>\n",
              "      <th>mean</th>\n",
              "    </tr>\n",
              "    <tr>\n",
              "      <th>Cleaned_Brand_Names</th>\n",
              "      <th></th>\n",
              "      <th></th>\n",
              "    </tr>\n",
              "  </thead>\n",
              "  <tbody>\n",
              "    <tr>\n",
              "      <th>Kettle</th>\n",
              "      <td>390226.0</td>\n",
              "      <td>9.451775</td>\n",
              "    </tr>\n",
              "    <tr>\n",
              "      <th>Doritos</th>\n",
              "      <td>226321.1</td>\n",
              "      <td>8.972807</td>\n",
              "    </tr>\n",
              "    <tr>\n",
              "      <th>Smiths</th>\n",
              "      <td>217471.1</td>\n",
              "      <td>7.165676</td>\n",
              "    </tr>\n",
              "    <tr>\n",
              "      <th>Pringles</th>\n",
              "      <td>177644.4</td>\n",
              "      <td>7.077748</td>\n",
              "    </tr>\n",
              "    <tr>\n",
              "      <th>Infuzions</th>\n",
              "      <td>99040.0</td>\n",
              "      <td>6.974648</td>\n",
              "    </tr>\n",
              "    <tr>\n",
              "      <th>Thins</th>\n",
              "      <td>88852.5</td>\n",
              "      <td>6.312789</td>\n",
              "    </tr>\n",
              "    <tr>\n",
              "      <th>RRD</th>\n",
              "      <td>87604.5</td>\n",
              "      <td>5.367923</td>\n",
              "    </tr>\n",
              "    <tr>\n",
              "      <th>Twisties</th>\n",
              "      <td>81522.1</td>\n",
              "      <td>8.623027</td>\n",
              "    </tr>\n",
              "    <tr>\n",
              "      <th>Tostitos</th>\n",
              "      <td>79780.8</td>\n",
              "      <td>8.424583</td>\n",
              "    </tr>\n",
              "    <tr>\n",
              "      <th>Cobs</th>\n",
              "      <td>70566.0</td>\n",
              "      <td>7.280850</td>\n",
              "    </tr>\n",
              "    <tr>\n",
              "      <th>Tyrrells</th>\n",
              "      <td>51647.4</td>\n",
              "      <td>8.017293</td>\n",
              "    </tr>\n",
              "    <tr>\n",
              "      <th>Grain Waves</th>\n",
              "      <td>51617.2</td>\n",
              "      <td>6.668889</td>\n",
              "    </tr>\n",
              "    <tr>\n",
              "      <th>Natural Chip Co</th>\n",
              "      <td>42318.0</td>\n",
              "      <td>5.665819</td>\n",
              "    </tr>\n",
              "    <tr>\n",
              "      <th>Woolworths</th>\n",
              "      <td>41057.3</td>\n",
              "      <td>3.469142</td>\n",
              "    </tr>\n",
              "    <tr>\n",
              "      <th>Cheezels</th>\n",
              "      <td>40029.9</td>\n",
              "      <td>8.696481</td>\n",
              "    </tr>\n",
              "    <tr>\n",
              "      <th>CCs</th>\n",
              "      <td>18076.8</td>\n",
              "      <td>3.972923</td>\n",
              "    </tr>\n",
              "    <tr>\n",
              "      <th>Cheetos</th>\n",
              "      <td>16884.5</td>\n",
              "      <td>5.768534</td>\n",
              "    </tr>\n",
              "    <tr>\n",
              "      <th>Sunbites</th>\n",
              "      <td>9676.4</td>\n",
              "      <td>3.216888</td>\n",
              "    </tr>\n",
              "    <tr>\n",
              "      <th>French</th>\n",
              "      <td>7929.0</td>\n",
              "      <td>5.591678</td>\n",
              "    </tr>\n",
              "    <tr>\n",
              "      <th>Burger</th>\n",
              "      <td>6831.0</td>\n",
              "      <td>4.367647</td>\n",
              "    </tr>\n",
              "  </tbody>\n",
              "</table>\n",
              "</div>"
            ],
            "text/plain": [
              "                          sum      mean\n",
              "Cleaned_Brand_Names                    \n",
              "Kettle               390226.0  9.451775\n",
              "Doritos              226321.1  8.972807\n",
              "Smiths               217471.1  7.165676\n",
              "Pringles             177644.4  7.077748\n",
              "Infuzions             99040.0  6.974648\n",
              "Thins                 88852.5  6.312789\n",
              "RRD                   87604.5  5.367923\n",
              "Twisties              81522.1  8.623027\n",
              "Tostitos              79780.8  8.424583\n",
              "Cobs                  70566.0  7.280850\n",
              "Tyrrells              51647.4  8.017293\n",
              "Grain Waves           51617.2  6.668889\n",
              "Natural Chip Co       42318.0  5.665819\n",
              "Woolworths            41057.3  3.469142\n",
              "Cheezels              40029.9  8.696481\n",
              "CCs                   18076.8  3.972923\n",
              "Cheetos               16884.5  5.768534\n",
              "Sunbites               9676.4  3.216888\n",
              "French                 7929.0  5.591678\n",
              "Burger                 6831.0  4.367647"
            ]
          },
          "metadata": {},
          "execution_count": 83
        },
        {
          "output_type": "execute_result",
          "data": {
            "text/plain": [
              "<matplotlib.axes._subplots.AxesSubplot at 0x7f4fd2a4f350>"
            ]
          },
          "metadata": {},
          "execution_count": 83
        },
        {
          "output_type": "display_data",
          "data": {
            "image/png": "[encoded data removed]",
            "text/plain": [
              "<Figure size 864x504 with 1 Axes>"
            ]
          },
          "metadata": {
            "needs_background": "light"
          }
        }
      ]
    },
    {
      "cell_type": "code",
      "metadata": {
        "colab": {
          "base_uri": "https://localhost:8080/",
          "height": 334
        },
        "id": "IBMJ13TBwcX_",
        "outputId": "645e37bb-050a-4019-a7ee-c3fa9c0a2314"
      },
      "source": [
        "print('\\033[1m' + \"\\nbar chart between Cleaned_Brand_Names and total sales\" + '\\033[0m')\n",
        "df_grp = mdf5.groupby([\"Cleaned_Brand_Names\"])[\"TOT_SALES\"]\n",
        "xx = pd.concat(\n",
        "    [df_grp.mean().rename('average'), df_grp.min().rename('min'), \n",
        "      df_grp.max().rename('max')],\n",
        "    axis=1)\n",
        "\n",
        "xx.sort_values(by='average').plot.barh().set_title('xx')"
      ],
      "execution_count": 84,
      "outputs": [
        {
          "output_type": "stream",
          "text": [
            "\u001b[1m\n",
            "bar chart between Cleaned_Brand_Names and total sales\u001b[0m\n"
          ],
          "name": "stdout"
        },
        {
          "output_type": "execute_result",
          "data": {
            "text/plain": [
              "Text(0.5, 1.0, 'xx')"
            ]
          },
          "metadata": {},
          "execution_count": 84
        },
        {
          "output_type": "display_data",
          "data": {
            "image/png": "[encoded data removed]",
            "text/plain": [
              "<Figure size 432x288 with 1 Axes>"
            ]
          },
          "metadata": {
            "needs_background": "light"
          }
        }
      ]
    },
    {
      "cell_type": "markdown",
      "metadata": {
        "id": "gOX4yTfMxDSm"
      },
      "source": [
        "**Insights:**\n",
        "There are so many brands which have opportunity to increase sales. As per avg sale after kettle and doritos there are 6 brands from cheezles to cobs in avg sales graph need focus to increase sales.\n",
        "\n"
      ]
    },
    {
      "cell_type": "code",
      "metadata": {
        "colab": {
          "base_uri": "https://localhost:8080/",
          "height": 203
        },
        "id": "V8lR_kIDknOG",
        "outputId": "96d84ccc-dc41-4bb7-c999-885bb74e4830"
      },
      "source": [
        "mdf5.head()"
      ],
      "execution_count": 85,
      "outputs": [
        {
          "output_type": "execute_result",
          "data": {
            "text/html": [
              "<div>\n",
              "<style scoped>\n",
              "    .dataframe tbody tr th:only-of-type {\n",
              "        vertical-align: middle;\n",
              "    }\n",
              "\n",
              "    .dataframe tbody tr th {\n",
              "        vertical-align: top;\n",
              "    }\n",
              "\n",
              "    .dataframe thead th {\n",
              "        text-align: right;\n",
              "    }\n",
              "</style>\n",
              "<table border=\"1\" class=\"dataframe\">\n",
              "  <thead>\n",
              "    <tr style=\"text-align: right;\">\n",
              "      <th></th>\n",
              "      <th>LYLTY_CARD_NBR</th>\n",
              "      <th>TXN_ID</th>\n",
              "      <th>LIFESTAGE</th>\n",
              "      <th>PREMIUM_CUSTOMER</th>\n",
              "      <th>DATE</th>\n",
              "      <th>STORE_NBR</th>\n",
              "      <th>PROD_NBR</th>\n",
              "      <th>PROD_QTY</th>\n",
              "      <th>Cleaned_Brand_Names</th>\n",
              "      <th>pack_sizes</th>\n",
              "      <th>TOT_SALES</th>\n",
              "    </tr>\n",
              "  </thead>\n",
              "  <tbody>\n",
              "    <tr>\n",
              "      <th>0</th>\n",
              "      <td>1000</td>\n",
              "      <td>1</td>\n",
              "      <td>YOUNG SINGLES/COUPLES</td>\n",
              "      <td>Premium</td>\n",
              "      <td>2018-10-17</td>\n",
              "      <td>1</td>\n",
              "      <td>5</td>\n",
              "      <td>2</td>\n",
              "      <td>Natural Chip Co</td>\n",
              "      <td>175.0</td>\n",
              "      <td>6.0</td>\n",
              "    </tr>\n",
              "    <tr>\n",
              "      <th>1</th>\n",
              "      <td>1307</td>\n",
              "      <td>348</td>\n",
              "      <td>MIDAGE SINGLES/COUPLES</td>\n",
              "      <td>Budget</td>\n",
              "      <td>2019-05-14</td>\n",
              "      <td>1</td>\n",
              "      <td>66</td>\n",
              "      <td>3</td>\n",
              "      <td>CCs</td>\n",
              "      <td>175.0</td>\n",
              "      <td>6.3</td>\n",
              "    </tr>\n",
              "    <tr>\n",
              "      <th>2</th>\n",
              "      <td>1307</td>\n",
              "      <td>346</td>\n",
              "      <td>MIDAGE SINGLES/COUPLES</td>\n",
              "      <td>Budget</td>\n",
              "      <td>2018-11-10</td>\n",
              "      <td>1</td>\n",
              "      <td>96</td>\n",
              "      <td>2</td>\n",
              "      <td>Woolworths</td>\n",
              "      <td>160.0</td>\n",
              "      <td>3.8</td>\n",
              "    </tr>\n",
              "    <tr>\n",
              "      <th>3</th>\n",
              "      <td>1307</td>\n",
              "      <td>347</td>\n",
              "      <td>MIDAGE SINGLES/COUPLES</td>\n",
              "      <td>Budget</td>\n",
              "      <td>2019-03-09</td>\n",
              "      <td>1</td>\n",
              "      <td>54</td>\n",
              "      <td>1</td>\n",
              "      <td>CCs</td>\n",
              "      <td>175.0</td>\n",
              "      <td>2.1</td>\n",
              "    </tr>\n",
              "    <tr>\n",
              "      <th>4</th>\n",
              "      <td>1343</td>\n",
              "      <td>383</td>\n",
              "      <td>MIDAGE SINGLES/COUPLES</td>\n",
              "      <td>Budget</td>\n",
              "      <td>2019-05-20</td>\n",
              "      <td>1</td>\n",
              "      <td>61</td>\n",
              "      <td>2</td>\n",
              "      <td>Smiths</td>\n",
              "      <td>170.0</td>\n",
              "      <td>2.9</td>\n",
              "    </tr>\n",
              "  </tbody>\n",
              "</table>\n",
              "</div>"
            ],
            "text/plain": [
              "   LYLTY_CARD_NBR  TXN_ID               LIFESTAGE PREMIUM_CUSTOMER       DATE  \\\n",
              "0            1000       1   YOUNG SINGLES/COUPLES          Premium 2018-10-17   \n",
              "1            1307     348  MIDAGE SINGLES/COUPLES           Budget 2019-05-14   \n",
              "2            1307     346  MIDAGE SINGLES/COUPLES           Budget 2018-11-10   \n",
              "3            1307     347  MIDAGE SINGLES/COUPLES           Budget 2019-03-09   \n",
              "4            1343     383  MIDAGE SINGLES/COUPLES           Budget 2019-05-20   \n",
              "\n",
              "   STORE_NBR  PROD_NBR  PROD_QTY Cleaned_Brand_Names  pack_sizes  TOT_SALES  \n",
              "0          1         5         2     Natural Chip Co       175.0        6.0  \n",
              "1          1        66         3                 CCs       175.0        6.3  \n",
              "2          1        96         2          Woolworths       160.0        3.8  \n",
              "3          1        54         1                 CCs       175.0        2.1  \n",
              "4          1        61         2              Smiths       170.0        2.9  "
            ]
          },
          "metadata": {},
          "execution_count": 85
        }
      ]
    },
    {
      "cell_type": "code",
      "metadata": {
        "colab": {
          "base_uri": "https://localhost:8080/",
          "height": 726
        },
        "id": "WXa1lEeZZ9u7",
        "outputId": "dfd5d55b-bb37-414d-bcc6-1011d4443a68"
      },
      "source": [
        "grouped_sales = pd.DataFrame(mdf5.groupby([\"LIFESTAGE\", \"PREMIUM_CUSTOMER\"])[\"TOT_SALES\"].agg([\"sum\", \"mean\"]))\n",
        "grouped_sales.sort_values(ascending=False, by=\"sum\")"
      ],
      "execution_count": 86,
      "outputs": [
        {
          "output_type": "execute_result",
          "data": {
            "text/html": [
              "<div>\n",
              "<style scoped>\n",
              "    .dataframe tbody tr th:only-of-type {\n",
              "        vertical-align: middle;\n",
              "    }\n",
              "\n",
              "    .dataframe tbody tr th {\n",
              "        vertical-align: top;\n",
              "    }\n",
              "\n",
              "    .dataframe thead th {\n",
              "        text-align: right;\n",
              "    }\n",
              "</style>\n",
              "<table border=\"1\" class=\"dataframe\">\n",
              "  <thead>\n",
              "    <tr style=\"text-align: right;\">\n",
              "      <th></th>\n",
              "      <th></th>\n",
              "      <th>sum</th>\n",
              "      <th>mean</th>\n",
              "    </tr>\n",
              "    <tr>\n",
              "      <th>LIFESTAGE</th>\n",
              "      <th>PREMIUM_CUSTOMER</th>\n",
              "      <th></th>\n",
              "      <th></th>\n",
              "    </tr>\n",
              "  </thead>\n",
              "  <tbody>\n",
              "    <tr>\n",
              "      <th>OLDER FAMILIES</th>\n",
              "      <th>Budget</th>\n",
              "      <td>156854.95</td>\n",
              "      <td>7.291170</td>\n",
              "    </tr>\n",
              "    <tr>\n",
              "      <th>YOUNG SINGLES/COUPLES</th>\n",
              "      <th>Mainstream</th>\n",
              "      <td>147573.90</td>\n",
              "      <td>7.551627</td>\n",
              "    </tr>\n",
              "    <tr>\n",
              "      <th>RETIREES</th>\n",
              "      <th>Mainstream</th>\n",
              "      <td>145168.95</td>\n",
              "      <td>7.269352</td>\n",
              "    </tr>\n",
              "    <tr>\n",
              "      <th>YOUNG FAMILIES</th>\n",
              "      <th>Budget</th>\n",
              "      <td>129710.35</td>\n",
              "      <td>7.302688</td>\n",
              "    </tr>\n",
              "    <tr>\n",
              "      <th rowspan=\"3\" valign=\"top\">OLDER SINGLES/COUPLES</th>\n",
              "      <th>Budget</th>\n",
              "      <td>127833.60</td>\n",
              "      <td>7.444305</td>\n",
              "    </tr>\n",
              "    <tr>\n",
              "      <th>Mainstream</th>\n",
              "      <td>124636.50</td>\n",
              "      <td>7.306202</td>\n",
              "    </tr>\n",
              "    <tr>\n",
              "      <th>Premium</th>\n",
              "      <td>123521.95</td>\n",
              "      <td>7.460857</td>\n",
              "    </tr>\n",
              "    <tr>\n",
              "      <th>RETIREES</th>\n",
              "      <th>Budget</th>\n",
              "      <td>105907.50</td>\n",
              "      <td>7.445690</td>\n",
              "    </tr>\n",
              "    <tr>\n",
              "      <th>OLDER FAMILIES</th>\n",
              "      <th>Mainstream</th>\n",
              "      <td>96413.55</td>\n",
              "      <td>7.281440</td>\n",
              "    </tr>\n",
              "    <tr>\n",
              "      <th>RETIREES</th>\n",
              "      <th>Premium</th>\n",
              "      <td>91292.95</td>\n",
              "      <td>7.461622</td>\n",
              "    </tr>\n",
              "    <tr>\n",
              "      <th>YOUNG FAMILIES</th>\n",
              "      <th>Mainstream</th>\n",
              "      <td>86335.25</td>\n",
              "      <td>7.227126</td>\n",
              "    </tr>\n",
              "    <tr>\n",
              "      <th>MIDAGE SINGLES/COUPLES</th>\n",
              "      <th>Mainstream</th>\n",
              "      <td>84725.05</td>\n",
              "      <td>7.637016</td>\n",
              "    </tr>\n",
              "    <tr>\n",
              "      <th>YOUNG FAMILIES</th>\n",
              "      <th>Premium</th>\n",
              "      <td>78571.70</td>\n",
              "      <td>7.285951</td>\n",
              "    </tr>\n",
              "    <tr>\n",
              "      <th>OLDER FAMILIES</th>\n",
              "      <th>Premium</th>\n",
              "      <td>75242.60</td>\n",
              "      <td>7.232779</td>\n",
              "    </tr>\n",
              "    <tr>\n",
              "      <th>YOUNG SINGLES/COUPLES</th>\n",
              "      <th>Budget</th>\n",
              "      <td>57117.40</td>\n",
              "      <td>6.664030</td>\n",
              "    </tr>\n",
              "    <tr>\n",
              "      <th>MIDAGE SINGLES/COUPLES</th>\n",
              "      <th>Premium</th>\n",
              "      <td>54443.85</td>\n",
              "      <td>7.152371</td>\n",
              "    </tr>\n",
              "    <tr>\n",
              "      <th>YOUNG SINGLES/COUPLES</th>\n",
              "      <th>Premium</th>\n",
              "      <td>39052.30</td>\n",
              "      <td>6.673325</td>\n",
              "    </tr>\n",
              "    <tr>\n",
              "      <th>MIDAGE SINGLES/COUPLES</th>\n",
              "      <th>Budget</th>\n",
              "      <td>33345.70</td>\n",
              "      <td>7.108442</td>\n",
              "    </tr>\n",
              "    <tr>\n",
              "      <th rowspan=\"3\" valign=\"top\">NEW FAMILIES</th>\n",
              "      <th>Budget</th>\n",
              "      <td>20607.45</td>\n",
              "      <td>7.297256</td>\n",
              "    </tr>\n",
              "    <tr>\n",
              "      <th>Mainstream</th>\n",
              "      <td>15979.70</td>\n",
              "      <td>7.313364</td>\n",
              "    </tr>\n",
              "    <tr>\n",
              "      <th>Premium</th>\n",
              "      <td>10760.80</td>\n",
              "      <td>7.231720</td>\n",
              "    </tr>\n",
              "  </tbody>\n",
              "</table>\n",
              "</div>"
            ],
            "text/plain": [
              "                                               sum      mean\n",
              "LIFESTAGE              PREMIUM_CUSTOMER                     \n",
              "OLDER FAMILIES         Budget            156854.95  7.291170\n",
              "YOUNG SINGLES/COUPLES  Mainstream        147573.90  7.551627\n",
              "RETIREES               Mainstream        145168.95  7.269352\n",
              "YOUNG FAMILIES         Budget            129710.35  7.302688\n",
              "OLDER SINGLES/COUPLES  Budget            127833.60  7.444305\n",
              "                       Mainstream        124636.50  7.306202\n",
              "                       Premium           123521.95  7.460857\n",
              "RETIREES               Budget            105907.50  7.445690\n",
              "OLDER FAMILIES         Mainstream         96413.55  7.281440\n",
              "RETIREES               Premium            91292.95  7.461622\n",
              "YOUNG FAMILIES         Mainstream         86335.25  7.227126\n",
              "MIDAGE SINGLES/COUPLES Mainstream         84725.05  7.637016\n",
              "YOUNG FAMILIES         Premium            78571.70  7.285951\n",
              "OLDER FAMILIES         Premium            75242.60  7.232779\n",
              "YOUNG SINGLES/COUPLES  Budget             57117.40  6.664030\n",
              "MIDAGE SINGLES/COUPLES Premium            54443.85  7.152371\n",
              "YOUNG SINGLES/COUPLES  Premium            39052.30  6.673325\n",
              "MIDAGE SINGLES/COUPLES Budget             33345.70  7.108442\n",
              "NEW FAMILIES           Budget             20607.45  7.297256\n",
              "                       Mainstream         15979.70  7.313364\n",
              "                       Premium            10760.80  7.231720"
            ]
          },
          "metadata": {},
          "execution_count": 86
        }
      ]
    },
    {
      "cell_type": "code",
      "metadata": {
        "colab": {
          "base_uri": "https://localhost:8080/",
          "height": 446
        },
        "id": "4CGzInI6atuZ",
        "outputId": "ad71e2f2-b9ba-4130-fa40-fba886b0669f"
      },
      "source": [
        "grouped_sales[\"sum\"].sort_values().plot.barh(figsize=(12,7))"
      ],
      "execution_count": 87,
      "outputs": [
        {
          "output_type": "execute_result",
          "data": {
            "text/plain": [
              "<matplotlib.axes._subplots.AxesSubplot at 0x7f4fd2ae84d0>"
            ]
          },
          "metadata": {},
          "execution_count": 87
        },
        {
          "output_type": "display_data",
          "data": {
            "image/png": "[encoded data removed]",
            "text/plain": [
              "<Figure size 864x504 with 1 Axes>"
            ]
          },
          "metadata": {
            "needs_background": "light"
          }
        }
      ]
    },
    {
      "cell_type": "markdown",
      "metadata": {
        "id": "i2AwEEFUuOiu"
      },
      "source": [
        "The top 3 total sales contributor segment are (in order):\n",
        "\n",
        "Older families (Budget) \\$156,864\n",
        "\n",
        "Young Singles/Couples (Mainstream) \\$147,582\n",
        "\n",
        "Retirees (Mainstream) \\$145,169"
      ]
    },
    {
      "cell_type": "code",
      "metadata": {
        "colab": {
          "base_uri": "https://localhost:8080/",
          "height": 634
        },
        "id": "JzK0nL3ObFWa",
        "outputId": "e9a815a6-5f20-4d9d-8242-112a88837cab"
      },
      "source": [
        "# Values of each group\n",
        "bars1 = grouped_sales[grouped_sales.index.get_level_values(\"PREMIUM_CUSTOMER\") == \"Budget\"][\"sum\"]\n",
        "bars2 = grouped_sales[grouped_sales.index.get_level_values(\"PREMIUM_CUSTOMER\") == \"Mainstream\"][\"sum\"]\n",
        "bars3 = grouped_sales[grouped_sales.index.get_level_values(\"PREMIUM_CUSTOMER\") == \"Premium\"][\"sum\"]\n",
        " \n",
        "bars1_text = (bars1 / sum(grouped_sales[\"sum\"])).apply(\"{:.1%}\".format)\n",
        "bars2_text = (bars2 / sum(grouped_sales[\"sum\"])).apply(\"{:.1%}\".format)\n",
        "bars3_text = (bars3 / sum(grouped_sales[\"sum\"])).apply(\"{:.1%}\".format)\n",
        " \n",
        "# Names of group and bar width\n",
        "names = grouped_sales.index.get_level_values(\"LIFESTAGE\").unique()\n",
        "\n",
        "# The position of the bars on the x-axis\n",
        "r = np.arange(len(names))\n",
        "\n",
        "plt.figure(figsize=(13,5)) \n",
        "\n",
        "# Create brown bars\n",
        "budget_bar = plt.barh(r, bars1, edgecolor='grey', height=1, label=\"Budget\")\n",
        "# Create green bars (middle), on top of the firs ones\n",
        "mains_bar = plt.barh(r, bars2, left=bars1, edgecolor='grey', height=1, label=\"Mainstream\")\n",
        "# Create green bars (top)\n",
        "prem_bar = plt.barh(r, bars3, left=np.add(bars1.to_list(), bars2.to_list()), edgecolor='grey', height=1, label=\"Premium\")\n",
        "\n",
        "\n",
        "    \n",
        "for i in range(7):\n",
        "    budget_width = budget_bar[i].get_width()\n",
        "    budget_main_width = budget_width + mains_bar[i].get_width()\n",
        "    plt.text(budget_width/2, i, bars1_text[i], va='center', ha='center', size=8)\n",
        "    plt.text(budget_width + mains_bar[i].get_width()/2, i, bars2_text[i], va='center', ha='center', size=8)\n",
        "    plt.text(budget_main_width + prem_bar[i].get_width()/2, i, bars3_text[i], va='center', ha='center', size=8)\n",
        "    \n",
        "# Custom X axis\n",
        "plt.yticks(r, names)\n",
        "plt.ylabel(\"LIFESTAGE\")\n",
        "plt.xlabel(\"TOTAL SALES\")\n",
        "plt.legend(loc='center left', bbox_to_anchor=(1.0, 0.5))\n",
        "\n",
        "plt.title(\"Total Sales per Lifestage\")\n",
        "\n",
        "plt.savefig(\"lifestage_sales.png\", bbox_inches=\"tight\")\n",
        "\n",
        "# Show graphic\n",
        "plt.show()"
      ],
      "execution_count": 88,
      "outputs": [
        {
          "output_type": "execute_result",
          "data": {
            "text/plain": [
              "<Figure size 936x360 with 0 Axes>"
            ]
          },
          "metadata": {},
          "execution_count": 88
        },
        {
          "output_type": "execute_result",
          "data": {
            "text/plain": [
              "Text(16672.849999999984, 0, '1.8%')"
            ]
          },
          "metadata": {},
          "execution_count": 88
        },
        {
          "output_type": "execute_result",
          "data": {
            "text/plain": [
              "Text(75708.22500000065, 0, '4.7%')"
            ]
          },
          "metadata": {},
          "execution_count": 88
        },
        {
          "output_type": "execute_result",
          "data": {
            "text/plain": [
              "Text(145292.67500000182, 0, '3.0%')"
            ]
          },
          "metadata": {},
          "execution_count": 88
        },
        {
          "output_type": "execute_result",
          "data": {
            "text/plain": [
              "Text(10303.724999999946, 1, '1.1%')"
            ]
          },
          "metadata": {},
          "execution_count": 88
        },
        {
          "output_type": "execute_result",
          "data": {
            "text/plain": [
              "Text(28597.299999999854, 1, '0.9%')"
            ]
          },
          "metadata": {},
          "execution_count": 88
        },
        {
          "output_type": "execute_result",
          "data": {
            "text/plain": [
              "Text(41967.54999999981, 1, '0.6%')"
            ]
          },
          "metadata": {},
          "execution_count": 88
        },
        {
          "output_type": "execute_result",
          "data": {
            "text/plain": [
              "Text(78427.47499999705, 2, '8.7%')"
            ]
          },
          "metadata": {},
          "execution_count": 88
        },
        {
          "output_type": "execute_result",
          "data": {
            "text/plain": [
              "Text(205061.72499999427, 2, '5.3%')"
            ]
          },
          "metadata": {},
          "execution_count": 88
        },
        {
          "output_type": "execute_result",
          "data": {
            "text/plain": [
              "Text(290889.7999999952, 2, '4.2%')"
            ]
          },
          "metadata": {},
          "execution_count": 88
        },
        {
          "output_type": "execute_result",
          "data": {
            "text/plain": [
              "Text(63916.799999999705, 3, '7.1%')"
            ]
          },
          "metadata": {},
          "execution_count": 88
        },
        {
          "output_type": "execute_result",
          "data": {
            "text/plain": [
              "Text(190151.8499999995, 3, '6.9%')"
            ]
          },
          "metadata": {},
          "execution_count": 88
        },
        {
          "output_type": "execute_result",
          "data": {
            "text/plain": [
              "Text(314231.07499999984, 3, '6.8%')"
            ]
          },
          "metadata": {},
          "execution_count": 88
        },
        {
          "output_type": "execute_result",
          "data": {
            "text/plain": [
              "Text(52953.75000000095, 4, '5.9%')"
            ]
          },
          "metadata": {},
          "execution_count": 88
        },
        {
          "output_type": "execute_result",
          "data": {
            "text/plain": [
              "Text(178491.97500000038, 4, '8.0%')"
            ]
          },
          "metadata": {},
          "execution_count": 88
        },
        {
          "output_type": "execute_result",
          "data": {
            "text/plain": [
              "Text(296722.9249999993, 4, '5.1%')"
            ]
          },
          "metadata": {},
          "execution_count": 88
        },
        {
          "output_type": "execute_result",
          "data": {
            "text/plain": [
              "Text(64855.17499999975, 5, '7.2%')"
            ]
          },
          "metadata": {},
          "execution_count": 88
        },
        {
          "output_type": "execute_result",
          "data": {
            "text/plain": [
              "Text(172877.97499999998, 5, '4.8%')"
            ]
          },
          "metadata": {},
          "execution_count": 88
        },
        {
          "output_type": "execute_result",
          "data": {
            "text/plain": [
              "Text(255331.4500000009, 5, '4.4%')"
            ]
          },
          "metadata": {},
          "execution_count": 88
        },
        {
          "output_type": "execute_result",
          "data": {
            "text/plain": [
              "Text(28558.70000000052, 6, '3.2%')"
            ]
          },
          "metadata": {},
          "execution_count": 88
        },
        {
          "output_type": "execute_result",
          "data": {
            "text/plain": [
              "Text(130904.34999999986, 6, '8.2%')"
            ]
          },
          "metadata": {},
          "execution_count": 88
        },
        {
          "output_type": "execute_result",
          "data": {
            "text/plain": [
              "Text(224217.4499999988, 6, '2.2%')"
            ]
          },
          "metadata": {},
          "execution_count": 88
        },
        {
          "output_type": "execute_result",
          "data": {
            "text/plain": [
              "([<matplotlib.axis.YTick at 0x7f4fcd8b8750>,\n",
              "  <matplotlib.axis.YTick at 0x7f4fcd8b6510>,\n",
              "  <matplotlib.axis.YTick at 0x7f4fcd8b3490>,\n",
              "  <matplotlib.axis.YTick at 0x7f4fcd8cc590>,\n",
              "  <matplotlib.axis.YTick at 0x7f4fcd8d3590>,\n",
              "  <matplotlib.axis.YTick at 0x7f4fcd8d3810>,\n",
              "  <matplotlib.axis.YTick at 0x7f4fcd8d3fd0>],\n",
              " [Text(0, 0, 'MIDAGE SINGLES/COUPLES'),\n",
              "  Text(0, 0, 'NEW FAMILIES'),\n",
              "  Text(0, 0, 'OLDER FAMILIES'),\n",
              "  Text(0, 0, 'OLDER SINGLES/COUPLES'),\n",
              "  Text(0, 0, 'RETIREES'),\n",
              "  Text(0, 0, 'YOUNG FAMILIES'),\n",
              "  Text(0, 0, 'YOUNG SINGLES/COUPLES')])"
            ]
          },
          "metadata": {},
          "execution_count": 88
        },
        {
          "output_type": "execute_result",
          "data": {
            "text/plain": [
              "Text(0, 0.5, 'LIFESTAGE')"
            ]
          },
          "metadata": {},
          "execution_count": 88
        },
        {
          "output_type": "execute_result",
          "data": {
            "text/plain": [
              "Text(0.5, 0, 'TOTAL SALES')"
            ]
          },
          "metadata": {},
          "execution_count": 88
        },
        {
          "output_type": "execute_result",
          "data": {
            "text/plain": [
              "<matplotlib.legend.Legend at 0x7f4fcd8d07d0>"
            ]
          },
          "metadata": {},
          "execution_count": 88
        },
        {
          "output_type": "execute_result",
          "data": {
            "text/plain": [
              "Text(0.5, 1.0, 'Total Sales per Lifestage')"
            ]
          },
          "metadata": {},
          "execution_count": 88
        },
        {
          "output_type": "display_data",
          "data": {
            "image/png": "[encoded data removed]",
            "text/plain": [
              "<Figure size 936x360 with 1 Axes>"
            ]
          },
          "metadata": {
            "needs_background": "light"
          }
        }
      ]
    },
    {
      "cell_type": "code",
      "metadata": {
        "colab": {
          "base_uri": "https://localhost:8080/",
          "height": 0
        },
        "id": "lYqIPZy0dYwv",
        "outputId": "88dde835-9a2e-4596-84d3-f42bee11df16"
      },
      "source": [
        "stage_agg_prem = mdf5.groupby(\"LIFESTAGE\")[\"PREMIUM_CUSTOMER\"].agg(pd.Series.mode).sort_values()\n",
        "print(\"Top contributor per LIFESTAGE by PREMIUM category\")\n",
        "print(stage_agg_prem)"
      ],
      "execution_count": 89,
      "outputs": [
        {
          "output_type": "stream",
          "text": [
            "Top contributor per LIFESTAGE by PREMIUM category\n",
            "LIFESTAGE\n",
            "NEW FAMILIES                  Budget\n",
            "OLDER FAMILIES                Budget\n",
            "OLDER SINGLES/COUPLES         Budget\n",
            "YOUNG FAMILIES                Budget\n",
            "MIDAGE SINGLES/COUPLES    Mainstream\n",
            "RETIREES                  Mainstream\n",
            "YOUNG SINGLES/COUPLES     Mainstream\n",
            "Name: PREMIUM_CUSTOMER, dtype: object\n"
          ],
          "name": "stdout"
        }
      ]
    },
    {
      "cell_type": "code",
      "metadata": {
        "colab": {
          "base_uri": "https://localhost:8080/",
          "height": 726
        },
        "id": "WMZ9O43EtubF",
        "outputId": "d1484c03-5d51-464a-fdc7-2cca9818ebf0"
      },
      "source": [
        "unique_cust = mdf5.groupby([\"LIFESTAGE\", \"PREMIUM_CUSTOMER\"])[\"LYLTY_CARD_NBR\"].nunique().sort_values(ascending=False)\n",
        "pd.DataFrame(unique_cust)"
      ],
      "execution_count": 90,
      "outputs": [
        {
          "output_type": "execute_result",
          "data": {
            "text/html": [
              "<div>\n",
              "<style scoped>\n",
              "    .dataframe tbody tr th:only-of-type {\n",
              "        vertical-align: middle;\n",
              "    }\n",
              "\n",
              "    .dataframe tbody tr th {\n",
              "        vertical-align: top;\n",
              "    }\n",
              "\n",
              "    .dataframe thead th {\n",
              "        text-align: right;\n",
              "    }\n",
              "</style>\n",
              "<table border=\"1\" class=\"dataframe\">\n",
              "  <thead>\n",
              "    <tr style=\"text-align: right;\">\n",
              "      <th></th>\n",
              "      <th></th>\n",
              "      <th>LYLTY_CARD_NBR</th>\n",
              "    </tr>\n",
              "    <tr>\n",
              "      <th>LIFESTAGE</th>\n",
              "      <th>PREMIUM_CUSTOMER</th>\n",
              "      <th></th>\n",
              "    </tr>\n",
              "  </thead>\n",
              "  <tbody>\n",
              "    <tr>\n",
              "      <th>YOUNG SINGLES/COUPLES</th>\n",
              "      <th>Mainstream</th>\n",
              "      <td>7915</td>\n",
              "    </tr>\n",
              "    <tr>\n",
              "      <th>RETIREES</th>\n",
              "      <th>Mainstream</th>\n",
              "      <td>6358</td>\n",
              "    </tr>\n",
              "    <tr>\n",
              "      <th rowspan=\"3\" valign=\"top\">OLDER SINGLES/COUPLES</th>\n",
              "      <th>Mainstream</th>\n",
              "      <td>4856</td>\n",
              "    </tr>\n",
              "    <tr>\n",
              "      <th>Budget</th>\n",
              "      <td>4849</td>\n",
              "    </tr>\n",
              "    <tr>\n",
              "      <th>Premium</th>\n",
              "      <td>4679</td>\n",
              "    </tr>\n",
              "    <tr>\n",
              "      <th>OLDER FAMILIES</th>\n",
              "      <th>Budget</th>\n",
              "      <td>4610</td>\n",
              "    </tr>\n",
              "    <tr>\n",
              "      <th>RETIREES</th>\n",
              "      <th>Budget</th>\n",
              "      <td>4384</td>\n",
              "    </tr>\n",
              "    <tr>\n",
              "      <th>YOUNG FAMILIES</th>\n",
              "      <th>Budget</th>\n",
              "      <td>3952</td>\n",
              "    </tr>\n",
              "    <tr>\n",
              "      <th>RETIREES</th>\n",
              "      <th>Premium</th>\n",
              "      <td>3811</td>\n",
              "    </tr>\n",
              "    <tr>\n",
              "      <th>YOUNG SINGLES/COUPLES</th>\n",
              "      <th>Budget</th>\n",
              "      <td>3645</td>\n",
              "    </tr>\n",
              "    <tr>\n",
              "      <th>MIDAGE SINGLES/COUPLES</th>\n",
              "      <th>Mainstream</th>\n",
              "      <td>3297</td>\n",
              "    </tr>\n",
              "    <tr>\n",
              "      <th>OLDER FAMILIES</th>\n",
              "      <th>Mainstream</th>\n",
              "      <td>2788</td>\n",
              "    </tr>\n",
              "    <tr>\n",
              "      <th>YOUNG FAMILIES</th>\n",
              "      <th>Mainstream</th>\n",
              "      <td>2684</td>\n",
              "    </tr>\n",
              "    <tr>\n",
              "      <th>YOUNG SINGLES/COUPLES</th>\n",
              "      <th>Premium</th>\n",
              "      <td>2480</td>\n",
              "    </tr>\n",
              "    <tr>\n",
              "      <th>YOUNG FAMILIES</th>\n",
              "      <th>Premium</th>\n",
              "      <td>2398</td>\n",
              "    </tr>\n",
              "    <tr>\n",
              "      <th>MIDAGE SINGLES/COUPLES</th>\n",
              "      <th>Premium</th>\n",
              "      <td>2369</td>\n",
              "    </tr>\n",
              "    <tr>\n",
              "      <th>OLDER FAMILIES</th>\n",
              "      <th>Premium</th>\n",
              "      <td>2231</td>\n",
              "    </tr>\n",
              "    <tr>\n",
              "      <th>MIDAGE SINGLES/COUPLES</th>\n",
              "      <th>Budget</th>\n",
              "      <td>1474</td>\n",
              "    </tr>\n",
              "    <tr>\n",
              "      <th rowspan=\"3\" valign=\"top\">NEW FAMILIES</th>\n",
              "      <th>Budget</th>\n",
              "      <td>1087</td>\n",
              "    </tr>\n",
              "    <tr>\n",
              "      <th>Mainstream</th>\n",
              "      <td>830</td>\n",
              "    </tr>\n",
              "    <tr>\n",
              "      <th>Premium</th>\n",
              "      <td>575</td>\n",
              "    </tr>\n",
              "  </tbody>\n",
              "</table>\n",
              "</div>"
            ],
            "text/plain": [
              "                                         LYLTY_CARD_NBR\n",
              "LIFESTAGE              PREMIUM_CUSTOMER                \n",
              "YOUNG SINGLES/COUPLES  Mainstream                  7915\n",
              "RETIREES               Mainstream                  6358\n",
              "OLDER SINGLES/COUPLES  Mainstream                  4856\n",
              "                       Budget                      4849\n",
              "                       Premium                     4679\n",
              "OLDER FAMILIES         Budget                      4610\n",
              "RETIREES               Budget                      4384\n",
              "YOUNG FAMILIES         Budget                      3952\n",
              "RETIREES               Premium                     3811\n",
              "YOUNG SINGLES/COUPLES  Budget                      3645\n",
              "MIDAGE SINGLES/COUPLES Mainstream                  3297\n",
              "OLDER FAMILIES         Mainstream                  2788\n",
              "YOUNG FAMILIES         Mainstream                  2684\n",
              "YOUNG SINGLES/COUPLES  Premium                     2480\n",
              "YOUNG FAMILIES         Premium                     2398\n",
              "MIDAGE SINGLES/COUPLES Premium                     2369\n",
              "OLDER FAMILIES         Premium                     2231\n",
              "MIDAGE SINGLES/COUPLES Budget                      1474\n",
              "NEW FAMILIES           Budget                      1087\n",
              "                       Mainstream                   830\n",
              "                       Premium                      575"
            ]
          },
          "metadata": {},
          "execution_count": 90
        }
      ]
    },
    {
      "cell_type": "code",
      "metadata": {
        "colab": {
          "base_uri": "https://localhost:8080/",
          "height": 446
        },
        "id": "KFrGYUfUufTl",
        "outputId": "b0bcabad-4227-4493-e5c5-139885376c96"
      },
      "source": [
        "unique_cust.sort_values().plot.barh(figsize=(12,7))\n"
      ],
      "execution_count": 91,
      "outputs": [
        {
          "output_type": "execute_result",
          "data": {
            "text/plain": [
              "<matplotlib.axes._subplots.AxesSubplot at 0x7f4fcd8affd0>"
            ]
          },
          "metadata": {},
          "execution_count": 91
        },
        {
          "output_type": "display_data",
          "data": {
            "image/png": "[encoded data removed]",
            "text/plain": [
              "<Figure size 864x504 with 1 Axes>"
            ]
          },
          "metadata": {
            "needs_background": "light"
          }
        }
      ]
    },
    {
      "cell_type": "code",
      "metadata": {
        "colab": {
          "base_uri": "https://localhost:8080/",
          "height": 634
        },
        "id": "eYjj9CFSuun8",
        "outputId": "fd448255-c3c0-4b17-93f5-a76e7f7aacf8"
      },
      "source": [
        "\n",
        "# Values of each group\n",
        "ncust_bars1 = unique_cust[unique_cust.index.get_level_values(\"PREMIUM_CUSTOMER\") == \"Budget\"]\n",
        "ncust_bars2 = unique_cust[unique_cust.index.get_level_values(\"PREMIUM_CUSTOMER\") == \"Mainstream\"]\n",
        "ncust_bars3 = unique_cust[unique_cust.index.get_level_values(\"PREMIUM_CUSTOMER\") == \"Premium\"]\n",
        " \n",
        "ncust_bars1_text = (ncust_bars1 / sum(unique_cust)).apply(\"{:.1%}\".format)\n",
        "ncust_bars2_text = (ncust_bars2 / sum(unique_cust)).apply(\"{:.1%}\".format)\n",
        "ncust_bars3_text = (ncust_bars3 / sum(unique_cust)).apply(\"{:.1%}\".format)\n",
        " \n",
        "# # Names of group and bar width\n",
        "names = unique_cust.index.get_level_values(\"LIFESTAGE\").unique()\n",
        "\n",
        "# # The position of the bars on the x-axis\n",
        "r = np.arange(len(names))\n",
        "\n",
        "plt.figure(figsize=(13,5)) \n",
        "\n",
        "# # Create brown bars\n",
        "budget_bar = plt.barh(r, ncust_bars1, edgecolor='grey', height=1, label=\"Budget\")\n",
        "# # Create green bars (middle), on top of the firs ones\n",
        "mains_bar = plt.barh(r, ncust_bars2, left=ncust_bars1, edgecolor='grey', height=1, label=\"Mainstream\")\n",
        "# # Create green bars (top)\n",
        "prem_bar = plt.barh(r, ncust_bars3, left=np.add(ncust_bars1.to_list(), ncust_bars2.to_list()), edgecolor='grey', height=1, label=\"Premium\")\n",
        "    \n",
        "for i in range(7):\n",
        "    budget_width = budget_bar[i].get_width()\n",
        "    budget_main_width = budget_width + mains_bar[i].get_width()\n",
        "    plt.text(budget_width/2, i, ncust_bars1_text[i], va='center', ha='center', size=8)\n",
        "    plt.text(budget_width + mains_bar[i].get_width()/2, i, ncust_bars2_text[i], va='center', ha='center', size=8)\n",
        "    plt.text(budget_main_width + prem_bar[i].get_width()/2, i, ncust_bars3_text[i], va='center', ha='center', size=8)\n",
        "    \n",
        "# Custom X axis\n",
        "plt.yticks(r, names)\n",
        "plt.ylabel(\"LIFESTAGE\")\n",
        "plt.xlabel(\"UNIQUE CUSTOMERS\")\n",
        "plt.legend(loc='center left', bbox_to_anchor=(1.0, 0.5))\n",
        "\n",
        "plt.title(\"Unique Customers per Lifestage\")\n",
        "\n",
        "plt.savefig(\"lifestage_customers.png\", bbox_inches=\"tight\")\n",
        "\n",
        "# # Show graphic\n",
        "plt.show()"
      ],
      "execution_count": 92,
      "outputs": [
        {
          "output_type": "execute_result",
          "data": {
            "text/plain": [
              "<Figure size 936x360 with 0 Axes>"
            ]
          },
          "metadata": {},
          "execution_count": 92
        },
        {
          "output_type": "execute_result",
          "data": {
            "text/plain": [
              "Text(2424.5, 0, '6.8%')"
            ]
          },
          "metadata": {},
          "execution_count": 92
        },
        {
          "output_type": "execute_result",
          "data": {
            "text/plain": [
              "Text(8806.5, 0, '11.1%')"
            ]
          },
          "metadata": {},
          "execution_count": 92
        },
        {
          "output_type": "execute_result",
          "data": {
            "text/plain": [
              "Text(15103.5, 0, '6.6%')"
            ]
          },
          "metadata": {},
          "execution_count": 92
        },
        {
          "output_type": "execute_result",
          "data": {
            "text/plain": [
              "Text(2305.0, 1, '6.5%')"
            ]
          },
          "metadata": {},
          "execution_count": 92
        },
        {
          "output_type": "execute_result",
          "data": {
            "text/plain": [
              "Text(7789.0, 1, '8.9%')"
            ]
          },
          "metadata": {},
          "execution_count": 92
        },
        {
          "output_type": "execute_result",
          "data": {
            "text/plain": [
              "Text(12873.5, 1, '5.3%')"
            ]
          },
          "metadata": {},
          "execution_count": 92
        },
        {
          "output_type": "execute_result",
          "data": {
            "text/plain": [
              "Text(2192.0, 2, '6.2%')"
            ]
          },
          "metadata": {},
          "execution_count": 92
        },
        {
          "output_type": "execute_result",
          "data": {
            "text/plain": [
              "Text(6812.0, 2, '6.8%')"
            ]
          },
          "metadata": {},
          "execution_count": 92
        },
        {
          "output_type": "execute_result",
          "data": {
            "text/plain": [
              "Text(10480.0, 2, '3.5%')"
            ]
          },
          "metadata": {},
          "execution_count": 92
        },
        {
          "output_type": "execute_result",
          "data": {
            "text/plain": [
              "Text(1976.0, 3, '5.5%')"
            ]
          },
          "metadata": {},
          "execution_count": 92
        },
        {
          "output_type": "execute_result",
          "data": {
            "text/plain": [
              "Text(5600.5, 3, '4.6%')"
            ]
          },
          "metadata": {},
          "execution_count": 92
        },
        {
          "output_type": "execute_result",
          "data": {
            "text/plain": [
              "Text(8448.0, 3, '3.4%')"
            ]
          },
          "metadata": {},
          "execution_count": 92
        },
        {
          "output_type": "execute_result",
          "data": {
            "text/plain": [
              "Text(1822.5, 4, '5.1%')"
            ]
          },
          "metadata": {},
          "execution_count": 92
        },
        {
          "output_type": "execute_result",
          "data": {
            "text/plain": [
              "Text(5039.0, 4, '3.9%')"
            ]
          },
          "metadata": {},
          "execution_count": 92
        },
        {
          "output_type": "execute_result",
          "data": {
            "text/plain": [
              "Text(7617.5, 4, '3.3%')"
            ]
          },
          "metadata": {},
          "execution_count": 92
        },
        {
          "output_type": "execute_result",
          "data": {
            "text/plain": [
              "Text(737.0, 5, '2.1%')"
            ]
          },
          "metadata": {},
          "execution_count": 92
        },
        {
          "output_type": "execute_result",
          "data": {
            "text/plain": [
              "Text(2816.0, 5, '3.8%')"
            ]
          },
          "metadata": {},
          "execution_count": 92
        },
        {
          "output_type": "execute_result",
          "data": {
            "text/plain": [
              "Text(5273.5, 5, '3.1%')"
            ]
          },
          "metadata": {},
          "execution_count": 92
        },
        {
          "output_type": "execute_result",
          "data": {
            "text/plain": [
              "Text(543.5, 6, '1.5%')"
            ]
          },
          "metadata": {},
          "execution_count": 92
        },
        {
          "output_type": "execute_result",
          "data": {
            "text/plain": [
              "Text(1502.0, 6, '1.2%')"
            ]
          },
          "metadata": {},
          "execution_count": 92
        },
        {
          "output_type": "execute_result",
          "data": {
            "text/plain": [
              "Text(2204.5, 6, '0.8%')"
            ]
          },
          "metadata": {},
          "execution_count": 92
        },
        {
          "output_type": "execute_result",
          "data": {
            "text/plain": [
              "([<matplotlib.axis.YTick at 0x7f4fccc8b7d0>,\n",
              "  <matplotlib.axis.YTick at 0x7f4fccc88c10>,\n",
              "  <matplotlib.axis.YTick at 0x7f4fccc89dd0>,\n",
              "  <matplotlib.axis.YTick at 0x7f4fcb6091d0>,\n",
              "  <matplotlib.axis.YTick at 0x7f4fcb608c50>,\n",
              "  <matplotlib.axis.YTick at 0x7f4fcb608610>,\n",
              "  <matplotlib.axis.YTick at 0x7f4fcb606510>],\n",
              " [Text(0, 0, 'YOUNG SINGLES/COUPLES'),\n",
              "  Text(0, 0, 'RETIREES'),\n",
              "  Text(0, 0, 'OLDER SINGLES/COUPLES'),\n",
              "  Text(0, 0, 'OLDER FAMILIES'),\n",
              "  Text(0, 0, 'YOUNG FAMILIES'),\n",
              "  Text(0, 0, 'MIDAGE SINGLES/COUPLES'),\n",
              "  Text(0, 0, 'NEW FAMILIES')])"
            ]
          },
          "metadata": {},
          "execution_count": 92
        },
        {
          "output_type": "execute_result",
          "data": {
            "text/plain": [
              "Text(0, 0.5, 'LIFESTAGE')"
            ]
          },
          "metadata": {},
          "execution_count": 92
        },
        {
          "output_type": "execute_result",
          "data": {
            "text/plain": [
              "Text(0.5, 0, 'UNIQUE CUSTOMERS')"
            ]
          },
          "metadata": {},
          "execution_count": 92
        },
        {
          "output_type": "execute_result",
          "data": {
            "text/plain": [
              "<matplotlib.legend.Legend at 0x7f4fcb604c10>"
            ]
          },
          "metadata": {},
          "execution_count": 92
        },
        {
          "output_type": "execute_result",
          "data": {
            "text/plain": [
              "Text(0.5, 1.0, 'Unique Customers per Lifestage')"
            ]
          },
          "metadata": {},
          "execution_count": 92
        },
        {
          "output_type": "display_data",
          "data": {
            "image/png": "[encoded data removed]",
            "text/plain": [
              "<Figure size 936x360 with 1 Axes>"
            ]
          },
          "metadata": {
            "needs_background": "light"
          }
        }
      ]
    },
    {
      "cell_type": "markdown",
      "metadata": {
        "id": "_HpkV-XYvirv"
      },
      "source": [
        "The high sales amount by segment \"Young Singles/Couples - Mainstream\" and \"Retirees - Mainstream\" are due to their large number of unique customers, but not for the \"Older - Budget\" segment. Next we'll explore if the \"Older - Budget\" segment has:\n",
        "\n",
        "High Frequency of Purchase and,\n",
        "\n",
        "Average Sales per Customer compared to the other segment."
      ]
    },
    {
      "cell_type": "code",
      "metadata": {
        "colab": {
          "base_uri": "https://localhost:8080/",
          "height": 203
        },
        "id": "m6HrC3pMi5iV",
        "outputId": "791c31c5-109f-447c-ca0a-ec5178c69640"
      },
      "source": [
        "mdf5.head()"
      ],
      "execution_count": 93,
      "outputs": [
        {
          "output_type": "execute_result",
          "data": {
            "text/html": [
              "<div>\n",
              "<style scoped>\n",
              "    .dataframe tbody tr th:only-of-type {\n",
              "        vertical-align: middle;\n",
              "    }\n",
              "\n",
              "    .dataframe tbody tr th {\n",
              "        vertical-align: top;\n",
              "    }\n",
              "\n",
              "    .dataframe thead th {\n",
              "        text-align: right;\n",
              "    }\n",
              "</style>\n",
              "<table border=\"1\" class=\"dataframe\">\n",
              "  <thead>\n",
              "    <tr style=\"text-align: right;\">\n",
              "      <th></th>\n",
              "      <th>LYLTY_CARD_NBR</th>\n",
              "      <th>TXN_ID</th>\n",
              "      <th>LIFESTAGE</th>\n",
              "      <th>PREMIUM_CUSTOMER</th>\n",
              "      <th>DATE</th>\n",
              "      <th>STORE_NBR</th>\n",
              "      <th>PROD_NBR</th>\n",
              "      <th>PROD_QTY</th>\n",
              "      <th>Cleaned_Brand_Names</th>\n",
              "      <th>pack_sizes</th>\n",
              "      <th>TOT_SALES</th>\n",
              "    </tr>\n",
              "  </thead>\n",
              "  <tbody>\n",
              "    <tr>\n",
              "      <th>0</th>\n",
              "      <td>1000</td>\n",
              "      <td>1</td>\n",
              "      <td>YOUNG SINGLES/COUPLES</td>\n",
              "      <td>Premium</td>\n",
              "      <td>2018-10-17</td>\n",
              "      <td>1</td>\n",
              "      <td>5</td>\n",
              "      <td>2</td>\n",
              "      <td>Natural Chip Co</td>\n",
              "      <td>175.0</td>\n",
              "      <td>6.0</td>\n",
              "    </tr>\n",
              "    <tr>\n",
              "      <th>1</th>\n",
              "      <td>1307</td>\n",
              "      <td>348</td>\n",
              "      <td>MIDAGE SINGLES/COUPLES</td>\n",
              "      <td>Budget</td>\n",
              "      <td>2019-05-14</td>\n",
              "      <td>1</td>\n",
              "      <td>66</td>\n",
              "      <td>3</td>\n",
              "      <td>CCs</td>\n",
              "      <td>175.0</td>\n",
              "      <td>6.3</td>\n",
              "    </tr>\n",
              "    <tr>\n",
              "      <th>2</th>\n",
              "      <td>1307</td>\n",
              "      <td>346</td>\n",
              "      <td>MIDAGE SINGLES/COUPLES</td>\n",
              "      <td>Budget</td>\n",
              "      <td>2018-11-10</td>\n",
              "      <td>1</td>\n",
              "      <td>96</td>\n",
              "      <td>2</td>\n",
              "      <td>Woolworths</td>\n",
              "      <td>160.0</td>\n",
              "      <td>3.8</td>\n",
              "    </tr>\n",
              "    <tr>\n",
              "      <th>3</th>\n",
              "      <td>1307</td>\n",
              "      <td>347</td>\n",
              "      <td>MIDAGE SINGLES/COUPLES</td>\n",
              "      <td>Budget</td>\n",
              "      <td>2019-03-09</td>\n",
              "      <td>1</td>\n",
              "      <td>54</td>\n",
              "      <td>1</td>\n",
              "      <td>CCs</td>\n",
              "      <td>175.0</td>\n",
              "      <td>2.1</td>\n",
              "    </tr>\n",
              "    <tr>\n",
              "      <th>4</th>\n",
              "      <td>1343</td>\n",
              "      <td>383</td>\n",
              "      <td>MIDAGE SINGLES/COUPLES</td>\n",
              "      <td>Budget</td>\n",
              "      <td>2019-05-20</td>\n",
              "      <td>1</td>\n",
              "      <td>61</td>\n",
              "      <td>2</td>\n",
              "      <td>Smiths</td>\n",
              "      <td>170.0</td>\n",
              "      <td>2.9</td>\n",
              "    </tr>\n",
              "  </tbody>\n",
              "</table>\n",
              "</div>"
            ],
            "text/plain": [
              "   LYLTY_CARD_NBR  TXN_ID               LIFESTAGE PREMIUM_CUSTOMER       DATE  \\\n",
              "0            1000       1   YOUNG SINGLES/COUPLES          Premium 2018-10-17   \n",
              "1            1307     348  MIDAGE SINGLES/COUPLES           Budget 2019-05-14   \n",
              "2            1307     346  MIDAGE SINGLES/COUPLES           Budget 2018-11-10   \n",
              "3            1307     347  MIDAGE SINGLES/COUPLES           Budget 2019-03-09   \n",
              "4            1343     383  MIDAGE SINGLES/COUPLES           Budget 2019-05-20   \n",
              "\n",
              "   STORE_NBR  PROD_NBR  PROD_QTY Cleaned_Brand_Names  pack_sizes  TOT_SALES  \n",
              "0          1         5         2     Natural Chip Co       175.0        6.0  \n",
              "1          1        66         3                 CCs       175.0        6.3  \n",
              "2          1        96         2          Woolworths       160.0        3.8  \n",
              "3          1        54         1                 CCs       175.0        2.1  \n",
              "4          1        61         2              Smiths       170.0        2.9  "
            ]
          },
          "metadata": {},
          "execution_count": 93
        }
      ]
    },
    {
      "cell_type": "code",
      "metadata": {
        "colab": {
          "base_uri": "https://localhost:8080/",
          "height": 726
        },
        "id": "EaqE7Cikwq1P",
        "outputId": "eebdd786-fdb5-497e-ff78-f96d47f9db98"
      },
      "source": [
        "freq_per_cust = mdf5.groupby([\"LYLTY_CARD_NBR\", \"LIFESTAGE\", \"PREMIUM_CUSTOMER\"]).count()[\"TOT_SALES\"]\n",
        "freq_per_cust.groupby([\"LIFESTAGE\", \"PREMIUM_CUSTOMER\"]).agg([\"mean\", \"count\"]).sort_values(ascending=False, by=\"mean\")"
      ],
      "execution_count": 94,
      "outputs": [
        {
          "output_type": "execute_result",
          "data": {
            "text/html": [
              "<div>\n",
              "<style scoped>\n",
              "    .dataframe tbody tr th:only-of-type {\n",
              "        vertical-align: middle;\n",
              "    }\n",
              "\n",
              "    .dataframe tbody tr th {\n",
              "        vertical-align: top;\n",
              "    }\n",
              "\n",
              "    .dataframe thead th {\n",
              "        text-align: right;\n",
              "    }\n",
              "</style>\n",
              "<table border=\"1\" class=\"dataframe\">\n",
              "  <thead>\n",
              "    <tr style=\"text-align: right;\">\n",
              "      <th></th>\n",
              "      <th></th>\n",
              "      <th>mean</th>\n",
              "      <th>count</th>\n",
              "    </tr>\n",
              "    <tr>\n",
              "      <th>LIFESTAGE</th>\n",
              "      <th>PREMIUM_CUSTOMER</th>\n",
              "      <th></th>\n",
              "      <th></th>\n",
              "    </tr>\n",
              "  </thead>\n",
              "  <tbody>\n",
              "    <tr>\n",
              "      <th rowspan=\"3\" valign=\"top\">OLDER FAMILIES</th>\n",
              "      <th>Mainstream</th>\n",
              "      <td>4.749283</td>\n",
              "      <td>2788</td>\n",
              "    </tr>\n",
              "    <tr>\n",
              "      <th>Budget</th>\n",
              "      <td>4.666594</td>\n",
              "      <td>4610</td>\n",
              "    </tr>\n",
              "    <tr>\n",
              "      <th>Premium</th>\n",
              "      <td>4.662931</td>\n",
              "      <td>2231</td>\n",
              "    </tr>\n",
              "    <tr>\n",
              "      <th rowspan=\"3\" valign=\"top\">YOUNG FAMILIES</th>\n",
              "      <th>Premium</th>\n",
              "      <td>4.497081</td>\n",
              "      <td>2398</td>\n",
              "    </tr>\n",
              "    <tr>\n",
              "      <th>Budget</th>\n",
              "      <td>4.494433</td>\n",
              "      <td>3952</td>\n",
              "    </tr>\n",
              "    <tr>\n",
              "      <th>Mainstream</th>\n",
              "      <td>4.450820</td>\n",
              "      <td>2684</td>\n",
              "    </tr>\n",
              "    <tr>\n",
              "      <th rowspan=\"3\" valign=\"top\">OLDER SINGLES/COUPLES</th>\n",
              "      <th>Budget</th>\n",
              "      <td>3.541349</td>\n",
              "      <td>4849</td>\n",
              "    </tr>\n",
              "    <tr>\n",
              "      <th>Premium</th>\n",
              "      <td>3.538363</td>\n",
              "      <td>4679</td>\n",
              "    </tr>\n",
              "    <tr>\n",
              "      <th>Mainstream</th>\n",
              "      <td>3.512974</td>\n",
              "      <td>4856</td>\n",
              "    </tr>\n",
              "    <tr>\n",
              "      <th>MIDAGE SINGLES/COUPLES</th>\n",
              "      <th>Mainstream</th>\n",
              "      <td>3.364877</td>\n",
              "      <td>3297</td>\n",
              "    </tr>\n",
              "    <tr>\n",
              "      <th>RETIREES</th>\n",
              "      <th>Budget</th>\n",
              "      <td>3.244526</td>\n",
              "      <td>4384</td>\n",
              "    </tr>\n",
              "    <tr>\n",
              "      <th>MIDAGE SINGLES/COUPLES</th>\n",
              "      <th>Premium</th>\n",
              "      <td>3.213170</td>\n",
              "      <td>2369</td>\n",
              "    </tr>\n",
              "    <tr>\n",
              "      <th>RETIREES</th>\n",
              "      <th>Premium</th>\n",
              "      <td>3.210443</td>\n",
              "      <td>3811</td>\n",
              "    </tr>\n",
              "    <tr>\n",
              "      <th>MIDAGE SINGLES/COUPLES</th>\n",
              "      <th>Budget</th>\n",
              "      <td>3.182497</td>\n",
              "      <td>1474</td>\n",
              "    </tr>\n",
              "    <tr>\n",
              "      <th>RETIREES</th>\n",
              "      <th>Mainstream</th>\n",
              "      <td>3.140925</td>\n",
              "      <td>6358</td>\n",
              "    </tr>\n",
              "    <tr>\n",
              "      <th rowspan=\"3\" valign=\"top\">NEW FAMILIES</th>\n",
              "      <th>Mainstream</th>\n",
              "      <td>2.632530</td>\n",
              "      <td>830</td>\n",
              "    </tr>\n",
              "    <tr>\n",
              "      <th>Budget</th>\n",
              "      <td>2.597976</td>\n",
              "      <td>1087</td>\n",
              "    </tr>\n",
              "    <tr>\n",
              "      <th>Premium</th>\n",
              "      <td>2.587826</td>\n",
              "      <td>575</td>\n",
              "    </tr>\n",
              "    <tr>\n",
              "      <th rowspan=\"3\" valign=\"top\">YOUNG SINGLES/COUPLES</th>\n",
              "      <th>Mainstream</th>\n",
              "      <td>2.468983</td>\n",
              "      <td>7915</td>\n",
              "    </tr>\n",
              "    <tr>\n",
              "      <th>Premium</th>\n",
              "      <td>2.359677</td>\n",
              "      <td>2480</td>\n",
              "    </tr>\n",
              "    <tr>\n",
              "      <th>Budget</th>\n",
              "      <td>2.351440</td>\n",
              "      <td>3645</td>\n",
              "    </tr>\n",
              "  </tbody>\n",
              "</table>\n",
              "</div>"
            ],
            "text/plain": [
              "                                             mean  count\n",
              "LIFESTAGE              PREMIUM_CUSTOMER                 \n",
              "OLDER FAMILIES         Mainstream        4.749283   2788\n",
              "                       Budget            4.666594   4610\n",
              "                       Premium           4.662931   2231\n",
              "YOUNG FAMILIES         Premium           4.497081   2398\n",
              "                       Budget            4.494433   3952\n",
              "                       Mainstream        4.450820   2684\n",
              "OLDER SINGLES/COUPLES  Budget            3.541349   4849\n",
              "                       Premium           3.538363   4679\n",
              "                       Mainstream        3.512974   4856\n",
              "MIDAGE SINGLES/COUPLES Mainstream        3.364877   3297\n",
              "RETIREES               Budget            3.244526   4384\n",
              "MIDAGE SINGLES/COUPLES Premium           3.213170   2369\n",
              "RETIREES               Premium           3.210443   3811\n",
              "MIDAGE SINGLES/COUPLES Budget            3.182497   1474\n",
              "RETIREES               Mainstream        3.140925   6358\n",
              "NEW FAMILIES           Mainstream        2.632530    830\n",
              "                       Budget            2.597976   1087\n",
              "                       Premium           2.587826    575\n",
              "YOUNG SINGLES/COUPLES  Mainstream        2.468983   7915\n",
              "                       Premium           2.359677   2480\n",
              "                       Budget            2.351440   3645"
            ]
          },
          "metadata": {},
          "execution_count": 94
        }
      ]
    },
    {
      "cell_type": "markdown",
      "metadata": {
        "id": "Uhz_4d_XxQUK"
      },
      "source": [
        "The above table describes the \"Average frequency of Purchase per segment\" and \"Unique customer per segment\". The top three most frequent purchase is contributed by the \"Older Families\" lifestage segment. We can see now that the \"Older - Budget\" segment contributes to high sales partly because of the combination of:\n",
        "\n",
        "High Frequency of Purchase and,\n",
        "\n",
        "Fairly high unique number of customer in the segment"
      ]
    },
    {
      "cell_type": "code",
      "metadata": {
        "colab": {
          "base_uri": "https://localhost:8080/",
          "height": 334
        },
        "id": "bVskqvLmn9Cb",
        "outputId": "4c82d92c-8ff8-4d3b-cc1f-1c395e1c8bf0"
      },
      "source": [
        "print('\\033[1m' + \"\\nbar chart between Cleaned_Brand_Names and total sales\" + '\\033[0m')\n",
        "df_grp = mdf5.groupby([\"LIFESTAGE\",\"PREMIUM_CUSTOMER\"])[\"TOT_SALES\"]\n",
        "xx = pd.concat(\n",
        "    [df_grp.mean().rename('average')],\n",
        "    axis=1)\n",
        "\n",
        "xx.sort_values(by='average').plot.barh().set_title('xx')"
      ],
      "execution_count": 95,
      "outputs": [
        {
          "output_type": "stream",
          "text": [
            "\u001b[1m\n",
            "bar chart between Cleaned_Brand_Names and total sales\u001b[0m\n"
          ],
          "name": "stdout"
        },
        {
          "output_type": "execute_result",
          "data": {
            "text/plain": [
              "Text(0.5, 1.0, 'xx')"
            ]
          },
          "metadata": {},
          "execution_count": 95
        },
        {
          "output_type": "display_data",
          "data": {
            "image/png": "[encoded data removed]",
            "text/plain": [
              "<Figure size 432x288 with 1 Axes>"
            ]
          },
          "metadata": {
            "needs_background": "light"
          }
        }
      ]
    },
    {
      "cell_type": "code",
      "metadata": {
        "colab": {
          "base_uri": "https://localhost:8080/",
          "height": 726
        },
        "id": "zafUECfHv9YF",
        "outputId": "ef99d096-1942-4151-f15f-f9341ae0f72a"
      },
      "source": [
        "grouped_sales.sort_values(ascending=False, by=\"mean\")"
      ],
      "execution_count": 96,
      "outputs": [
        {
          "output_type": "execute_result",
          "data": {
            "text/html": [
              "<div>\n",
              "<style scoped>\n",
              "    .dataframe tbody tr th:only-of-type {\n",
              "        vertical-align: middle;\n",
              "    }\n",
              "\n",
              "    .dataframe tbody tr th {\n",
              "        vertical-align: top;\n",
              "    }\n",
              "\n",
              "    .dataframe thead th {\n",
              "        text-align: right;\n",
              "    }\n",
              "</style>\n",
              "<table border=\"1\" class=\"dataframe\">\n",
              "  <thead>\n",
              "    <tr style=\"text-align: right;\">\n",
              "      <th></th>\n",
              "      <th></th>\n",
              "      <th>sum</th>\n",
              "      <th>mean</th>\n",
              "    </tr>\n",
              "    <tr>\n",
              "      <th>LIFESTAGE</th>\n",
              "      <th>PREMIUM_CUSTOMER</th>\n",
              "      <th></th>\n",
              "      <th></th>\n",
              "    </tr>\n",
              "  </thead>\n",
              "  <tbody>\n",
              "    <tr>\n",
              "      <th>MIDAGE SINGLES/COUPLES</th>\n",
              "      <th>Mainstream</th>\n",
              "      <td>84725.05</td>\n",
              "      <td>7.637016</td>\n",
              "    </tr>\n",
              "    <tr>\n",
              "      <th>YOUNG SINGLES/COUPLES</th>\n",
              "      <th>Mainstream</th>\n",
              "      <td>147573.90</td>\n",
              "      <td>7.551627</td>\n",
              "    </tr>\n",
              "    <tr>\n",
              "      <th>RETIREES</th>\n",
              "      <th>Premium</th>\n",
              "      <td>91292.95</td>\n",
              "      <td>7.461622</td>\n",
              "    </tr>\n",
              "    <tr>\n",
              "      <th>OLDER SINGLES/COUPLES</th>\n",
              "      <th>Premium</th>\n",
              "      <td>123521.95</td>\n",
              "      <td>7.460857</td>\n",
              "    </tr>\n",
              "    <tr>\n",
              "      <th>RETIREES</th>\n",
              "      <th>Budget</th>\n",
              "      <td>105907.50</td>\n",
              "      <td>7.445690</td>\n",
              "    </tr>\n",
              "    <tr>\n",
              "      <th>OLDER SINGLES/COUPLES</th>\n",
              "      <th>Budget</th>\n",
              "      <td>127833.60</td>\n",
              "      <td>7.444305</td>\n",
              "    </tr>\n",
              "    <tr>\n",
              "      <th>NEW FAMILIES</th>\n",
              "      <th>Mainstream</th>\n",
              "      <td>15979.70</td>\n",
              "      <td>7.313364</td>\n",
              "    </tr>\n",
              "    <tr>\n",
              "      <th>OLDER SINGLES/COUPLES</th>\n",
              "      <th>Mainstream</th>\n",
              "      <td>124636.50</td>\n",
              "      <td>7.306202</td>\n",
              "    </tr>\n",
              "    <tr>\n",
              "      <th>YOUNG FAMILIES</th>\n",
              "      <th>Budget</th>\n",
              "      <td>129710.35</td>\n",
              "      <td>7.302688</td>\n",
              "    </tr>\n",
              "    <tr>\n",
              "      <th>NEW FAMILIES</th>\n",
              "      <th>Budget</th>\n",
              "      <td>20607.45</td>\n",
              "      <td>7.297256</td>\n",
              "    </tr>\n",
              "    <tr>\n",
              "      <th>OLDER FAMILIES</th>\n",
              "      <th>Budget</th>\n",
              "      <td>156854.95</td>\n",
              "      <td>7.291170</td>\n",
              "    </tr>\n",
              "    <tr>\n",
              "      <th>YOUNG FAMILIES</th>\n",
              "      <th>Premium</th>\n",
              "      <td>78571.70</td>\n",
              "      <td>7.285951</td>\n",
              "    </tr>\n",
              "    <tr>\n",
              "      <th>OLDER FAMILIES</th>\n",
              "      <th>Mainstream</th>\n",
              "      <td>96413.55</td>\n",
              "      <td>7.281440</td>\n",
              "    </tr>\n",
              "    <tr>\n",
              "      <th>RETIREES</th>\n",
              "      <th>Mainstream</th>\n",
              "      <td>145168.95</td>\n",
              "      <td>7.269352</td>\n",
              "    </tr>\n",
              "    <tr>\n",
              "      <th>OLDER FAMILIES</th>\n",
              "      <th>Premium</th>\n",
              "      <td>75242.60</td>\n",
              "      <td>7.232779</td>\n",
              "    </tr>\n",
              "    <tr>\n",
              "      <th>NEW FAMILIES</th>\n",
              "      <th>Premium</th>\n",
              "      <td>10760.80</td>\n",
              "      <td>7.231720</td>\n",
              "    </tr>\n",
              "    <tr>\n",
              "      <th>YOUNG FAMILIES</th>\n",
              "      <th>Mainstream</th>\n",
              "      <td>86335.25</td>\n",
              "      <td>7.227126</td>\n",
              "    </tr>\n",
              "    <tr>\n",
              "      <th rowspan=\"2\" valign=\"top\">MIDAGE SINGLES/COUPLES</th>\n",
              "      <th>Premium</th>\n",
              "      <td>54443.85</td>\n",
              "      <td>7.152371</td>\n",
              "    </tr>\n",
              "    <tr>\n",
              "      <th>Budget</th>\n",
              "      <td>33345.70</td>\n",
              "      <td>7.108442</td>\n",
              "    </tr>\n",
              "    <tr>\n",
              "      <th rowspan=\"2\" valign=\"top\">YOUNG SINGLES/COUPLES</th>\n",
              "      <th>Premium</th>\n",
              "      <td>39052.30</td>\n",
              "      <td>6.673325</td>\n",
              "    </tr>\n",
              "    <tr>\n",
              "      <th>Budget</th>\n",
              "      <td>57117.40</td>\n",
              "      <td>6.664030</td>\n",
              "    </tr>\n",
              "  </tbody>\n",
              "</table>\n",
              "</div>"
            ],
            "text/plain": [
              "                                               sum      mean\n",
              "LIFESTAGE              PREMIUM_CUSTOMER                     \n",
              "MIDAGE SINGLES/COUPLES Mainstream         84725.05  7.637016\n",
              "YOUNG SINGLES/COUPLES  Mainstream        147573.90  7.551627\n",
              "RETIREES               Premium            91292.95  7.461622\n",
              "OLDER SINGLES/COUPLES  Premium           123521.95  7.460857\n",
              "RETIREES               Budget            105907.50  7.445690\n",
              "OLDER SINGLES/COUPLES  Budget            127833.60  7.444305\n",
              "NEW FAMILIES           Mainstream         15979.70  7.313364\n",
              "OLDER SINGLES/COUPLES  Mainstream        124636.50  7.306202\n",
              "YOUNG FAMILIES         Budget            129710.35  7.302688\n",
              "NEW FAMILIES           Budget             20607.45  7.297256\n",
              "OLDER FAMILIES         Budget            156854.95  7.291170\n",
              "YOUNG FAMILIES         Premium            78571.70  7.285951\n",
              "OLDER FAMILIES         Mainstream         96413.55  7.281440\n",
              "RETIREES               Mainstream        145168.95  7.269352\n",
              "OLDER FAMILIES         Premium            75242.60  7.232779\n",
              "NEW FAMILIES           Premium            10760.80  7.231720\n",
              "YOUNG FAMILIES         Mainstream         86335.25  7.227126\n",
              "MIDAGE SINGLES/COUPLES Premium            54443.85  7.152371\n",
              "                       Budget             33345.70  7.108442\n",
              "YOUNG SINGLES/COUPLES  Premium            39052.30  6.673325\n",
              "                       Budget             57117.40  6.664030"
            ]
          },
          "metadata": {},
          "execution_count": 96
        }
      ]
    },
    {
      "cell_type": "markdown",
      "metadata": {
        "id": "JFBfEsruArcX"
      },
      "source": [
        "Highest average spending per purchase are contributed by the Midage and Young \"Singles/Couples\". The difference between their Mainstream and Non-Mainstream group might seem insignificant (7.6 vs 6.6), but we'll find out by examining if the difference is statistically significant."
      ]
    },
    {
      "cell_type": "code",
      "metadata": {
        "colab": {
          "base_uri": "https://localhost:8080/",
          "height": 0
        },
        "id": "kvVfrclEAP0X",
        "outputId": "f09cd580-009f-40fd-b7b3-e5504e92d5ac"
      },
      "source": [
        "from scipy.stats import ttest_ind\n",
        "\n",
        "mainstream = mdf2[\"PREMIUM_CUSTOMER\"] == \"Mainstream\"\n",
        "young_midage = (mdf2[\"LIFESTAGE\"] == \"MIDAGE SINGLES/COUPLES\") | (mdf2[\"LIFESTAGE\"] == \"YOUNG SINGLES/COUPLES\")\n",
        "\n",
        "budget_premium = (mdf2[\"PREMIUM_CUSTOMER\"] == \"Budget\") | (mdf2[\"PREMIUM_CUSTOMER\"] == \"Premium\")\n",
        "\n",
        "a = mdf2[young_midage & mainstream][\"TOT_SALES\"]\n",
        "b = mdf2[young_midage & budget_premium][\"TOT_SALES\"]\n",
        "stat, pval = ttest_ind(a.values, b.values, equal_var=False)\n",
        "\n",
        "print(pval)\n",
        "pval < 0.0000001"
      ],
      "execution_count": 97,
      "outputs": [
        {
          "output_type": "stream",
          "text": [
            "1.8346459081757317e-237\n"
          ],
          "name": "stdout"
        },
        {
          "output_type": "execute_result",
          "data": {
            "text/plain": [
              "True"
            ]
          },
          "metadata": {},
          "execution_count": 97
        }
      ]
    },
    {
      "cell_type": "markdown",
      "metadata": {
        "id": "n3TmGXE4CkGe"
      },
      "source": [
        "P-Value is close to 0. There is a statistically significant difference to the Total Sales between the \"Mainstream Young Midage\" segment to the \"Budget and Premium Young Midage\" segment.\n",
        "\n",
        "Next, let's look examine what brand of chips the top 3 segments contributing to Total Sales are buying."
      ]
    },
    {
      "cell_type": "code",
      "metadata": {
        "colab": {
          "base_uri": "https://localhost:8080/",
          "height": 0
        },
        "id": "ADJnOpflCFs-",
        "outputId": "d5c026c7-bec5-4d4c-a77d-a990e3da9b09"
      },
      "source": [
        "mdf5.groupby([\"LIFESTAGE\", \"PREMIUM_CUSTOMER\"])[\"Cleaned_Brand_Names\"].agg(pd.Series.mode).sort_values()"
      ],
      "execution_count": 98,
      "outputs": [
        {
          "output_type": "execute_result",
          "data": {
            "text/plain": [
              "LIFESTAGE               PREMIUM_CUSTOMER\n",
              "MIDAGE SINGLES/COUPLES  Budget              Kettle\n",
              "YOUNG SINGLES/COUPLES   Budget              Kettle\n",
              "YOUNG FAMILIES          Premium             Kettle\n",
              "                        Mainstream          Kettle\n",
              "                        Budget              Kettle\n",
              "RETIREES                Premium             Kettle\n",
              "                        Mainstream          Kettle\n",
              "                        Budget              Kettle\n",
              "OLDER SINGLES/COUPLES   Premium             Kettle\n",
              "YOUNG SINGLES/COUPLES   Mainstream          Kettle\n",
              "OLDER SINGLES/COUPLES   Mainstream          Kettle\n",
              "OLDER FAMILIES          Premium             Kettle\n",
              "                        Mainstream          Kettle\n",
              "                        Budget              Kettle\n",
              "NEW FAMILIES            Premium             Kettle\n",
              "                        Mainstream          Kettle\n",
              "                        Budget              Kettle\n",
              "MIDAGE SINGLES/COUPLES  Premium             Kettle\n",
              "                        Mainstream          Kettle\n",
              "OLDER SINGLES/COUPLES   Budget              Kettle\n",
              "YOUNG SINGLES/COUPLES   Premium             Kettle\n",
              "Name: Cleaned_Brand_Names, dtype: object"
            ]
          },
          "metadata": {},
          "execution_count": 98
        }
      ]
    },
    {
      "cell_type": "code",
      "metadata": {
        "colab": {
          "base_uri": "https://localhost:8080/",
          "height": 4020
        },
        "id": "hI0hj5kxB5D1",
        "outputId": "615e5f1e-7c2b-4419-c305-224b29bdc952"
      },
      "source": [
        "for stage in mdf5[\"LIFESTAGE\"].unique():\n",
        "    for prem in mdf5[\"PREMIUM_CUSTOMER\"].unique():\n",
        "        print('==========',stage, '-', prem,'==========')\n",
        "        summary = mdf5[(mdf5[\"LIFESTAGE\"] == stage) & (mdf5[\"PREMIUM_CUSTOMER\"] == prem)][\"Cleaned_Brand_Names\"].value_counts().head(3)\n",
        "        print(summary)\n",
        "        plt.figure()\n",
        "        summary.plot.barh(figsize=(5,1))\n",
        "        plt.show()"
      ],
      "execution_count": 99,
      "outputs": [
        {
          "output_type": "stream",
          "text": [
            "========== YOUNG SINGLES/COUPLES - Premium ==========\n",
            "Kettle      838\n",
            "Smiths      787\n",
            "Pringles    537\n",
            "Name: Cleaned_Brand_Names, dtype: int64\n"
          ],
          "name": "stdout"
        },
        {
          "output_type": "execute_result",
          "data": {
            "text/plain": [
              "<Figure size 432x288 with 0 Axes>"
            ]
          },
          "metadata": {},
          "execution_count": 99
        },
        {
          "output_type": "execute_result",
          "data": {
            "text/plain": [
              "<matplotlib.axes._subplots.AxesSubplot at 0x7f4fccc86150>"
            ]
          },
          "metadata": {},
          "execution_count": 99
        },
        {
          "output_type": "display_data",
          "data": {
            "image/png": "[encoded data removed]",
            "text/plain": [
              "<Figure size 360x72 with 1 Axes>"
            ]
          },
          "metadata": {
            "needs_background": "light"
          }
        },
        {
          "output_type": "stream",
          "text": [
            "========== YOUNG SINGLES/COUPLES - Budget ==========\n",
            "Kettle      1211\n",
            "Smiths      1184\n",
            "Pringles     832\n",
            "Name: Cleaned_Brand_Names, dtype: int64\n"
          ],
          "name": "stdout"
        },
        {
          "output_type": "execute_result",
          "data": {
            "text/plain": [
              "<Figure size 432x288 with 0 Axes>"
            ]
          },
          "metadata": {},
          "execution_count": 99
        },
        {
          "output_type": "execute_result",
          "data": {
            "text/plain": [
              "<matplotlib.axes._subplots.AxesSubplot at 0x7f4fd4602110>"
            ]
          },
          "metadata": {},
          "execution_count": 99
        },
        {
          "output_type": "display_data",
          "data": {
            "image/png": "[encoded data removed]",
            "text/plain": [
              "<Figure size 360x72 with 1 Axes>"
            ]
          },
          "metadata": {
            "needs_background": "light"
          }
        },
        {
          "output_type": "stream",
          "text": [
            "========== YOUNG SINGLES/COUPLES - Mainstream ==========\n",
            "Kettle      3843\n",
            "Doritos     2379\n",
            "Pringles    2314\n",
            "Name: Cleaned_Brand_Names, dtype: int64\n"
          ],
          "name": "stdout"
        },
        {
          "output_type": "execute_result",
          "data": {
            "text/plain": [
              "<Figure size 432x288 with 0 Axes>"
            ]
          },
          "metadata": {},
          "execution_count": 99
        },
        {
          "output_type": "execute_result",
          "data": {
            "text/plain": [
              "<matplotlib.axes._subplots.AxesSubplot at 0x7f4fd3b58710>"
            ]
          },
          "metadata": {},
          "execution_count": 99
        },
        {
          "output_type": "display_data",
          "data": {
            "image/png": "[encoded data removed]",
            "text/plain": [
              "<Figure size 360x72 with 1 Axes>"
            ]
          },
          "metadata": {
            "needs_background": "light"
          }
        },
        {
          "output_type": "stream",
          "text": [
            "========== MIDAGE SINGLES/COUPLES - Premium ==========\n",
            "Kettle      1206\n",
            "Smiths       923\n",
            "Pringles     781\n",
            "Name: Cleaned_Brand_Names, dtype: int64\n"
          ],
          "name": "stdout"
        },
        {
          "output_type": "execute_result",
          "data": {
            "text/plain": [
              "<Figure size 432x288 with 0 Axes>"
            ]
          },
          "metadata": {},
          "execution_count": 99
        },
        {
          "output_type": "execute_result",
          "data": {
            "text/plain": [
              "<matplotlib.axes._subplots.AxesSubplot at 0x7f4fd3b76950>"
            ]
          },
          "metadata": {},
          "execution_count": 99
        },
        {
          "output_type": "display_data",
          "data": {
            "image/png": "[encoded data removed]",
            "text/plain": [
              "<Figure size 360x72 with 1 Axes>"
            ]
          },
          "metadata": {
            "needs_background": "light"
          }
        },
        {
          "output_type": "stream",
          "text": [
            "========== MIDAGE SINGLES/COUPLES - Budget ==========\n",
            "Kettle     713\n",
            "Smiths     591\n",
            "Doritos    479\n",
            "Name: Cleaned_Brand_Names, dtype: int64\n"
          ],
          "name": "stdout"
        },
        {
          "output_type": "execute_result",
          "data": {
            "text/plain": [
              "<Figure size 432x288 with 0 Axes>"
            ]
          },
          "metadata": {},
          "execution_count": 99
        },
        {
          "output_type": "execute_result",
          "data": {
            "text/plain": [
              "<matplotlib.axes._subplots.AxesSubplot at 0x7f4fd379e310>"
            ]
          },
          "metadata": {},
          "execution_count": 99
        },
        {
          "output_type": "display_data",
          "data": {
            "image/png": "[encoded data removed]",
            "text/plain": [
              "<Figure size 360x72 with 1 Axes>"
            ]
          },
          "metadata": {
            "needs_background": "light"
          }
        },
        {
          "output_type": "stream",
          "text": [
            "========== MIDAGE SINGLES/COUPLES - Mainstream ==========\n",
            "Kettle     2135\n",
            "Smiths     1276\n",
            "Doritos    1210\n",
            "Name: Cleaned_Brand_Names, dtype: int64\n"
          ],
          "name": "stdout"
        },
        {
          "output_type": "execute_result",
          "data": {
            "text/plain": [
              "<Figure size 432x288 with 0 Axes>"
            ]
          },
          "metadata": {},
          "execution_count": 99
        },
        {
          "output_type": "execute_result",
          "data": {
            "text/plain": [
              "<matplotlib.axes._subplots.AxesSubplot at 0x7f4fd37b07d0>"
            ]
          },
          "metadata": {},
          "execution_count": 99
        },
        {
          "output_type": "display_data",
          "data": {
            "image/png": "[encoded data removed]",
            "text/plain": [
              "<Figure size 360x72 with 1 Axes>"
            ]
          },
          "metadata": {
            "needs_background": "light"
          }
        },
        {
          "output_type": "stream",
          "text": [
            "========== NEW FAMILIES - Premium ==========\n",
            "Kettle      247\n",
            "Pringles    165\n",
            "Smiths      155\n",
            "Name: Cleaned_Brand_Names, dtype: int64\n"
          ],
          "name": "stdout"
        },
        {
          "output_type": "execute_result",
          "data": {
            "text/plain": [
              "<Figure size 432x288 with 0 Axes>"
            ]
          },
          "metadata": {},
          "execution_count": 99
        },
        {
          "output_type": "execute_result",
          "data": {
            "text/plain": [
              "<matplotlib.axes._subplots.AxesSubplot at 0x7f4fd2d1c050>"
            ]
          },
          "metadata": {},
          "execution_count": 99
        },
        {
          "output_type": "display_data",
          "data": {
            "image/png": "[encoded data removed]",
            "text/plain": [
              "<Figure size 360x72 with 1 Axes>"
            ]
          },
          "metadata": {
            "needs_background": "light"
          }
        },
        {
          "output_type": "stream",
          "text": [
            "========== NEW FAMILIES - Budget ==========\n",
            "Kettle     510\n",
            "Smiths     328\n",
            "Doritos    315\n",
            "Name: Cleaned_Brand_Names, dtype: int64\n"
          ],
          "name": "stdout"
        },
        {
          "output_type": "execute_result",
          "data": {
            "text/plain": [
              "<Figure size 432x288 with 0 Axes>"
            ]
          },
          "metadata": {},
          "execution_count": 99
        },
        {
          "output_type": "execute_result",
          "data": {
            "text/plain": [
              "<matplotlib.axes._subplots.AxesSubplot at 0x7f4fd2d3a3d0>"
            ]
          },
          "metadata": {},
          "execution_count": 99
        },
        {
          "output_type": "display_data",
          "data": {
            "image/png": "[encoded data removed]",
            "text/plain": [
              "<Figure size 360x72 with 1 Axes>"
            ]
          },
          "metadata": {
            "needs_background": "light"
          }
        },
        {
          "output_type": "stream",
          "text": [
            "========== NEW FAMILIES - Mainstream ==========\n",
            "Kettle     414\n",
            "Doritos    257\n",
            "Smiths     244\n",
            "Name: Cleaned_Brand_Names, dtype: int64\n"
          ],
          "name": "stdout"
        },
        {
          "output_type": "execute_result",
          "data": {
            "text/plain": [
              "<Figure size 432x288 with 0 Axes>"
            ]
          },
          "metadata": {},
          "execution_count": 99
        },
        {
          "output_type": "execute_result",
          "data": {
            "text/plain": [
              "<matplotlib.axes._subplots.AxesSubplot at 0x7f4fd93b5d50>"
            ]
          },
          "metadata": {},
          "execution_count": 99
        },
        {
          "output_type": "display_data",
          "data": {
            "image/png": "[encoded data removed]",
            "text/plain": [
              "<Figure size 360x72 with 1 Axes>"
            ]
          },
          "metadata": {
            "needs_background": "light"
          }
        },
        {
          "output_type": "stream",
          "text": [
            "========== OLDER FAMILIES - Premium ==========\n",
            "Kettle      1512\n",
            "Smiths      1448\n",
            "Pringles    1014\n",
            "Name: Cleaned_Brand_Names, dtype: int64\n"
          ],
          "name": "stdout"
        },
        {
          "output_type": "execute_result",
          "data": {
            "text/plain": [
              "<Figure size 432x288 with 0 Axes>"
            ]
          },
          "metadata": {},
          "execution_count": 99
        },
        {
          "output_type": "execute_result",
          "data": {
            "text/plain": [
              "<matplotlib.axes._subplots.AxesSubplot at 0x7f4fd93d0490>"
            ]
          },
          "metadata": {},
          "execution_count": 99
        },
        {
          "output_type": "display_data",
          "data": {
            "image/png": "[encoded data removed]",
            "text/plain": [
              "<Figure size 360x72 with 1 Axes>"
            ]
          },
          "metadata": {
            "needs_background": "light"
          }
        },
        {
          "output_type": "stream",
          "text": [
            "========== OLDER FAMILIES - Budget ==========\n",
            "Kettle     3320\n",
            "Smiths     2948\n",
            "Doritos    2031\n",
            "Name: Cleaned_Brand_Names, dtype: int64\n"
          ],
          "name": "stdout"
        },
        {
          "output_type": "execute_result",
          "data": {
            "text/plain": [
              "<Figure size 432x288 with 0 Axes>"
            ]
          },
          "metadata": {},
          "execution_count": 99
        },
        {
          "output_type": "execute_result",
          "data": {
            "text/plain": [
              "<matplotlib.axes._subplots.AxesSubplot at 0x7f4fd88b0610>"
            ]
          },
          "metadata": {},
          "execution_count": 99
        },
        {
          "output_type": "display_data",
          "data": {
            "image/png": "[encoded data removed]",
            "text/plain": [
              "<Figure size 360x72 with 1 Axes>"
            ]
          },
          "metadata": {
            "needs_background": "light"
          }
        },
        {
          "output_type": "stream",
          "text": [
            "========== OLDER FAMILIES - Mainstream ==========\n",
            "Kettle     2019\n",
            "Smiths     1742\n",
            "Doritos    1263\n",
            "Name: Cleaned_Brand_Names, dtype: int64\n"
          ],
          "name": "stdout"
        },
        {
          "output_type": "execute_result",
          "data": {
            "text/plain": [
              "<Figure size 432x288 with 0 Axes>"
            ]
          },
          "metadata": {},
          "execution_count": 99
        },
        {
          "output_type": "execute_result",
          "data": {
            "text/plain": [
              "<matplotlib.axes._subplots.AxesSubplot at 0x7f4fd88da690>"
            ]
          },
          "metadata": {},
          "execution_count": 99
        },
        {
          "output_type": "display_data",
          "data": {
            "image/png": "[encoded data removed]",
            "text/plain": [
              "<Figure size 360x72 with 1 Axes>"
            ]
          },
          "metadata": {
            "needs_background": "light"
          }
        },
        {
          "output_type": "stream",
          "text": [
            "========== OLDER SINGLES/COUPLES - Premium ==========\n",
            "Kettle     2947\n",
            "Smiths     1951\n",
            "Doritos    1784\n",
            "Name: Cleaned_Brand_Names, dtype: int64\n"
          ],
          "name": "stdout"
        },
        {
          "output_type": "execute_result",
          "data": {
            "text/plain": [
              "<Figure size 432x288 with 0 Axes>"
            ]
          },
          "metadata": {},
          "execution_count": 99
        },
        {
          "output_type": "execute_result",
          "data": {
            "text/plain": [
              "<matplotlib.axes._subplots.AxesSubplot at 0x7f4fd3e36790>"
            ]
          },
          "metadata": {},
          "execution_count": 99
        },
        {
          "output_type": "display_data",
          "data": {
            "image/png": "[encoded data removed]",
            "text/plain": [
              "<Figure size 360x72 with 1 Axes>"
            ]
          },
          "metadata": {
            "needs_background": "light"
          }
        },
        {
          "output_type": "stream",
          "text": [
            "========== OLDER SINGLES/COUPLES - Budget ==========\n",
            "Kettle      3065\n",
            "Smiths      2010\n",
            "Pringles    1843\n",
            "Name: Cleaned_Brand_Names, dtype: int64\n"
          ],
          "name": "stdout"
        },
        {
          "output_type": "execute_result",
          "data": {
            "text/plain": [
              "<Figure size 432x288 with 0 Axes>"
            ]
          },
          "metadata": {},
          "execution_count": 99
        },
        {
          "output_type": "execute_result",
          "data": {
            "text/plain": [
              "<matplotlib.axes._subplots.AxesSubplot at 0x7f4fd3e4c290>"
            ]
          },
          "metadata": {},
          "execution_count": 99
        },
        {
          "output_type": "display_data",
          "data": {
            "image/png": "[encoded data removed]",
            "text/plain": [
              "<Figure size 360x72 with 1 Axes>"
            ]
          },
          "metadata": {
            "needs_background": "light"
          }
        },
        {
          "output_type": "stream",
          "text": [
            "========== OLDER SINGLES/COUPLES - Mainstream ==========\n",
            "Kettle     2835\n",
            "Smiths     2068\n",
            "Doritos    1791\n",
            "Name: Cleaned_Brand_Names, dtype: int64\n"
          ],
          "name": "stdout"
        },
        {
          "output_type": "execute_result",
          "data": {
            "text/plain": [
              "<Figure size 432x288 with 0 Axes>"
            ]
          },
          "metadata": {},
          "execution_count": 99
        },
        {
          "output_type": "execute_result",
          "data": {
            "text/plain": [
              "<matplotlib.axes._subplots.AxesSubplot at 0x7f4fd3e4ff50>"
            ]
          },
          "metadata": {},
          "execution_count": 99
        },
        {
          "output_type": "display_data",
          "data": {
            "image/png": "[encoded data removed]",
            "text/plain": [
              "<Figure size 360x72 with 1 Axes>"
            ]
          },
          "metadata": {
            "needs_background": "light"
          }
        },
        {
          "output_type": "stream",
          "text": [
            "========== RETIREES - Premium ==========\n",
            "Kettle      2216\n",
            "Smiths      1395\n",
            "Pringles    1330\n",
            "Name: Cleaned_Brand_Names, dtype: int64\n"
          ],
          "name": "stdout"
        },
        {
          "output_type": "execute_result",
          "data": {
            "text/plain": [
              "<Figure size 432x288 with 0 Axes>"
            ]
          },
          "metadata": {},
          "execution_count": 99
        },
        {
          "output_type": "execute_result",
          "data": {
            "text/plain": [
              "<matplotlib.axes._subplots.AxesSubplot at 0x7f4fd3bcf210>"
            ]
          },
          "metadata": {},
          "execution_count": 99
        },
        {
          "output_type": "display_data",
          "data": {
            "image/png": "[encoded data removed]",
            "text/plain": [
              "<Figure size 360x72 with 1 Axes>"
            ]
          },
          "metadata": {
            "needs_background": "light"
          }
        },
        {
          "output_type": "stream",
          "text": [
            "========== RETIREES - Budget ==========\n",
            "Kettle     2592\n",
            "Smiths     1612\n",
            "Doritos    1592\n",
            "Name: Cleaned_Brand_Names, dtype: int64\n"
          ],
          "name": "stdout"
        },
        {
          "output_type": "execute_result",
          "data": {
            "text/plain": [
              "<Figure size 432x288 with 0 Axes>"
            ]
          },
          "metadata": {},
          "execution_count": 99
        },
        {
          "output_type": "execute_result",
          "data": {
            "text/plain": [
              "<matplotlib.axes._subplots.AxesSubplot at 0x7f4fd34b0190>"
            ]
          },
          "metadata": {},
          "execution_count": 99
        },
        {
          "output_type": "display_data",
          "data": {
            "image/png": "[encoded data removed]",
            "text/plain": [
              "<Figure size 360x72 with 1 Axes>"
            ]
          },
          "metadata": {
            "needs_background": "light"
          }
        },
        {
          "output_type": "stream",
          "text": [
            "========== RETIREES - Mainstream ==========\n",
            "Kettle      3386\n",
            "Smiths      2367\n",
            "Pringles    2103\n",
            "Name: Cleaned_Brand_Names, dtype: int64\n"
          ],
          "name": "stdout"
        },
        {
          "output_type": "execute_result",
          "data": {
            "text/plain": [
              "<Figure size 432x288 with 0 Axes>"
            ]
          },
          "metadata": {},
          "execution_count": 99
        },
        {
          "output_type": "execute_result",
          "data": {
            "text/plain": [
              "<matplotlib.axes._subplots.AxesSubplot at 0x7f4fd34c3450>"
            ]
          },
          "metadata": {},
          "execution_count": 99
        },
        {
          "output_type": "display_data",
          "data": {
            "image/png": "[encoded data removed]",
            "text/plain": [
              "<Figure size 360x72 with 1 Axes>"
            ]
          },
          "metadata": {
            "needs_background": "light"
          }
        },
        {
          "output_type": "stream",
          "text": [
            "========== YOUNG FAMILIES - Premium ==========\n",
            "Kettle      1745\n",
            "Smiths      1384\n",
            "Pringles    1007\n",
            "Name: Cleaned_Brand_Names, dtype: int64\n"
          ],
          "name": "stdout"
        },
        {
          "output_type": "execute_result",
          "data": {
            "text/plain": [
              "<Figure size 432x288 with 0 Axes>"
            ]
          },
          "metadata": {},
          "execution_count": 99
        },
        {
          "output_type": "execute_result",
          "data": {
            "text/plain": [
              "<matplotlib.axes._subplots.AxesSubplot at 0x7f4fd2be2f10>"
            ]
          },
          "metadata": {},
          "execution_count": 99
        },
        {
          "output_type": "display_data",
          "data": {
            "image/png": "[encoded data removed]",
            "text/plain": [
              "<Figure size 360x72 with 1 Axes>"
            ]
          },
          "metadata": {
            "needs_background": "light"
          }
        },
        {
          "output_type": "stream",
          "text": [
            "========== YOUNG FAMILIES - Budget ==========\n",
            "Kettle     2743\n",
            "Smiths     2334\n",
            "Doritos    1767\n",
            "Name: Cleaned_Brand_Names, dtype: int64\n"
          ],
          "name": "stdout"
        },
        {
          "output_type": "execute_result",
          "data": {
            "text/plain": [
              "<Figure size 432x288 with 0 Axes>"
            ]
          },
          "metadata": {},
          "execution_count": 99
        },
        {
          "output_type": "execute_result",
          "data": {
            "text/plain": [
              "<matplotlib.axes._subplots.AxesSubplot at 0x7f4fd2c08910>"
            ]
          },
          "metadata": {},
          "execution_count": 99
        },
        {
          "output_type": "display_data",
          "data": {
            "image/png": "[encoded data removed]",
            "text/plain": [
              "<Figure size 360x72 with 1 Axes>"
            ]
          },
          "metadata": {
            "needs_background": "light"
          }
        },
        {
          "output_type": "stream",
          "text": [
            "========== YOUNG FAMILIES - Mainstream ==========\n",
            "Kettle      1789\n",
            "Smiths      1681\n",
            "Pringles    1148\n",
            "Name: Cleaned_Brand_Names, dtype: int64\n"
          ],
          "name": "stdout"
        },
        {
          "output_type": "execute_result",
          "data": {
            "text/plain": [
              "<Figure size 432x288 with 0 Axes>"
            ]
          },
          "metadata": {},
          "execution_count": 99
        },
        {
          "output_type": "execute_result",
          "data": {
            "text/plain": [
              "<matplotlib.axes._subplots.AxesSubplot at 0x7f4fd7d78f50>"
            ]
          },
          "metadata": {},
          "execution_count": 99
        },
        {
          "output_type": "display_data",
          "data": {
            "image/png": "[encoded data removed]",
            "text/plain": [
              "<Figure size 360x72 with 1 Axes>"
            ]
          },
          "metadata": {
            "needs_background": "light"
          }
        }
      ]
    },
    {
      "cell_type": "markdown",
      "metadata": {
        "id": "dPOpKYAhukyR"
      },
      "source": [
        "**Every segment had Kettle as the most purchased brand. Every segment except \"YOUNG SINGLES/COUPLES Mainstream\" had Smiths as their second most purchased brand. \"YOUNG SINGLES/COUPLES Mainstream\" had Doritos as their second most purchased brand.**"
      ]
    },
    {
      "cell_type": "code",
      "metadata": {
        "colab": {
          "base_uri": "https://localhost:8080/",
          "height": 203
        },
        "id": "8-2fQ3kK11Zh",
        "outputId": "be38a841-8c03-4d8a-d47b-06ad3233741d"
      },
      "source": [
        "mdf5.head()"
      ],
      "execution_count": 100,
      "outputs": [
        {
          "output_type": "execute_result",
          "data": {
            "text/html": [
              "<div>\n",
              "<style scoped>\n",
              "    .dataframe tbody tr th:only-of-type {\n",
              "        vertical-align: middle;\n",
              "    }\n",
              "\n",
              "    .dataframe tbody tr th {\n",
              "        vertical-align: top;\n",
              "    }\n",
              "\n",
              "    .dataframe thead th {\n",
              "        text-align: right;\n",
              "    }\n",
              "</style>\n",
              "<table border=\"1\" class=\"dataframe\">\n",
              "  <thead>\n",
              "    <tr style=\"text-align: right;\">\n",
              "      <th></th>\n",
              "      <th>LYLTY_CARD_NBR</th>\n",
              "      <th>TXN_ID</th>\n",
              "      <th>LIFESTAGE</th>\n",
              "      <th>PREMIUM_CUSTOMER</th>\n",
              "      <th>DATE</th>\n",
              "      <th>STORE_NBR</th>\n",
              "      <th>PROD_NBR</th>\n",
              "      <th>PROD_QTY</th>\n",
              "      <th>Cleaned_Brand_Names</th>\n",
              "      <th>pack_sizes</th>\n",
              "      <th>TOT_SALES</th>\n",
              "    </tr>\n",
              "  </thead>\n",
              "  <tbody>\n",
              "    <tr>\n",
              "      <th>0</th>\n",
              "      <td>1000</td>\n",
              "      <td>1</td>\n",
              "      <td>YOUNG SINGLES/COUPLES</td>\n",
              "      <td>Premium</td>\n",
              "      <td>2018-10-17</td>\n",
              "      <td>1</td>\n",
              "      <td>5</td>\n",
              "      <td>2</td>\n",
              "      <td>Natural Chip Co</td>\n",
              "      <td>175.0</td>\n",
              "      <td>6.0</td>\n",
              "    </tr>\n",
              "    <tr>\n",
              "      <th>1</th>\n",
              "      <td>1307</td>\n",
              "      <td>348</td>\n",
              "      <td>MIDAGE SINGLES/COUPLES</td>\n",
              "      <td>Budget</td>\n",
              "      <td>2019-05-14</td>\n",
              "      <td>1</td>\n",
              "      <td>66</td>\n",
              "      <td>3</td>\n",
              "      <td>CCs</td>\n",
              "      <td>175.0</td>\n",
              "      <td>6.3</td>\n",
              "    </tr>\n",
              "    <tr>\n",
              "      <th>2</th>\n",
              "      <td>1307</td>\n",
              "      <td>346</td>\n",
              "      <td>MIDAGE SINGLES/COUPLES</td>\n",
              "      <td>Budget</td>\n",
              "      <td>2018-11-10</td>\n",
              "      <td>1</td>\n",
              "      <td>96</td>\n",
              "      <td>2</td>\n",
              "      <td>Woolworths</td>\n",
              "      <td>160.0</td>\n",
              "      <td>3.8</td>\n",
              "    </tr>\n",
              "    <tr>\n",
              "      <th>3</th>\n",
              "      <td>1307</td>\n",
              "      <td>347</td>\n",
              "      <td>MIDAGE SINGLES/COUPLES</td>\n",
              "      <td>Budget</td>\n",
              "      <td>2019-03-09</td>\n",
              "      <td>1</td>\n",
              "      <td>54</td>\n",
              "      <td>1</td>\n",
              "      <td>CCs</td>\n",
              "      <td>175.0</td>\n",
              "      <td>2.1</td>\n",
              "    </tr>\n",
              "    <tr>\n",
              "      <th>4</th>\n",
              "      <td>1343</td>\n",
              "      <td>383</td>\n",
              "      <td>MIDAGE SINGLES/COUPLES</td>\n",
              "      <td>Budget</td>\n",
              "      <td>2019-05-20</td>\n",
              "      <td>1</td>\n",
              "      <td>61</td>\n",
              "      <td>2</td>\n",
              "      <td>Smiths</td>\n",
              "      <td>170.0</td>\n",
              "      <td>2.9</td>\n",
              "    </tr>\n",
              "  </tbody>\n",
              "</table>\n",
              "</div>"
            ],
            "text/plain": [
              "   LYLTY_CARD_NBR  TXN_ID               LIFESTAGE PREMIUM_CUSTOMER       DATE  \\\n",
              "0            1000       1   YOUNG SINGLES/COUPLES          Premium 2018-10-17   \n",
              "1            1307     348  MIDAGE SINGLES/COUPLES           Budget 2019-05-14   \n",
              "2            1307     346  MIDAGE SINGLES/COUPLES           Budget 2018-11-10   \n",
              "3            1307     347  MIDAGE SINGLES/COUPLES           Budget 2019-03-09   \n",
              "4            1343     383  MIDAGE SINGLES/COUPLES           Budget 2019-05-20   \n",
              "\n",
              "   STORE_NBR  PROD_NBR  PROD_QTY Cleaned_Brand_Names  pack_sizes  TOT_SALES  \n",
              "0          1         5         2     Natural Chip Co       175.0        6.0  \n",
              "1          1        66         3                 CCs       175.0        6.3  \n",
              "2          1        96         2          Woolworths       160.0        3.8  \n",
              "3          1        54         1                 CCs       175.0        2.1  \n",
              "4          1        61         2              Smiths       170.0        2.9  "
            ]
          },
          "metadata": {},
          "execution_count": 100
        }
      ]
    },
    {
      "cell_type": "code",
      "metadata": {
        "colab": {
          "base_uri": "https://localhost:8080/",
          "height": 0
        },
        "id": "RgArR4LIyjx5",
        "outputId": "1e74e1c9-5ec2-4667-9469-6812e958ada7"
      },
      "source": [
        "mdf5[\"Segment\"] = mdf5[\"LIFESTAGE\"] + ' - ' + mdf5['PREMIUM_CUSTOMER']"
      ],
      "execution_count": 101,
      "outputs": [
        {
          "output_type": "stream",
          "text": [
            "/usr/local/lib/python3.7/dist-packages/ipykernel_launcher.py:1: SettingWithCopyWarning: \n",
            "A value is trying to be set on a copy of a slice from a DataFrame.\n",
            "Try using .loc[row_indexer,col_indexer] = value instead\n",
            "\n",
            "See the caveats in the documentation: https://pandas.pydata.org/pandas-docs/stable/user_guide/indexing.html#returning-a-view-versus-a-copy\n",
            "  \"\"\"Entry point for launching an IPython kernel.\n"
          ],
          "name": "stderr"
        }
      ]
    },
    {
      "cell_type": "code",
      "metadata": {
        "colab": {
          "base_uri": "https://localhost:8080/",
          "height": 287
        },
        "id": "FMBAE2mGKbBx",
        "outputId": "d258857f-52e0-4dd5-dbb6-9fad72eeba4c"
      },
      "source": [
        "mdf5.head()"
      ],
      "execution_count": 102,
      "outputs": [
        {
          "output_type": "execute_result",
          "data": {
            "text/html": [
              "<div>\n",
              "<style scoped>\n",
              "    .dataframe tbody tr th:only-of-type {\n",
              "        vertical-align: middle;\n",
              "    }\n",
              "\n",
              "    .dataframe tbody tr th {\n",
              "        vertical-align: top;\n",
              "    }\n",
              "\n",
              "    .dataframe thead th {\n",
              "        text-align: right;\n",
              "    }\n",
              "</style>\n",
              "<table border=\"1\" class=\"dataframe\">\n",
              "  <thead>\n",
              "    <tr style=\"text-align: right;\">\n",
              "      <th></th>\n",
              "      <th>LYLTY_CARD_NBR</th>\n",
              "      <th>TXN_ID</th>\n",
              "      <th>LIFESTAGE</th>\n",
              "      <th>PREMIUM_CUSTOMER</th>\n",
              "      <th>DATE</th>\n",
              "      <th>STORE_NBR</th>\n",
              "      <th>PROD_NBR</th>\n",
              "      <th>PROD_QTY</th>\n",
              "      <th>Cleaned_Brand_Names</th>\n",
              "      <th>pack_sizes</th>\n",
              "      <th>TOT_SALES</th>\n",
              "      <th>Segment</th>\n",
              "    </tr>\n",
              "  </thead>\n",
              "  <tbody>\n",
              "    <tr>\n",
              "      <th>0</th>\n",
              "      <td>1000</td>\n",
              "      <td>1</td>\n",
              "      <td>YOUNG SINGLES/COUPLES</td>\n",
              "      <td>Premium</td>\n",
              "      <td>2018-10-17</td>\n",
              "      <td>1</td>\n",
              "      <td>5</td>\n",
              "      <td>2</td>\n",
              "      <td>Natural Chip Co</td>\n",
              "      <td>175.0</td>\n",
              "      <td>6.0</td>\n",
              "      <td>YOUNG SINGLES/COUPLES - Premium</td>\n",
              "    </tr>\n",
              "    <tr>\n",
              "      <th>1</th>\n",
              "      <td>1307</td>\n",
              "      <td>348</td>\n",
              "      <td>MIDAGE SINGLES/COUPLES</td>\n",
              "      <td>Budget</td>\n",
              "      <td>2019-05-14</td>\n",
              "      <td>1</td>\n",
              "      <td>66</td>\n",
              "      <td>3</td>\n",
              "      <td>CCs</td>\n",
              "      <td>175.0</td>\n",
              "      <td>6.3</td>\n",
              "      <td>MIDAGE SINGLES/COUPLES - Budget</td>\n",
              "    </tr>\n",
              "    <tr>\n",
              "      <th>2</th>\n",
              "      <td>1307</td>\n",
              "      <td>346</td>\n",
              "      <td>MIDAGE SINGLES/COUPLES</td>\n",
              "      <td>Budget</td>\n",
              "      <td>2018-11-10</td>\n",
              "      <td>1</td>\n",
              "      <td>96</td>\n",
              "      <td>2</td>\n",
              "      <td>Woolworths</td>\n",
              "      <td>160.0</td>\n",
              "      <td>3.8</td>\n",
              "      <td>MIDAGE SINGLES/COUPLES - Budget</td>\n",
              "    </tr>\n",
              "    <tr>\n",
              "      <th>3</th>\n",
              "      <td>1307</td>\n",
              "      <td>347</td>\n",
              "      <td>MIDAGE SINGLES/COUPLES</td>\n",
              "      <td>Budget</td>\n",
              "      <td>2019-03-09</td>\n",
              "      <td>1</td>\n",
              "      <td>54</td>\n",
              "      <td>1</td>\n",
              "      <td>CCs</td>\n",
              "      <td>175.0</td>\n",
              "      <td>2.1</td>\n",
              "      <td>MIDAGE SINGLES/COUPLES - Budget</td>\n",
              "    </tr>\n",
              "    <tr>\n",
              "      <th>4</th>\n",
              "      <td>1343</td>\n",
              "      <td>383</td>\n",
              "      <td>MIDAGE SINGLES/COUPLES</td>\n",
              "      <td>Budget</td>\n",
              "      <td>2019-05-20</td>\n",
              "      <td>1</td>\n",
              "      <td>61</td>\n",
              "      <td>2</td>\n",
              "      <td>Smiths</td>\n",
              "      <td>170.0</td>\n",
              "      <td>2.9</td>\n",
              "      <td>MIDAGE SINGLES/COUPLES - Budget</td>\n",
              "    </tr>\n",
              "  </tbody>\n",
              "</table>\n",
              "</div>"
            ],
            "text/plain": [
              "   LYLTY_CARD_NBR  TXN_ID               LIFESTAGE PREMIUM_CUSTOMER       DATE  \\\n",
              "0            1000       1   YOUNG SINGLES/COUPLES          Premium 2018-10-17   \n",
              "1            1307     348  MIDAGE SINGLES/COUPLES           Budget 2019-05-14   \n",
              "2            1307     346  MIDAGE SINGLES/COUPLES           Budget 2018-11-10   \n",
              "3            1307     347  MIDAGE SINGLES/COUPLES           Budget 2019-03-09   \n",
              "4            1343     383  MIDAGE SINGLES/COUPLES           Budget 2019-05-20   \n",
              "\n",
              "   STORE_NBR  PROD_NBR  PROD_QTY Cleaned_Brand_Names  pack_sizes  TOT_SALES  \\\n",
              "0          1         5         2     Natural Chip Co       175.0        6.0   \n",
              "1          1        66         3                 CCs       175.0        6.3   \n",
              "2          1        96         2          Woolworths       160.0        3.8   \n",
              "3          1        54         1                 CCs       175.0        2.1   \n",
              "4          1        61         2              Smiths       170.0        2.9   \n",
              "\n",
              "                           Segment  \n",
              "0  YOUNG SINGLES/COUPLES - Premium  \n",
              "1  MIDAGE SINGLES/COUPLES - Budget  \n",
              "2  MIDAGE SINGLES/COUPLES - Budget  \n",
              "3  MIDAGE SINGLES/COUPLES - Budget  \n",
              "4  MIDAGE SINGLES/COUPLES - Budget  "
            ]
          },
          "metadata": {},
          "execution_count": 102
        }
      ]
    },
    {
      "cell_type": "code",
      "metadata": {
        "colab": {
          "base_uri": "https://localhost:8080/",
          "height": 4020
        },
        "id": "CtmZ6R8EWLhR",
        "outputId": "6e7ab351-c684-42c9-a8ff-d8745ff00722"
      },
      "source": [
        "for stage in mdf5[\"LIFESTAGE\"].unique():\n",
        "    for prem in mdf5[\"PREMIUM_CUSTOMER\"].unique():\n",
        "        print('==========',stage, '-', prem,'==========')\n",
        "        summary = mdf5[(mdf5[\"LIFESTAGE\"] == stage) & (mdf5[\"PREMIUM_CUSTOMER\"] == prem)][\"pack_sizes\"].value_counts().head(3).sort_index()\n",
        "        print(summary)\n",
        "        plt.figure()\n",
        "        summary.plot.barh(figsize=(5,1))\n",
        "        plt.show()"
      ],
      "execution_count": 103,
      "outputs": [
        {
          "output_type": "stream",
          "text": [
            "========== YOUNG SINGLES/COUPLES - Premium ==========\n",
            "134.0     537\n",
            "150.0     896\n",
            "175.0    1587\n",
            "Name: pack_sizes, dtype: int64\n"
          ],
          "name": "stdout"
        },
        {
          "output_type": "execute_result",
          "data": {
            "text/plain": [
              "<Figure size 432x288 with 0 Axes>"
            ]
          },
          "metadata": {},
          "execution_count": 103
        },
        {
          "output_type": "execute_result",
          "data": {
            "text/plain": [
              "<matplotlib.axes._subplots.AxesSubplot at 0x7f4fda146610>"
            ]
          },
          "metadata": {},
          "execution_count": 103
        },
        {
          "output_type": "display_data",
          "data": {
            "image/png": "[encoded data removed]",
            "text/plain": [
              "<Figure size 360x72 with 1 Axes>"
            ]
          },
          "metadata": {
            "needs_background": "light"
          }
        },
        {
          "output_type": "stream",
          "text": [
            "========== YOUNG SINGLES/COUPLES - Budget ==========\n",
            "134.0     832\n",
            "150.0    1325\n",
            "175.0    2262\n",
            "Name: pack_sizes, dtype: int64\n"
          ],
          "name": "stdout"
        },
        {
          "output_type": "execute_result",
          "data": {
            "text/plain": [
              "<Figure size 432x288 with 0 Axes>"
            ]
          },
          "metadata": {},
          "execution_count": 103
        },
        {
          "output_type": "execute_result",
          "data": {
            "text/plain": [
              "<matplotlib.axes._subplots.AxesSubplot at 0x7f4fd2dc4410>"
            ]
          },
          "metadata": {},
          "execution_count": 103
        },
        {
          "output_type": "display_data",
          "data": {
            "image/png": "[encoded data removed]",
            "text/plain": [
              "<Figure size 360x72 with 1 Axes>"
            ]
          },
          "metadata": {
            "needs_background": "light"
          }
        },
        {
          "output_type": "stream",
          "text": [
            "========== YOUNG SINGLES/COUPLES - Mainstream ==========\n",
            "134.0    2314\n",
            "150.0    2997\n",
            "175.0    4928\n",
            "Name: pack_sizes, dtype: int64\n"
          ],
          "name": "stdout"
        },
        {
          "output_type": "execute_result",
          "data": {
            "text/plain": [
              "<Figure size 432x288 with 0 Axes>"
            ]
          },
          "metadata": {},
          "execution_count": 103
        },
        {
          "output_type": "execute_result",
          "data": {
            "text/plain": [
              "<matplotlib.axes._subplots.AxesSubplot at 0x7f4fd2daf850>"
            ]
          },
          "metadata": {},
          "execution_count": 103
        },
        {
          "output_type": "display_data",
          "data": {
            "image/png": "[encoded data removed]",
            "text/plain": [
              "<Figure size 360x72 with 1 Axes>"
            ]
          },
          "metadata": {
            "needs_background": "light"
          }
        },
        {
          "output_type": "stream",
          "text": [
            "========== MIDAGE SINGLES/COUPLES - Premium ==========\n",
            "134.0     781\n",
            "150.0    1163\n",
            "175.0    2034\n",
            "Name: pack_sizes, dtype: int64\n"
          ],
          "name": "stdout"
        },
        {
          "output_type": "execute_result",
          "data": {
            "text/plain": [
              "<Figure size 432x288 with 0 Axes>"
            ]
          },
          "metadata": {},
          "execution_count": 103
        },
        {
          "output_type": "execute_result",
          "data": {
            "text/plain": [
              "<matplotlib.axes._subplots.AxesSubplot at 0x7f4fd2f88910>"
            ]
          },
          "metadata": {},
          "execution_count": 103
        },
        {
          "output_type": "display_data",
          "data": {
            "image/png": "[encoded data removed]",
            "text/plain": [
              "<Figure size 360x72 with 1 Axes>"
            ]
          },
          "metadata": {
            "needs_background": "light"
          }
        },
        {
          "output_type": "stream",
          "text": [
            "========== MIDAGE SINGLES/COUPLES - Budget ==========\n",
            "134.0     449\n",
            "150.0     746\n",
            "175.0    1256\n",
            "Name: pack_sizes, dtype: int64\n"
          ],
          "name": "stdout"
        },
        {
          "output_type": "execute_result",
          "data": {
            "text/plain": [
              "<Figure size 432x288 with 0 Axes>"
            ]
          },
          "metadata": {},
          "execution_count": 103
        },
        {
          "output_type": "execute_result",
          "data": {
            "text/plain": [
              "<matplotlib.axes._subplots.AxesSubplot at 0x7f4fd2f5ded0>"
            ]
          },
          "metadata": {},
          "execution_count": 103
        },
        {
          "output_type": "display_data",
          "data": {
            "image/png": "[encoded data removed]",
            "text/plain": [
              "<Figure size 360x72 with 1 Axes>"
            ]
          },
          "metadata": {
            "needs_background": "light"
          }
        },
        {
          "output_type": "stream",
          "text": [
            "========== MIDAGE SINGLES/COUPLES - Mainstream ==========\n",
            "134.0    1159\n",
            "150.0    1713\n",
            "175.0    2912\n",
            "Name: pack_sizes, dtype: int64\n"
          ],
          "name": "stdout"
        },
        {
          "output_type": "execute_result",
          "data": {
            "text/plain": [
              "<Figure size 432x288 with 0 Axes>"
            ]
          },
          "metadata": {},
          "execution_count": 103
        },
        {
          "output_type": "execute_result",
          "data": {
            "text/plain": [
              "<matplotlib.axes._subplots.AxesSubplot at 0x7f4fd2daaa90>"
            ]
          },
          "metadata": {},
          "execution_count": 103
        },
        {
          "output_type": "display_data",
          "data": {
            "image/png": "[encoded data removed]",
            "text/plain": [
              "<Figure size 360x72 with 1 Axes>"
            ]
          },
          "metadata": {
            "needs_background": "light"
          }
        },
        {
          "output_type": "stream",
          "text": [
            "========== NEW FAMILIES - Premium ==========\n",
            "134.0    165\n",
            "150.0    225\n",
            "175.0    371\n",
            "Name: pack_sizes, dtype: int64\n"
          ],
          "name": "stdout"
        },
        {
          "output_type": "execute_result",
          "data": {
            "text/plain": [
              "<Figure size 432x288 with 0 Axes>"
            ]
          },
          "metadata": {},
          "execution_count": 103
        },
        {
          "output_type": "execute_result",
          "data": {
            "text/plain": [
              "<matplotlib.axes._subplots.AxesSubplot at 0x7f4fd40f4490>"
            ]
          },
          "metadata": {},
          "execution_count": 103
        },
        {
          "output_type": "display_data",
          "data": {
            "image/png": "[encoded data removed]",
            "text/plain": [
              "<Figure size 360x72 with 1 Axes>"
            ]
          },
          "metadata": {
            "needs_background": "light"
          }
        },
        {
          "output_type": "stream",
          "text": [
            "========== NEW FAMILIES - Budget ==========\n",
            "134.0    309\n",
            "150.0    425\n",
            "175.0    763\n",
            "Name: pack_sizes, dtype: int64\n"
          ],
          "name": "stdout"
        },
        {
          "output_type": "execute_result",
          "data": {
            "text/plain": [
              "<Figure size 432x288 with 0 Axes>"
            ]
          },
          "metadata": {},
          "execution_count": 103
        },
        {
          "output_type": "execute_result",
          "data": {
            "text/plain": [
              "<matplotlib.axes._subplots.AxesSubplot at 0x7f4fd4f87b50>"
            ]
          },
          "metadata": {},
          "execution_count": 103
        },
        {
          "output_type": "display_data",
          "data": {
            "image/png": "[encoded data removed]",
            "text/plain": [
              "<Figure size 360x72 with 1 Axes>"
            ]
          },
          "metadata": {
            "needs_background": "light"
          }
        },
        {
          "output_type": "stream",
          "text": [
            "========== NEW FAMILIES - Mainstream ==========\n",
            "134.0    224\n",
            "150.0    362\n",
            "175.0    579\n",
            "Name: pack_sizes, dtype: int64\n"
          ],
          "name": "stdout"
        },
        {
          "output_type": "execute_result",
          "data": {
            "text/plain": [
              "<Figure size 432x288 with 0 Axes>"
            ]
          },
          "metadata": {},
          "execution_count": 103
        },
        {
          "output_type": "execute_result",
          "data": {
            "text/plain": [
              "<matplotlib.axes._subplots.AxesSubplot at 0x7f4fd4f6ead0>"
            ]
          },
          "metadata": {},
          "execution_count": 103
        },
        {
          "output_type": "display_data",
          "data": {
            "image/png": "[encoded data removed]",
            "text/plain": [
              "<Figure size 360x72 with 1 Axes>"
            ]
          },
          "metadata": {
            "needs_background": "light"
          }
        },
        {
          "output_type": "stream",
          "text": [
            "========== OLDER FAMILIES - Premium ==========\n",
            "134.0    1014\n",
            "150.0    1607\n",
            "175.0    2747\n",
            "Name: pack_sizes, dtype: int64\n"
          ],
          "name": "stdout"
        },
        {
          "output_type": "execute_result",
          "data": {
            "text/plain": [
              "<Figure size 432x288 with 0 Axes>"
            ]
          },
          "metadata": {},
          "execution_count": 103
        },
        {
          "output_type": "execute_result",
          "data": {
            "text/plain": [
              "<matplotlib.axes._subplots.AxesSubplot at 0x7f4fd58cbf10>"
            ]
          },
          "metadata": {},
          "execution_count": 103
        },
        {
          "output_type": "display_data",
          "data": {
            "image/png": "[encoded data removed]",
            "text/plain": [
              "<Figure size 360x72 with 1 Axes>"
            ]
          },
          "metadata": {
            "needs_background": "light"
          }
        },
        {
          "output_type": "stream",
          "text": [
            "========== OLDER FAMILIES - Budget ==========\n",
            "134.0    1996\n",
            "150.0    3414\n",
            "175.0    5662\n",
            "Name: pack_sizes, dtype: int64\n"
          ],
          "name": "stdout"
        },
        {
          "output_type": "execute_result",
          "data": {
            "text/plain": [
              "<Figure size 432x288 with 0 Axes>"
            ]
          },
          "metadata": {},
          "execution_count": 103
        },
        {
          "output_type": "execute_result",
          "data": {
            "text/plain": [
              "<matplotlib.axes._subplots.AxesSubplot at 0x7f4fd58b0690>"
            ]
          },
          "metadata": {},
          "execution_count": 103
        },
        {
          "output_type": "display_data",
          "data": {
            "image/png": "[encoded data removed]",
            "text/plain": [
              "<Figure size 360x72 with 1 Axes>"
            ]
          },
          "metadata": {
            "needs_background": "light"
          }
        },
        {
          "output_type": "stream",
          "text": [
            "========== OLDER FAMILIES - Mainstream ==========\n",
            "134.0    1234\n",
            "150.0    2091\n",
            "175.0    3489\n",
            "Name: pack_sizes, dtype: int64\n"
          ],
          "name": "stdout"
        },
        {
          "output_type": "execute_result",
          "data": {
            "text/plain": [
              "<Figure size 432x288 with 0 Axes>"
            ]
          },
          "metadata": {},
          "execution_count": 103
        },
        {
          "output_type": "execute_result",
          "data": {
            "text/plain": [
              "<matplotlib.axes._subplots.AxesSubplot at 0x7f4fd58991d0>"
            ]
          },
          "metadata": {},
          "execution_count": 103
        },
        {
          "output_type": "display_data",
          "data": {
            "image/png": "[encoded data removed]",
            "text/plain": [
              "<Figure size 360x72 with 1 Axes>"
            ]
          },
          "metadata": {
            "needs_background": "light"
          }
        },
        {
          "output_type": "stream",
          "text": [
            "========== OLDER SINGLES/COUPLES - Premium ==========\n",
            "134.0    1743\n",
            "150.0    2672\n",
            "175.0    4380\n",
            "Name: pack_sizes, dtype: int64\n"
          ],
          "name": "stdout"
        },
        {
          "output_type": "execute_result",
          "data": {
            "text/plain": [
              "<Figure size 432x288 with 0 Axes>"
            ]
          },
          "metadata": {},
          "execution_count": 103
        },
        {
          "output_type": "execute_result",
          "data": {
            "text/plain": [
              "<matplotlib.axes._subplots.AxesSubplot at 0x7f4fd63a4110>"
            ]
          },
          "metadata": {},
          "execution_count": 103
        },
        {
          "output_type": "display_data",
          "data": {
            "image/png": "[encoded data removed]",
            "text/plain": [
              "<Figure size 360x72 with 1 Axes>"
            ]
          },
          "metadata": {
            "needs_background": "light"
          }
        },
        {
          "output_type": "stream",
          "text": [
            "========== OLDER SINGLES/COUPLES - Budget ==========\n",
            "134.0    1843\n",
            "150.0    2726\n",
            "175.0    4535\n",
            "Name: pack_sizes, dtype: int64\n"
          ],
          "name": "stdout"
        },
        {
          "output_type": "execute_result",
          "data": {
            "text/plain": [
              "<Figure size 432x288 with 0 Axes>"
            ]
          },
          "metadata": {},
          "execution_count": 103
        },
        {
          "output_type": "execute_result",
          "data": {
            "text/plain": [
              "<matplotlib.axes._subplots.AxesSubplot at 0x7f4fd6395710>"
            ]
          },
          "metadata": {},
          "execution_count": 103
        },
        {
          "output_type": "display_data",
          "data": {
            "image/png": "[encoded data removed]",
            "text/plain": [
              "<Figure size 360x72 with 1 Axes>"
            ]
          },
          "metadata": {
            "needs_background": "light"
          }
        },
        {
          "output_type": "stream",
          "text": [
            "========== OLDER SINGLES/COUPLES - Mainstream ==========\n",
            "134.0    1720\n",
            "150.0    2660\n",
            "175.0    4420\n",
            "Name: pack_sizes, dtype: int64\n"
          ],
          "name": "stdout"
        },
        {
          "output_type": "execute_result",
          "data": {
            "text/plain": [
              "<Figure size 432x288 with 0 Axes>"
            ]
          },
          "metadata": {},
          "execution_count": 103
        },
        {
          "output_type": "execute_result",
          "data": {
            "text/plain": [
              "<matplotlib.axes._subplots.AxesSubplot at 0x7f4fd63f74d0>"
            ]
          },
          "metadata": {},
          "execution_count": 103
        },
        {
          "output_type": "display_data",
          "data": {
            "image/png": "[encoded data removed]",
            "text/plain": [
              "<Figure size 360x72 with 1 Axes>"
            ]
          },
          "metadata": {
            "needs_background": "light"
          }
        },
        {
          "output_type": "stream",
          "text": [
            "========== RETIREES - Premium ==========\n",
            "134.0    1330\n",
            "150.0    1883\n",
            "175.0    3232\n",
            "Name: pack_sizes, dtype: int64\n"
          ],
          "name": "stdout"
        },
        {
          "output_type": "execute_result",
          "data": {
            "text/plain": [
              "<Figure size 432x288 with 0 Axes>"
            ]
          },
          "metadata": {},
          "execution_count": 103
        },
        {
          "output_type": "execute_result",
          "data": {
            "text/plain": [
              "<matplotlib.axes._subplots.AxesSubplot at 0x7f4fd63f0a10>"
            ]
          },
          "metadata": {},
          "execution_count": 103
        },
        {
          "output_type": "display_data",
          "data": {
            "image/png": "[encoded data removed]",
            "text/plain": [
              "<Figure size 360x72 with 1 Axes>"
            ]
          },
          "metadata": {
            "needs_background": "light"
          }
        },
        {
          "output_type": "stream",
          "text": [
            "========== RETIREES - Budget ==========\n",
            "134.0    1517\n",
            "150.0    2242\n",
            "175.0    3767\n",
            "Name: pack_sizes, dtype: int64\n"
          ],
          "name": "stdout"
        },
        {
          "output_type": "execute_result",
          "data": {
            "text/plain": [
              "<Figure size 432x288 with 0 Axes>"
            ]
          },
          "metadata": {},
          "execution_count": 103
        },
        {
          "output_type": "execute_result",
          "data": {
            "text/plain": [
              "<matplotlib.axes._subplots.AxesSubplot at 0x7f4fd63dad50>"
            ]
          },
          "metadata": {},
          "execution_count": 103
        },
        {
          "output_type": "display_data",
          "data": {
            "image/png": "[encoded data removed]",
            "text/plain": [
              "<Figure size 360x72 with 1 Axes>"
            ]
          },
          "metadata": {
            "needs_background": "light"
          }
        },
        {
          "output_type": "stream",
          "text": [
            "========== RETIREES - Mainstream ==========\n",
            "134.0    2103\n",
            "150.0    3183\n",
            "175.0    5187\n",
            "Name: pack_sizes, dtype: int64\n"
          ],
          "name": "stdout"
        },
        {
          "output_type": "execute_result",
          "data": {
            "text/plain": [
              "<Figure size 432x288 with 0 Axes>"
            ]
          },
          "metadata": {},
          "execution_count": 103
        },
        {
          "output_type": "execute_result",
          "data": {
            "text/plain": [
              "<matplotlib.axes._subplots.AxesSubplot at 0x7f4fd63f1b50>"
            ]
          },
          "metadata": {},
          "execution_count": 103
        },
        {
          "output_type": "display_data",
          "data": {
            "image/png": "[encoded data removed]",
            "text/plain": [
              "<Figure size 360x72 with 1 Axes>"
            ]
          },
          "metadata": {
            "needs_background": "light"
          }
        },
        {
          "output_type": "stream",
          "text": [
            "========== YOUNG FAMILIES - Premium ==========\n",
            "134.0    1007\n",
            "150.0    1697\n",
            "175.0    2926\n",
            "Name: pack_sizes, dtype: int64\n"
          ],
          "name": "stdout"
        },
        {
          "output_type": "execute_result",
          "data": {
            "text/plain": [
              "<Figure size 432x288 with 0 Axes>"
            ]
          },
          "metadata": {},
          "execution_count": 103
        },
        {
          "output_type": "execute_result",
          "data": {
            "text/plain": [
              "<matplotlib.axes._subplots.AxesSubplot at 0x7f4fd63a50d0>"
            ]
          },
          "metadata": {},
          "execution_count": 103
        },
        {
          "output_type": "display_data",
          "data": {
            "image/png": "[encoded data removed]",
            "text/plain": [
              "<Figure size 360x72 with 1 Axes>"
            ]
          },
          "metadata": {
            "needs_background": "light"
          }
        },
        {
          "output_type": "stream",
          "text": [
            "========== YOUNG FAMILIES - Budget ==========\n",
            "134.0    1674\n",
            "150.0    2749\n",
            "175.0    4800\n",
            "Name: pack_sizes, dtype: int64\n"
          ],
          "name": "stdout"
        },
        {
          "output_type": "execute_result",
          "data": {
            "text/plain": [
              "<Figure size 432x288 with 0 Axes>"
            ]
          },
          "metadata": {},
          "execution_count": 103
        },
        {
          "output_type": "execute_result",
          "data": {
            "text/plain": [
              "<matplotlib.axes._subplots.AxesSubplot at 0x7f4fd63ac110>"
            ]
          },
          "metadata": {},
          "execution_count": 103
        },
        {
          "output_type": "display_data",
          "data": {
            "image/png": "[encoded data removed]",
            "text/plain": [
              "<Figure size 360x72 with 1 Axes>"
            ]
          },
          "metadata": {
            "needs_background": "light"
          }
        },
        {
          "output_type": "stream",
          "text": [
            "========== YOUNG FAMILIES - Mainstream ==========\n",
            "134.0    1148\n",
            "150.0    1927\n",
            "175.0    3087\n",
            "Name: pack_sizes, dtype: int64\n"
          ],
          "name": "stdout"
        },
        {
          "output_type": "execute_result",
          "data": {
            "text/plain": [
              "<Figure size 432x288 with 0 Axes>"
            ]
          },
          "metadata": {},
          "execution_count": 103
        },
        {
          "output_type": "execute_result",
          "data": {
            "text/plain": [
              "<matplotlib.axes._subplots.AxesSubplot at 0x7f4fd63cd750>"
            ]
          },
          "metadata": {},
          "execution_count": 103
        },
        {
          "output_type": "display_data",
          "data": {
            "image/png": "[encoded data removed]",
            "text/plain": [
              "<Figure size 360x72 with 1 Axes>"
            ]
          },
          "metadata": {
            "needs_background": "light"
          }
        }
      ]
    },
    {
      "cell_type": "code",
      "metadata": {
        "colab": {
          "base_uri": "https://localhost:8080/",
          "height": 297
        },
        "id": "5mXjtBFXgZc2",
        "outputId": "1ad62101-7bc6-4046-cbb4-2f81ea6f4d61"
      },
      "source": [
        "(mdf5.groupby([\"LIFESTAGE\", \"PREMIUM_CUSTOMER\"])[\"PROD_QTY\"].sum() / mdf5.groupby([\"LIFESTAGE\", \"PREMIUM_CUSTOMER\"])[\"LYLTY_CARD_NBR\"].nunique()).unstack().plot.bar(figsize=(15,4), rot=0)\n",
        "plt.legend(loc=\"center left\", bbox_to_anchor=(1.0, 0.5))\n",
        "plt.savefig(\"Average purchase quantity per segment.png\", bbox_inches=\"tight\")"
      ],
      "execution_count": 104,
      "outputs": [
        {
          "output_type": "execute_result",
          "data": {
            "text/plain": [
              "<matplotlib.axes._subplots.AxesSubplot at 0x7f4fd58b4350>"
            ]
          },
          "metadata": {},
          "execution_count": 104
        },
        {
          "output_type": "execute_result",
          "data": {
            "text/plain": [
              "<matplotlib.legend.Legend at 0x7f4fd63bc1d0>"
            ]
          },
          "metadata": {},
          "execution_count": 104
        },
        {
          "output_type": "display_data",
          "data": {
            "image/png": "[encoded data removed]",
            "text/plain": [
              "<Figure size 1080x288 with 1 Axes>"
            ]
          },
          "metadata": {
            "needs_background": "light"
          }
        }
      ]
    },
    {
      "cell_type": "code",
      "metadata": {
        "colab": {
          "base_uri": "https://localhost:8080/",
          "height": 0
        },
        "id": "3LX3RxBLg6bu",
        "outputId": "6ee994d3-5d8c-4f01-c23e-c71ba4faf097"
      },
      "source": [
        "#Average chips price per transaction by segments\n",
        "mdf5[\"Unit_Price\"] = mdf5[\"TOT_SALES\"] / mdf5[\"PROD_QTY\"]\n",
        "mdf5.groupby([\"Segment\"]).mean()[\"Unit_Price\"].sort_values(ascending=False)"
      ],
      "execution_count": 105,
      "outputs": [
        {
          "output_type": "stream",
          "text": [
            "/usr/local/lib/python3.7/dist-packages/ipykernel_launcher.py:2: SettingWithCopyWarning: \n",
            "A value is trying to be set on a copy of a slice from a DataFrame.\n",
            "Try using .loc[row_indexer,col_indexer] = value instead\n",
            "\n",
            "See the caveats in the documentation: https://pandas.pydata.org/pandas-docs/stable/user_guide/indexing.html#returning-a-view-versus-a-copy\n",
            "  \n"
          ],
          "name": "stderr"
        },
        {
          "output_type": "execute_result",
          "data": {
            "text/plain": [
              "Segment\n",
              "YOUNG SINGLES/COUPLES - Mainstream     4.065633\n",
              "MIDAGE SINGLES/COUPLES - Mainstream    3.994186\n",
              "RETIREES - Budget                      3.924371\n",
              "RETIREES - Premium                     3.920960\n",
              "NEW FAMILIES - Budget                  3.917688\n",
              "NEW FAMILIES - Mainstream              3.916133\n",
              "OLDER SINGLES/COUPLES - Premium        3.893362\n",
              "OLDER SINGLES/COUPLES - Budget         3.882096\n",
              "NEW FAMILIES - Premium                 3.872110\n",
              "RETIREES - Mainstream                  3.844294\n",
              "OLDER SINGLES/COUPLES - Mainstream     3.814761\n",
              "MIDAGE SINGLES/COUPLES - Premium       3.770698\n",
              "YOUNG FAMILIES - Premium               3.762150\n",
              "YOUNG FAMILIES - Budget                3.760735\n",
              "OLDER FAMILIES - Budget                3.745310\n",
              "MIDAGE SINGLES/COUPLES - Budget        3.743328\n",
              "OLDER FAMILIES - Mainstream            3.737077\n",
              "YOUNG FAMILIES - Mainstream            3.724594\n",
              "OLDER FAMILIES - Premium               3.717000\n",
              "YOUNG SINGLES/COUPLES - Premium        3.665414\n",
              "YOUNG SINGLES/COUPLES - Budget         3.657671\n",
              "Name: Unit_Price, dtype: float64"
            ]
          },
          "metadata": {},
          "execution_count": 105
        }
      ]
    },
    {
      "cell_type": "code",
      "metadata": {
        "colab": {
          "base_uri": "https://localhost:8080/",
          "height": 665
        },
        "id": "kH3Mu7C8hRHG",
        "outputId": "a6d08188-1fa2-4657-dd29-9a687dc13f72"
      },
      "source": [
        "z = mdf5.groupby([\"Segment\", \"Cleaned_Brand_Names\"]).sum()[\"TOT_SALES\"].sort_values(ascending=False).reset_index()\n",
        "z[z[\"Segment\"] == \"YOUNG SINGLES/COUPLES - Mainstream\"]"
      ],
      "execution_count": 106,
      "outputs": [
        {
          "output_type": "execute_result",
          "data": {
            "text/html": [
              "<div>\n",
              "<style scoped>\n",
              "    .dataframe tbody tr th:only-of-type {\n",
              "        vertical-align: middle;\n",
              "    }\n",
              "\n",
              "    .dataframe tbody tr th {\n",
              "        vertical-align: top;\n",
              "    }\n",
              "\n",
              "    .dataframe thead th {\n",
              "        text-align: right;\n",
              "    }\n",
              "</style>\n",
              "<table border=\"1\" class=\"dataframe\">\n",
              "  <thead>\n",
              "    <tr style=\"text-align: right;\">\n",
              "      <th></th>\n",
              "      <th>Segment</th>\n",
              "      <th>Cleaned_Brand_Names</th>\n",
              "      <th>TOT_SALES</th>\n",
              "    </tr>\n",
              "  </thead>\n",
              "  <tbody>\n",
              "    <tr>\n",
              "      <th>0</th>\n",
              "      <td>YOUNG SINGLES/COUPLES - Mainstream</td>\n",
              "      <td>Kettle</td>\n",
              "      <td>35419.0</td>\n",
              "    </tr>\n",
              "    <tr>\n",
              "      <th>8</th>\n",
              "      <td>YOUNG SINGLES/COUPLES - Mainstream</td>\n",
              "      <td>Doritos</td>\n",
              "      <td>20925.9</td>\n",
              "    </tr>\n",
              "    <tr>\n",
              "      <th>22</th>\n",
              "      <td>YOUNG SINGLES/COUPLES - Mainstream</td>\n",
              "      <td>Pringles</td>\n",
              "      <td>16002.5</td>\n",
              "    </tr>\n",
              "    <tr>\n",
              "      <th>24</th>\n",
              "      <td>YOUNG SINGLES/COUPLES - Mainstream</td>\n",
              "      <td>Smiths</td>\n",
              "      <td>14958.9</td>\n",
              "    </tr>\n",
              "    <tr>\n",
              "      <th>54</th>\n",
              "      <td>YOUNG SINGLES/COUPLES - Mainstream</td>\n",
              "      <td>Infuzions</td>\n",
              "      <td>8749.4</td>\n",
              "    </tr>\n",
              "    <tr>\n",
              "      <th>61</th>\n",
              "      <td>YOUNG SINGLES/COUPLES - Mainstream</td>\n",
              "      <td>Twisties</td>\n",
              "      <td>7539.8</td>\n",
              "    </tr>\n",
              "    <tr>\n",
              "      <th>69</th>\n",
              "      <td>YOUNG SINGLES/COUPLES - Mainstream</td>\n",
              "      <td>Tostitos</td>\n",
              "      <td>7238.0</td>\n",
              "    </tr>\n",
              "    <tr>\n",
              "      <th>70</th>\n",
              "      <td>YOUNG SINGLES/COUPLES - Mainstream</td>\n",
              "      <td>Thins</td>\n",
              "      <td>7217.1</td>\n",
              "    </tr>\n",
              "    <tr>\n",
              "      <th>84</th>\n",
              "      <td>YOUNG SINGLES/COUPLES - Mainstream</td>\n",
              "      <td>Cobs</td>\n",
              "      <td>6144.6</td>\n",
              "    </tr>\n",
              "    <tr>\n",
              "      <th>115</th>\n",
              "      <td>YOUNG SINGLES/COUPLES - Mainstream</td>\n",
              "      <td>Tyrrells</td>\n",
              "      <td>4800.6</td>\n",
              "    </tr>\n",
              "    <tr>\n",
              "      <th>122</th>\n",
              "      <td>YOUNG SINGLES/COUPLES - Mainstream</td>\n",
              "      <td>RRD</td>\n",
              "      <td>4509.9</td>\n",
              "    </tr>\n",
              "    <tr>\n",
              "      <th>136</th>\n",
              "      <td>YOUNG SINGLES/COUPLES - Mainstream</td>\n",
              "      <td>Grain Waves</td>\n",
              "      <td>4201.0</td>\n",
              "    </tr>\n",
              "    <tr>\n",
              "      <th>172</th>\n",
              "      <td>YOUNG SINGLES/COUPLES - Mainstream</td>\n",
              "      <td>Cheezels</td>\n",
              "      <td>3318.3</td>\n",
              "    </tr>\n",
              "    <tr>\n",
              "      <th>227</th>\n",
              "      <td>YOUNG SINGLES/COUPLES - Mainstream</td>\n",
              "      <td>Natural Chip Co</td>\n",
              "      <td>2130.0</td>\n",
              "    </tr>\n",
              "    <tr>\n",
              "      <th>258</th>\n",
              "      <td>YOUNG SINGLES/COUPLES - Mainstream</td>\n",
              "      <td>Woolworths</td>\n",
              "      <td>1605.8</td>\n",
              "    </tr>\n",
              "    <tr>\n",
              "      <th>298</th>\n",
              "      <td>YOUNG SINGLES/COUPLES - Mainstream</td>\n",
              "      <td>Cheetos</td>\n",
              "      <td>898.8</td>\n",
              "    </tr>\n",
              "    <tr>\n",
              "      <th>308</th>\n",
              "      <td>YOUNG SINGLES/COUPLES - Mainstream</td>\n",
              "      <td>CCs</td>\n",
              "      <td>850.5</td>\n",
              "    </tr>\n",
              "    <tr>\n",
              "      <th>362</th>\n",
              "      <td>YOUNG SINGLES/COUPLES - Mainstream</td>\n",
              "      <td>French</td>\n",
              "      <td>429.0</td>\n",
              "    </tr>\n",
              "    <tr>\n",
              "      <th>371</th>\n",
              "      <td>YOUNG SINGLES/COUPLES - Mainstream</td>\n",
              "      <td>Sunbites</td>\n",
              "      <td>391.0</td>\n",
              "    </tr>\n",
              "    <tr>\n",
              "      <th>394</th>\n",
              "      <td>YOUNG SINGLES/COUPLES - Mainstream</td>\n",
              "      <td>Burger</td>\n",
              "      <td>243.8</td>\n",
              "    </tr>\n",
              "  </tbody>\n",
              "</table>\n",
              "</div>"
            ],
            "text/plain": [
              "                                Segment Cleaned_Brand_Names  TOT_SALES\n",
              "0    YOUNG SINGLES/COUPLES - Mainstream              Kettle    35419.0\n",
              "8    YOUNG SINGLES/COUPLES - Mainstream             Doritos    20925.9\n",
              "22   YOUNG SINGLES/COUPLES - Mainstream            Pringles    16002.5\n",
              "24   YOUNG SINGLES/COUPLES - Mainstream              Smiths    14958.9\n",
              "54   YOUNG SINGLES/COUPLES - Mainstream           Infuzions     8749.4\n",
              "61   YOUNG SINGLES/COUPLES - Mainstream            Twisties     7539.8\n",
              "69   YOUNG SINGLES/COUPLES - Mainstream            Tostitos     7238.0\n",
              "70   YOUNG SINGLES/COUPLES - Mainstream               Thins     7217.1\n",
              "84   YOUNG SINGLES/COUPLES - Mainstream                Cobs     6144.6\n",
              "115  YOUNG SINGLES/COUPLES - Mainstream            Tyrrells     4800.6\n",
              "122  YOUNG SINGLES/COUPLES - Mainstream                 RRD     4509.9\n",
              "136  YOUNG SINGLES/COUPLES - Mainstream         Grain Waves     4201.0\n",
              "172  YOUNG SINGLES/COUPLES - Mainstream            Cheezels     3318.3\n",
              "227  YOUNG SINGLES/COUPLES - Mainstream     Natural Chip Co     2130.0\n",
              "258  YOUNG SINGLES/COUPLES - Mainstream          Woolworths     1605.8\n",
              "298  YOUNG SINGLES/COUPLES - Mainstream             Cheetos      898.8\n",
              "308  YOUNG SINGLES/COUPLES - Mainstream                 CCs      850.5\n",
              "362  YOUNG SINGLES/COUPLES - Mainstream              French      429.0\n",
              "371  YOUNG SINGLES/COUPLES - Mainstream            Sunbites      391.0\n",
              "394  YOUNG SINGLES/COUPLES - Mainstream              Burger      243.8"
            ]
          },
          "metadata": {},
          "execution_count": 106
        }
      ]
    },
    {
      "cell_type": "code",
      "metadata": {
        "colab": {
          "base_uri": "https://localhost:8080/",
          "height": 354
        },
        "id": "0-hPXJB13ovU",
        "outputId": "0236fd85-bead-4e29-8051-9dac9487bb43"
      },
      "source": [
        "mdf5.head()"
      ],
      "execution_count": 107,
      "outputs": [
        {
          "output_type": "execute_result",
          "data": {
            "text/html": [
              "<div>\n",
              "<style scoped>\n",
              "    .dataframe tbody tr th:only-of-type {\n",
              "        vertical-align: middle;\n",
              "    }\n",
              "\n",
              "    .dataframe tbody tr th {\n",
              "        vertical-align: top;\n",
              "    }\n",
              "\n",
              "    .dataframe thead th {\n",
              "        text-align: right;\n",
              "    }\n",
              "</style>\n",
              "<table border=\"1\" class=\"dataframe\">\n",
              "  <thead>\n",
              "    <tr style=\"text-align: right;\">\n",
              "      <th></th>\n",
              "      <th>LYLTY_CARD_NBR</th>\n",
              "      <th>TXN_ID</th>\n",
              "      <th>LIFESTAGE</th>\n",
              "      <th>PREMIUM_CUSTOMER</th>\n",
              "      <th>DATE</th>\n",
              "      <th>STORE_NBR</th>\n",
              "      <th>PROD_NBR</th>\n",
              "      <th>PROD_QTY</th>\n",
              "      <th>Cleaned_Brand_Names</th>\n",
              "      <th>pack_sizes</th>\n",
              "      <th>TOT_SALES</th>\n",
              "      <th>Segment</th>\n",
              "      <th>Unit_Price</th>\n",
              "    </tr>\n",
              "  </thead>\n",
              "  <tbody>\n",
              "    <tr>\n",
              "      <th>0</th>\n",
              "      <td>1000</td>\n",
              "      <td>1</td>\n",
              "      <td>YOUNG SINGLES/COUPLES</td>\n",
              "      <td>Premium</td>\n",
              "      <td>2018-10-17</td>\n",
              "      <td>1</td>\n",
              "      <td>5</td>\n",
              "      <td>2</td>\n",
              "      <td>Natural Chip Co</td>\n",
              "      <td>175.0</td>\n",
              "      <td>6.0</td>\n",
              "      <td>YOUNG SINGLES/COUPLES - Premium</td>\n",
              "      <td>3.00</td>\n",
              "    </tr>\n",
              "    <tr>\n",
              "      <th>1</th>\n",
              "      <td>1307</td>\n",
              "      <td>348</td>\n",
              "      <td>MIDAGE SINGLES/COUPLES</td>\n",
              "      <td>Budget</td>\n",
              "      <td>2019-05-14</td>\n",
              "      <td>1</td>\n",
              "      <td>66</td>\n",
              "      <td>3</td>\n",
              "      <td>CCs</td>\n",
              "      <td>175.0</td>\n",
              "      <td>6.3</td>\n",
              "      <td>MIDAGE SINGLES/COUPLES - Budget</td>\n",
              "      <td>2.10</td>\n",
              "    </tr>\n",
              "    <tr>\n",
              "      <th>2</th>\n",
              "      <td>1307</td>\n",
              "      <td>346</td>\n",
              "      <td>MIDAGE SINGLES/COUPLES</td>\n",
              "      <td>Budget</td>\n",
              "      <td>2018-11-10</td>\n",
              "      <td>1</td>\n",
              "      <td>96</td>\n",
              "      <td>2</td>\n",
              "      <td>Woolworths</td>\n",
              "      <td>160.0</td>\n",
              "      <td>3.8</td>\n",
              "      <td>MIDAGE SINGLES/COUPLES - Budget</td>\n",
              "      <td>1.90</td>\n",
              "    </tr>\n",
              "    <tr>\n",
              "      <th>3</th>\n",
              "      <td>1307</td>\n",
              "      <td>347</td>\n",
              "      <td>MIDAGE SINGLES/COUPLES</td>\n",
              "      <td>Budget</td>\n",
              "      <td>2019-03-09</td>\n",
              "      <td>1</td>\n",
              "      <td>54</td>\n",
              "      <td>1</td>\n",
              "      <td>CCs</td>\n",
              "      <td>175.0</td>\n",
              "      <td>2.1</td>\n",
              "      <td>MIDAGE SINGLES/COUPLES - Budget</td>\n",
              "      <td>2.10</td>\n",
              "    </tr>\n",
              "    <tr>\n",
              "      <th>4</th>\n",
              "      <td>1343</td>\n",
              "      <td>383</td>\n",
              "      <td>MIDAGE SINGLES/COUPLES</td>\n",
              "      <td>Budget</td>\n",
              "      <td>2019-05-20</td>\n",
              "      <td>1</td>\n",
              "      <td>61</td>\n",
              "      <td>2</td>\n",
              "      <td>Smiths</td>\n",
              "      <td>170.0</td>\n",
              "      <td>2.9</td>\n",
              "      <td>MIDAGE SINGLES/COUPLES - Budget</td>\n",
              "      <td>1.45</td>\n",
              "    </tr>\n",
              "  </tbody>\n",
              "</table>\n",
              "</div>"
            ],
            "text/plain": [
              "   LYLTY_CARD_NBR  TXN_ID               LIFESTAGE PREMIUM_CUSTOMER       DATE  \\\n",
              "0            1000       1   YOUNG SINGLES/COUPLES          Premium 2018-10-17   \n",
              "1            1307     348  MIDAGE SINGLES/COUPLES           Budget 2019-05-14   \n",
              "2            1307     346  MIDAGE SINGLES/COUPLES           Budget 2018-11-10   \n",
              "3            1307     347  MIDAGE SINGLES/COUPLES           Budget 2019-03-09   \n",
              "4            1343     383  MIDAGE SINGLES/COUPLES           Budget 2019-05-20   \n",
              "\n",
              "   STORE_NBR  PROD_NBR  PROD_QTY Cleaned_Brand_Names  pack_sizes  TOT_SALES  \\\n",
              "0          1         5         2     Natural Chip Co       175.0        6.0   \n",
              "1          1        66         3                 CCs       175.0        6.3   \n",
              "2          1        96         2          Woolworths       160.0        3.8   \n",
              "3          1        54         1                 CCs       175.0        2.1   \n",
              "4          1        61         2              Smiths       170.0        2.9   \n",
              "\n",
              "                           Segment  Unit_Price  \n",
              "0  YOUNG SINGLES/COUPLES - Premium        3.00  \n",
              "1  MIDAGE SINGLES/COUPLES - Budget        2.10  \n",
              "2  MIDAGE SINGLES/COUPLES - Budget        1.90  \n",
              "3  MIDAGE SINGLES/COUPLES - Budget        2.10  \n",
              "4  MIDAGE SINGLES/COUPLES - Budget        1.45  "
            ]
          },
          "metadata": {},
          "execution_count": 107
        }
      ]
    },
    {
      "cell_type": "code",
      "metadata": {
        "id": "3g5AC4pD3uDe"
      },
      "source": [
        "mdf7 = mdf5.loc[:,(\"DATE\",\"Segment\",\"Cleaned_Brand_Names\",\"pack_sizes\",\"PROD_QTY\",\"TOT_SALES\")]"
      ],
      "execution_count": 108,
      "outputs": []
    },
    {
      "cell_type": "code",
      "metadata": {
        "id": "bvmNG_RL4gPm"
      },
      "source": [
        "mdf7.to_csv(\"final_data\")"
      ],
      "execution_count": 109,
      "outputs": []
    }
  ]
}